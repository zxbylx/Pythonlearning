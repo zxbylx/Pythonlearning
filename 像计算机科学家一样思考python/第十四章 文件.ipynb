{
 "cells": [
  {
   "cell_type": "code",
   "execution_count": 1,
   "metadata": {},
   "outputs": [
    {
     "name": "stdout",
     "output_type": "stream",
     "text": [
      "<_io.TextIOWrapper name='output.txt' mode='w' encoding='cp936'>\n"
     ]
    }
   ],
   "source": [
    "#读和写\n",
    "fout=open('output.txt','w')\n",
    "print(fout)"
   ]
  },
  {
   "cell_type": "code",
   "execution_count": 3,
   "metadata": {},
   "outputs": [
    {
     "data": {
      "text/plain": [
       "23"
      ]
     },
     "execution_count": 3,
     "metadata": {},
     "output_type": "execute_result"
    }
   ],
   "source": [
    "line1=\"This here's the wttle,\\n\"\n",
    "fout.write(line1)\n"
   ]
  },
  {
   "cell_type": "code",
   "execution_count": 4,
   "metadata": {},
   "outputs": [],
   "source": [
    "fout.close()"
   ]
  },
  {
   "cell_type": "code",
   "execution_count": 5,
   "metadata": {},
   "outputs": [
    {
     "data": {
      "text/plain": [
       "'42'"
      ]
     },
     "execution_count": 5,
     "metadata": {},
     "output_type": "execute_result"
    }
   ],
   "source": [
    "#格式操作符\n",
    "camels=42\n",
    "'%d'%camels"
   ]
  },
  {
   "cell_type": "code",
   "execution_count": 6,
   "metadata": {},
   "outputs": [
    {
     "data": {
      "text/plain": [
       "'I have spotted 42 camels.'"
      ]
     },
     "execution_count": 6,
     "metadata": {},
     "output_type": "execute_result"
    }
   ],
   "source": [
    "camels=42\n",
    "'I have spotted %d camels.'%camels"
   ]
  },
  {
   "cell_type": "code",
   "execution_count": 7,
   "metadata": {},
   "outputs": [
    {
     "data": {
      "text/plain": [
       "'In 3 year I have spotted 0.1 camels.'"
      ]
     },
     "execution_count": 7,
     "metadata": {},
     "output_type": "execute_result"
    }
   ],
   "source": [
    "#'%d'格式化整数,'%g'格式化浮点数，'%s'格式化字符串\n",
    "'In %d year I have spotted %g %s.'%(3,0.1,'camels')"
   ]
  },
  {
   "cell_type": "code",
   "execution_count": 8,
   "metadata": {},
   "outputs": [
    {
     "ename": "TypeError",
     "evalue": "not enough arguments for format string",
     "output_type": "error",
     "traceback": [
      "\u001b[1;31m---------------------------------------------------------------------------\u001b[0m",
      "\u001b[1;31mTypeError\u001b[0m                                 Traceback (most recent call last)",
      "\u001b[1;32m<ipython-input-8-c9066aaeeec0>\u001b[0m in \u001b[0;36m<module>\u001b[1;34m\u001b[0m\n\u001b[1;32m----> 1\u001b[1;33m \u001b[1;34m'%d %d %d'\u001b[0m\u001b[1;33m%\u001b[0m\u001b[1;33m(\u001b[0m\u001b[1;36m1\u001b[0m\u001b[1;33m,\u001b[0m\u001b[1;36m2\u001b[0m\u001b[1;33m)\u001b[0m\u001b[1;33m\u001b[0m\u001b[1;33m\u001b[0m\u001b[0m\n\u001b[0m",
      "\u001b[1;31mTypeError\u001b[0m: not enough arguments for format string"
     ]
    }
   ],
   "source": [
    "'%d %d %d'%(1,2)#两边个数必须相等"
   ]
  },
  {
   "cell_type": "code",
   "execution_count": 9,
   "metadata": {},
   "outputs": [
    {
     "ename": "TypeError",
     "evalue": "%d format: a number is required, not str",
     "output_type": "error",
     "traceback": [
      "\u001b[1;31m---------------------------------------------------------------------------\u001b[0m",
      "\u001b[1;31mTypeError\u001b[0m                                 Traceback (most recent call last)",
      "\u001b[1;32m<ipython-input-9-3e9f7bc91415>\u001b[0m in \u001b[0;36m<module>\u001b[1;34m\u001b[0m\n\u001b[1;32m----> 1\u001b[1;33m \u001b[1;34m'%d'\u001b[0m\u001b[1;33m%\u001b[0m\u001b[1;34m'dollors'\u001b[0m\u001b[1;33m\u001b[0m\u001b[1;33m\u001b[0m\u001b[0m\n\u001b[0m",
      "\u001b[1;31mTypeError\u001b[0m: %d format: a number is required, not str"
     ]
    }
   ],
   "source": [
    "'%d'%'dollors'#类型也要一致"
   ]
  },
  {
   "cell_type": "code",
   "execution_count": 13,
   "metadata": {},
   "outputs": [
    {
     "data": {
      "text/plain": [
       "'E:\\\\jupyter notebook\\\\数据分析师\\\\像计算机科学家一样思考python'"
      ]
     },
     "execution_count": 13,
     "metadata": {},
     "output_type": "execute_result"
    }
   ],
   "source": [
    "#文件名和路径\n",
    "import os\n",
    "os.getcwd()\n"
   ]
  },
  {
   "cell_type": "code",
   "execution_count": 11,
   "metadata": {},
   "outputs": [
    {
     "ename": "NameError",
     "evalue": "name 'cdw' is not defined",
     "output_type": "error",
     "traceback": [
      "\u001b[1;31m---------------------------------------------------------------------------\u001b[0m",
      "\u001b[1;31mNameError\u001b[0m                                 Traceback (most recent call last)",
      "\u001b[1;32m<ipython-input-11-1f924287f666>\u001b[0m in \u001b[0;36m<module>\u001b[1;34m\u001b[0m\n\u001b[1;32m----> 1\u001b[1;33m \u001b[0mprint\u001b[0m\u001b[1;33m(\u001b[0m\u001b[0mcdw\u001b[0m\u001b[1;33m)\u001b[0m\u001b[1;33m\u001b[0m\u001b[1;33m\u001b[0m\u001b[0m\n\u001b[0m",
      "\u001b[1;31mNameError\u001b[0m: name 'cdw' is not defined"
     ]
    }
   ],
   "source": [
    "print(cdw)"
   ]
  },
  {
   "cell_type": "code",
   "execution_count": 14,
   "metadata": {},
   "outputs": [
    {
     "data": {
      "text/plain": [
       "'E:\\\\jupyter notebook\\\\数据分析师\\\\像计算机科学家一样思考python\\\\ceshi.txt'"
      ]
     },
     "execution_count": 14,
     "metadata": {},
     "output_type": "execute_result"
    }
   ],
   "source": [
    "os.path.abspath('ceshi.txt')#os.path.abspath寻找绝对路径"
   ]
  },
  {
   "cell_type": "code",
   "execution_count": 15,
   "metadata": {},
   "outputs": [
    {
     "data": {
      "text/plain": [
       "False"
      ]
     },
     "execution_count": 15,
     "metadata": {},
     "output_type": "execute_result"
    }
   ],
   "source": [
    "#检查一个文件或目录是否存在\n",
    "os.path.exists('memo.txt')"
   ]
  },
  {
   "cell_type": "code",
   "execution_count": 16,
   "metadata": {},
   "outputs": [
    {
     "data": {
      "text/plain": [
       "False"
      ]
     },
     "execution_count": 16,
     "metadata": {},
     "output_type": "execute_result"
    }
   ],
   "source": [
    "#os.path.isdir检查它是否为目录\n",
    "os.path.isdir('words.txt')"
   ]
  },
  {
   "cell_type": "code",
   "execution_count": 17,
   "metadata": {},
   "outputs": [
    {
     "data": {
      "text/plain": [
       "True"
      ]
     },
     "execution_count": 17,
     "metadata": {},
     "output_type": "execute_result"
    }
   ],
   "source": [
    "#os.path.isfile检查它是否为文件\n",
    "os.path.isfile('words.txt')"
   ]
  },
  {
   "cell_type": "code",
   "execution_count": 19,
   "metadata": {},
   "outputs": [
    {
     "data": {
      "text/plain": [
       "['.ipynb_checkpoints',\n",
       " 'ceshi.py',\n",
       " 'ceshi.txt',\n",
       " 'output.txt',\n",
       " 'powhatan.txt',\n",
       " 'structshape.py',\n",
       " 'Untitled.ipynb',\n",
       " 'Untitled1.ipynb',\n",
       " 'words.txt',\n",
       " '__pycache__',\n",
       " '第七章 迭代.ipynb',\n",
       " '第五章  条件和递归.ipynb',\n",
       " '第五章练习.py',\n",
       " '第八章 字符串.ipynb',\n",
       " '第六章 有返回函数.ipynb',\n",
       " '第十一章 字典.ipynb',\n",
       " '第十三章 选择数据结构.ipynb',\n",
       " '第十二章 元组.ipynb',\n",
       " '第十四章 文件.ipynb',\n",
       " '第十章 列表.ipynb']"
      ]
     },
     "execution_count": 19,
     "metadata": {},
     "output_type": "execute_result"
    }
   ],
   "source": [
    "cwd=os.getcwd()\n",
    "os.listdir(cwd)#返回指定目录中文件的列表"
   ]
  },
  {
   "cell_type": "code",
   "execution_count": 20,
   "metadata": {},
   "outputs": [
    {
     "name": "stdout",
     "output_type": "stream",
     "text": [
      "E:\\jupyter notebook\\数据分析师\\像计算机科学家一样思考python\\.ipynb_checkpoints\\Untitled-checkpoint.ipynb\n",
      "E:\\jupyter notebook\\数据分析师\\像计算机科学家一样思考python\\.ipynb_checkpoints\\Untitled1-checkpoint.ipynb\n",
      "E:\\jupyter notebook\\数据分析师\\像计算机科学家一样思考python\\.ipynb_checkpoints\\第七章 迭代-checkpoint.ipynb\n",
      "E:\\jupyter notebook\\数据分析师\\像计算机科学家一样思考python\\.ipynb_checkpoints\\第五章  条件和递归-checkpoint.ipynb\n",
      "E:\\jupyter notebook\\数据分析师\\像计算机科学家一样思考python\\.ipynb_checkpoints\\第八章 字符串-checkpoint.ipynb\n",
      "E:\\jupyter notebook\\数据分析师\\像计算机科学家一样思考python\\.ipynb_checkpoints\\第六章 有返回函数-checkpoint.ipynb\n",
      "E:\\jupyter notebook\\数据分析师\\像计算机科学家一样思考python\\.ipynb_checkpoints\\第十一章 字典-checkpoint.ipynb\n",
      "E:\\jupyter notebook\\数据分析师\\像计算机科学家一样思考python\\.ipynb_checkpoints\\第十三章 选择数据结构-checkpoint.ipynb\n",
      "E:\\jupyter notebook\\数据分析师\\像计算机科学家一样思考python\\.ipynb_checkpoints\\第十二章 元组-checkpoint.ipynb\n",
      "E:\\jupyter notebook\\数据分析师\\像计算机科学家一样思考python\\.ipynb_checkpoints\\第十四章 文件-checkpoint.ipynb\n",
      "E:\\jupyter notebook\\数据分析师\\像计算机科学家一样思考python\\.ipynb_checkpoints\\第十章 列表-checkpoint.ipynb\n",
      "E:\\jupyter notebook\\数据分析师\\像计算机科学家一样思考python\\ceshi.py\n",
      "E:\\jupyter notebook\\数据分析师\\像计算机科学家一样思考python\\ceshi.txt\n",
      "E:\\jupyter notebook\\数据分析师\\像计算机科学家一样思考python\\output.txt\n",
      "E:\\jupyter notebook\\数据分析师\\像计算机科学家一样思考python\\powhatan.txt\n",
      "E:\\jupyter notebook\\数据分析师\\像计算机科学家一样思考python\\structshape.py\n",
      "E:\\jupyter notebook\\数据分析师\\像计算机科学家一样思考python\\Untitled.ipynb\n",
      "E:\\jupyter notebook\\数据分析师\\像计算机科学家一样思考python\\Untitled1.ipynb\n",
      "E:\\jupyter notebook\\数据分析师\\像计算机科学家一样思考python\\words.txt\n",
      "E:\\jupyter notebook\\数据分析师\\像计算机科学家一样思考python\\__pycache__\\structshape.cpython-37.pyc\n",
      "E:\\jupyter notebook\\数据分析师\\像计算机科学家一样思考python\\第七章 迭代.ipynb\n",
      "E:\\jupyter notebook\\数据分析师\\像计算机科学家一样思考python\\第五章  条件和递归.ipynb\n",
      "E:\\jupyter notebook\\数据分析师\\像计算机科学家一样思考python\\第五章练习.py\n",
      "E:\\jupyter notebook\\数据分析师\\像计算机科学家一样思考python\\第八章 字符串.ipynb\n",
      "E:\\jupyter notebook\\数据分析师\\像计算机科学家一样思考python\\第六章 有返回函数.ipynb\n",
      "E:\\jupyter notebook\\数据分析师\\像计算机科学家一样思考python\\第十一章 字典.ipynb\n",
      "E:\\jupyter notebook\\数据分析师\\像计算机科学家一样思考python\\第十三章 选择数据结构.ipynb\n",
      "E:\\jupyter notebook\\数据分析师\\像计算机科学家一样思考python\\第十二章 元组.ipynb\n",
      "E:\\jupyter notebook\\数据分析师\\像计算机科学家一样思考python\\第十四章 文件.ipynb\n",
      "E:\\jupyter notebook\\数据分析师\\像计算机科学家一样思考python\\第十章 列表.ipynb\n"
     ]
    }
   ],
   "source": [
    "#走遍一个目录，打印所有文件的名称，并对之中的子目录递归调用自己\n",
    "def walk(dirname):\n",
    "    for name in os.listdir(dirname):\n",
    "        path=os.path.join(dirname,name)\n",
    "        \n",
    "        if os.path.isfile(path):\n",
    "            print(path)\n",
    "        else:\n",
    "            walk(path)\n",
    "walk(cwd)"
   ]
  },
  {
   "cell_type": "code",
   "execution_count": 22,
   "metadata": {},
   "outputs": [
    {
     "name": "stdout",
     "output_type": "stream",
     "text": [
      "E:\\jupyter notebook\\数据分析师\\像计算机科学家一样思考python ['.ipynb_checkpoints', '__pycache__'] ['ceshi.py', 'ceshi.txt', 'output.txt', 'powhatan.txt', 'structshape.py', 'Untitled.ipynb', 'Untitled1.ipynb', 'words.txt', '第七章 迭代.ipynb', '第五章  条件和递归.ipynb', '第五章练习.py', '第八章 字符串.ipynb', '第六章 有返回函数.ipynb', '第十一章 字典.ipynb', '第十三章 选择数据结构.ipynb', '第十二章 元组.ipynb', '第十四章 文件.ipynb', '第十章 列表.ipynb']\n",
      "E:\\jupyter notebook\\数据分析师\\像计算机科学家一样思考python\\.ipynb_checkpoints [] ['Untitled-checkpoint.ipynb', 'Untitled1-checkpoint.ipynb', '第七章 迭代-checkpoint.ipynb', '第五章  条件和递归-checkpoint.ipynb', '第八章 字符串-checkpoint.ipynb', '第六章 有返回函数-checkpoint.ipynb', '第十一章 字典-checkpoint.ipynb', '第十三章 选择数据结构-checkpoint.ipynb', '第十二章 元组-checkpoint.ipynb', '第十四章 文件-checkpoint.ipynb', '第十章 列表-checkpoint.ipynb']\n",
      "E:\\jupyter notebook\\数据分析师\\像计算机科学家一样思考python\\__pycache__ [] ['structshape.cpython-37.pyc']\n"
     ]
    }
   ],
   "source": [
    "#练习：使用os模块中walk函数打印指定目录汇总文件的名称和它的子目录\n",
    "for dirpath,dirnames,filenames in os.walk(cwd):\n",
    "    print(dirpath,dirnames,filenames)"
   ]
  },
  {
   "cell_type": "code",
   "execution_count": 23,
   "metadata": {},
   "outputs": [
    {
     "name": "stdout",
     "output_type": "stream",
     "text": [
      "E:\\jupyter notebook\\数据分析师\\像计算机科学家一样思考python\\ceshi.py\n",
      "E:\\jupyter notebook\\数据分析师\\像计算机科学家一样思考python\\ceshi.txt\n",
      "E:\\jupyter notebook\\数据分析师\\像计算机科学家一样思考python\\output.txt\n",
      "E:\\jupyter notebook\\数据分析师\\像计算机科学家一样思考python\\powhatan.txt\n",
      "E:\\jupyter notebook\\数据分析师\\像计算机科学家一样思考python\\structshape.py\n",
      "E:\\jupyter notebook\\数据分析师\\像计算机科学家一样思考python\\Untitled.ipynb\n",
      "E:\\jupyter notebook\\数据分析师\\像计算机科学家一样思考python\\Untitled1.ipynb\n",
      "E:\\jupyter notebook\\数据分析师\\像计算机科学家一样思考python\\words.txt\n",
      "E:\\jupyter notebook\\数据分析师\\像计算机科学家一样思考python\\第七章 迭代.ipynb\n",
      "E:\\jupyter notebook\\数据分析师\\像计算机科学家一样思考python\\第五章  条件和递归.ipynb\n",
      "E:\\jupyter notebook\\数据分析师\\像计算机科学家一样思考python\\第五章练习.py\n",
      "E:\\jupyter notebook\\数据分析师\\像计算机科学家一样思考python\\第八章 字符串.ipynb\n",
      "E:\\jupyter notebook\\数据分析师\\像计算机科学家一样思考python\\第六章 有返回函数.ipynb\n",
      "E:\\jupyter notebook\\数据分析师\\像计算机科学家一样思考python\\第十一章 字典.ipynb\n",
      "E:\\jupyter notebook\\数据分析师\\像计算机科学家一样思考python\\第十三章 选择数据结构.ipynb\n",
      "E:\\jupyter notebook\\数据分析师\\像计算机科学家一样思考python\\第十二章 元组.ipynb\n",
      "E:\\jupyter notebook\\数据分析师\\像计算机科学家一样思考python\\第十四章 文件.ipynb\n",
      "E:\\jupyter notebook\\数据分析师\\像计算机科学家一样思考python\\第十章 列表.ipynb\n",
      "E:\\jupyter notebook\\数据分析师\\像计算机科学家一样思考python\\.ipynb_checkpoints\\Untitled-checkpoint.ipynb\n",
      "E:\\jupyter notebook\\数据分析师\\像计算机科学家一样思考python\\.ipynb_checkpoints\\Untitled1-checkpoint.ipynb\n",
      "E:\\jupyter notebook\\数据分析师\\像计算机科学家一样思考python\\.ipynb_checkpoints\\第七章 迭代-checkpoint.ipynb\n",
      "E:\\jupyter notebook\\数据分析师\\像计算机科学家一样思考python\\.ipynb_checkpoints\\第五章  条件和递归-checkpoint.ipynb\n",
      "E:\\jupyter notebook\\数据分析师\\像计算机科学家一样思考python\\.ipynb_checkpoints\\第八章 字符串-checkpoint.ipynb\n",
      "E:\\jupyter notebook\\数据分析师\\像计算机科学家一样思考python\\.ipynb_checkpoints\\第六章 有返回函数-checkpoint.ipynb\n",
      "E:\\jupyter notebook\\数据分析师\\像计算机科学家一样思考python\\.ipynb_checkpoints\\第十一章 字典-checkpoint.ipynb\n",
      "E:\\jupyter notebook\\数据分析师\\像计算机科学家一样思考python\\.ipynb_checkpoints\\第十三章 选择数据结构-checkpoint.ipynb\n",
      "E:\\jupyter notebook\\数据分析师\\像计算机科学家一样思考python\\.ipynb_checkpoints\\第十二章 元组-checkpoint.ipynb\n",
      "E:\\jupyter notebook\\数据分析师\\像计算机科学家一样思考python\\.ipynb_checkpoints\\第十四章 文件-checkpoint.ipynb\n",
      "E:\\jupyter notebook\\数据分析师\\像计算机科学家一样思考python\\.ipynb_checkpoints\\第十章 列表-checkpoint.ipynb\n",
      "E:\\jupyter notebook\\数据分析师\\像计算机科学家一样思考python\\__pycache__\\structshape.cpython-37.pyc\n"
     ]
    }
   ],
   "source": [
    "for dirpath,dirnames,filenames in os.walk(cwd):\n",
    "    for filename in filenames:\n",
    "        print(os.path.join(dirpath,filename))"
   ]
  },
  {
   "cell_type": "code",
   "execution_count": 25,
   "metadata": {},
   "outputs": [
    {
     "name": "stdout",
     "output_type": "stream",
     "text": [
      "Something went wrong.\n"
     ]
    }
   ],
   "source": [
    "#捕获异常\n",
    "try:\n",
    "    fin=open('bad_file')\n",
    "    for line in fin:\n",
    "        print(line)\n",
    "    fin.close()\n",
    "except:\n",
    "    print('Something went wrong.')"
   ]
  },
  {
   "cell_type": "code",
   "execution_count": 34,
   "metadata": {},
   "outputs": [
    {
     "name": "stdout",
     "output_type": "stream",
     "text": [
      "Something went wrong\n"
     ]
    }
   ],
   "source": [
    "#练习：写一个函数sed，接收如下参数，一个模式字符串，一个替换用字符串，以及两个文件名；读取第一个文件，并将内容写入第二个\n",
    "#如果文件中任何地方出现了模式字符串，它应该被替换\n",
    "def sed(typstr,restr,file1,file2):\n",
    "    try:\n",
    "        fin=open(file1).read()\n",
    "        fout=open(file2,'w')\n",
    "        fout.write(fin%restr)\n",
    "        file1.close()\n",
    "        file2.close()\n",
    "    except:\n",
    "        print('Something went wrong')\n",
    "sed('%s','zhao','a.txt','b.txt')"
   ]
  },
  {
   "cell_type": "code",
   "execution_count": 31,
   "metadata": {},
   "outputs": [
    {
     "ename": "TypeError",
     "evalue": "write() argument must be str, not _io.TextIOWrapper",
     "output_type": "error",
     "traceback": [
      "\u001b[1;31m---------------------------------------------------------------------------\u001b[0m",
      "\u001b[1;31mTypeError\u001b[0m                                 Traceback (most recent call last)",
      "\u001b[1;32m<ipython-input-31-f986a2d23114>\u001b[0m in \u001b[0;36m<module>\u001b[1;34m\u001b[0m\n\u001b[0;32m      6\u001b[0m \u001b[1;33m\u001b[0m\u001b[0m\n\u001b[0;32m      7\u001b[0m \u001b[1;31m#         print('Something went wrong')\u001b[0m\u001b[1;33m\u001b[0m\u001b[1;33m\u001b[0m\u001b[1;33m\u001b[0m\u001b[0m\n\u001b[1;32m----> 8\u001b[1;33m \u001b[0msed\u001b[0m\u001b[1;33m(\u001b[0m\u001b[1;34m'words.txt'\u001b[0m\u001b[1;33m,\u001b[0m\u001b[1;34m'hello.txt'\u001b[0m\u001b[1;33m)\u001b[0m\u001b[1;33m\u001b[0m\u001b[1;33m\u001b[0m\u001b[0m\n\u001b[0m",
      "\u001b[1;32m<ipython-input-31-f986a2d23114>\u001b[0m in \u001b[0;36msed\u001b[1;34m(file1, file2)\u001b[0m\n\u001b[0;32m      3\u001b[0m     \u001b[0mfin\u001b[0m\u001b[1;33m=\u001b[0m\u001b[0mopen\u001b[0m\u001b[1;33m(\u001b[0m\u001b[0mfile1\u001b[0m\u001b[1;33m,\u001b[0m\u001b[1;34m'r'\u001b[0m\u001b[1;33m)\u001b[0m\u001b[1;33m\u001b[0m\u001b[1;33m\u001b[0m\u001b[0m\n\u001b[0;32m      4\u001b[0m     \u001b[0mfout\u001b[0m\u001b[1;33m=\u001b[0m\u001b[0mopen\u001b[0m\u001b[1;33m(\u001b[0m\u001b[0mfile2\u001b[0m\u001b[1;33m,\u001b[0m\u001b[1;34m'w'\u001b[0m\u001b[1;33m)\u001b[0m\u001b[1;33m\u001b[0m\u001b[1;33m\u001b[0m\u001b[0m\n\u001b[1;32m----> 5\u001b[1;33m     \u001b[0mfout\u001b[0m\u001b[1;33m.\u001b[0m\u001b[0mwrite\u001b[0m\u001b[1;33m(\u001b[0m\u001b[0mfin\u001b[0m\u001b[1;33m)\u001b[0m\u001b[1;33m\u001b[0m\u001b[1;33m\u001b[0m\u001b[0m\n\u001b[0m\u001b[0;32m      6\u001b[0m \u001b[1;33m\u001b[0m\u001b[0m\n\u001b[0;32m      7\u001b[0m \u001b[1;31m#         print('Something went wrong')\u001b[0m\u001b[1;33m\u001b[0m\u001b[1;33m\u001b[0m\u001b[1;33m\u001b[0m\u001b[0m\n",
      "\u001b[1;31mTypeError\u001b[0m: write() argument must be str, not _io.TextIOWrapper"
     ]
    }
   ],
   "source": [
    "def sed(file1,file2):\n",
    "    \n",
    "    fin=open(file1,'r')\n",
    "    fout=open(file2,'w')\n",
    "    fout.write(fin)\n",
    "    \n",
    "#         print('Something went wrong')\n",
    "sed('words.txt','hello.txt')"
   ]
  },
  {
   "cell_type": "code",
   "execution_count": 35,
   "metadata": {},
   "outputs": [
    {
     "ename": "AttributeError",
     "evalue": "'str' object has no attribute 'close'",
     "output_type": "error",
     "traceback": [
      "\u001b[1;31m---------------------------------------------------------------------------\u001b[0m",
      "\u001b[1;31mAttributeError\u001b[0m                            Traceback (most recent call last)",
      "\u001b[1;32m<ipython-input-35-440dad7d9561>\u001b[0m in \u001b[0;36m<module>\u001b[1;34m\u001b[0m\n\u001b[0;32m      8\u001b[0m \u001b[1;33m\u001b[0m\u001b[0m\n\u001b[0;32m      9\u001b[0m \u001b[1;31m#         print('Something went wrong')\u001b[0m\u001b[1;33m\u001b[0m\u001b[1;33m\u001b[0m\u001b[1;33m\u001b[0m\u001b[0m\n\u001b[1;32m---> 10\u001b[1;33m \u001b[0msed\u001b[0m\u001b[1;33m(\u001b[0m\u001b[1;34m'words.txt'\u001b[0m\u001b[1;33m,\u001b[0m\u001b[1;34m'hello1.txt'\u001b[0m\u001b[1;33m)\u001b[0m\u001b[1;33m\u001b[0m\u001b[1;33m\u001b[0m\u001b[0m\n\u001b[0m",
      "\u001b[1;32m<ipython-input-35-440dad7d9561>\u001b[0m in \u001b[0;36msed\u001b[1;34m(file1, file2)\u001b[0m\n\u001b[0;32m      4\u001b[0m     \u001b[0mfout\u001b[0m\u001b[1;33m=\u001b[0m\u001b[0mopen\u001b[0m\u001b[1;33m(\u001b[0m\u001b[0mfile2\u001b[0m\u001b[1;33m,\u001b[0m\u001b[1;34m'w'\u001b[0m\u001b[1;33m)\u001b[0m\u001b[1;33m\u001b[0m\u001b[1;33m\u001b[0m\u001b[0m\n\u001b[0;32m      5\u001b[0m     \u001b[0mfout\u001b[0m\u001b[1;33m.\u001b[0m\u001b[0mwrite\u001b[0m\u001b[1;33m(\u001b[0m\u001b[0mfin\u001b[0m\u001b[1;33m)\u001b[0m\u001b[1;33m\u001b[0m\u001b[1;33m\u001b[0m\u001b[0m\n\u001b[1;32m----> 6\u001b[1;33m     \u001b[0mfile1\u001b[0m\u001b[1;33m.\u001b[0m\u001b[0mclose\u001b[0m\u001b[1;33m(\u001b[0m\u001b[1;33m)\u001b[0m\u001b[1;33m\u001b[0m\u001b[1;33m\u001b[0m\u001b[0m\n\u001b[0m\u001b[0;32m      7\u001b[0m     \u001b[0mfile2\u001b[0m\u001b[1;33m.\u001b[0m\u001b[0mcolse\u001b[0m\u001b[1;33m(\u001b[0m\u001b[1;33m)\u001b[0m\u001b[1;33m\u001b[0m\u001b[1;33m\u001b[0m\u001b[0m\n\u001b[0;32m      8\u001b[0m \u001b[1;33m\u001b[0m\u001b[0m\n",
      "\u001b[1;31mAttributeError\u001b[0m: 'str' object has no attribute 'close'"
     ]
    }
   ],
   "source": [
    "def sed(file1,file2):\n",
    "    \n",
    "    fin=open(file1).read()\n",
    "    fout=open(file2,'w')\n",
    "    fout.write(fin)\n",
    "    file1.close()\n",
    "    file2.colse()\n",
    "    \n",
    "#         print('Something went wrong')\n",
    "sed('words.txt','hello1.txt')"
   ]
  },
  {
   "cell_type": "code",
   "execution_count": 50,
   "metadata": {},
   "outputs": [
    {
     "ename": "AttributeError",
     "evalue": "'_io.TextIOWrapper' object has no attribute 'colse'",
     "output_type": "error",
     "traceback": [
      "\u001b[1;31m---------------------------------------------------------------------------\u001b[0m",
      "\u001b[1;31mAttributeError\u001b[0m                            Traceback (most recent call last)",
      "\u001b[1;32m<ipython-input-50-ec090cd36d61>\u001b[0m in \u001b[0;36m<module>\u001b[1;34m\u001b[0m\n\u001b[0;32m      7\u001b[0m     \u001b[0mfout\u001b[0m\u001b[1;33m.\u001b[0m\u001b[0mcolse\u001b[0m\u001b[1;33m(\u001b[0m\u001b[1;33m)\u001b[0m\u001b[1;33m\u001b[0m\u001b[1;33m\u001b[0m\u001b[0m\n\u001b[0;32m      8\u001b[0m \u001b[1;33m\u001b[0m\u001b[0m\n\u001b[1;32m----> 9\u001b[1;33m \u001b[0msed\u001b[0m\u001b[1;33m(\u001b[0m\u001b[1;34m'words.txt'\u001b[0m\u001b[1;33m,\u001b[0m\u001b[1;34m'hello1.txt'\u001b[0m\u001b[1;33m)\u001b[0m\u001b[1;33m\u001b[0m\u001b[1;33m\u001b[0m\u001b[0m\n\u001b[0m",
      "\u001b[1;32m<ipython-input-50-ec090cd36d61>\u001b[0m in \u001b[0;36msed\u001b[1;34m(file1, file2)\u001b[0m\n\u001b[0;32m      5\u001b[0m     \u001b[0mfout\u001b[0m\u001b[1;33m.\u001b[0m\u001b[0mwrite\u001b[0m\u001b[1;33m(\u001b[0m\u001b[0mfin\u001b[0m\u001b[1;33m)\u001b[0m\u001b[1;33m\u001b[0m\u001b[1;33m\u001b[0m\u001b[0m\n\u001b[0;32m      6\u001b[0m \u001b[1;31m#     fin.close()\u001b[0m\u001b[1;33m\u001b[0m\u001b[1;33m\u001b[0m\u001b[1;33m\u001b[0m\u001b[0m\n\u001b[1;32m----> 7\u001b[1;33m     \u001b[0mfout\u001b[0m\u001b[1;33m.\u001b[0m\u001b[0mcolse\u001b[0m\u001b[1;33m(\u001b[0m\u001b[1;33m)\u001b[0m\u001b[1;33m\u001b[0m\u001b[1;33m\u001b[0m\u001b[0m\n\u001b[0m\u001b[0;32m      8\u001b[0m \u001b[1;33m\u001b[0m\u001b[0m\n\u001b[0;32m      9\u001b[0m \u001b[0msed\u001b[0m\u001b[1;33m(\u001b[0m\u001b[1;34m'words.txt'\u001b[0m\u001b[1;33m,\u001b[0m\u001b[1;34m'hello1.txt'\u001b[0m\u001b[1;33m)\u001b[0m\u001b[1;33m\u001b[0m\u001b[1;33m\u001b[0m\u001b[0m\n",
      "\u001b[1;31mAttributeError\u001b[0m: '_io.TextIOWrapper' object has no attribute 'colse'"
     ]
    }
   ],
   "source": [
    "def sed(file1,file2):\n",
    "    \n",
    "    fin=open(file1).read()\n",
    "    fout=open(file2,'w')\n",
    "    fout.write(fin)\n",
    "#     fin.close()\n",
    "    fout.colse()\n",
    "    \n",
    "sed('words.txt','hello1.txt')"
   ]
  },
  {
   "cell_type": "code",
   "execution_count": 60,
   "metadata": {},
   "outputs": [
    {
     "ename": "TypeError",
     "evalue": "not all arguments converted during string formatting",
     "output_type": "error",
     "traceback": [
      "\u001b[1;31m---------------------------------------------------------------------------\u001b[0m",
      "\u001b[1;31mTypeError\u001b[0m                                 Traceback (most recent call last)",
      "\u001b[1;32m<ipython-input-60-c745fd95f732>\u001b[0m in \u001b[0;36m<module>\u001b[1;34m\u001b[0m\n\u001b[0;32m     10\u001b[0m \u001b[1;31m#     except:\u001b[0m\u001b[1;33m\u001b[0m\u001b[1;33m\u001b[0m\u001b[1;33m\u001b[0m\u001b[0m\n\u001b[0;32m     11\u001b[0m \u001b[1;31m#         print('Something went wrong')\u001b[0m\u001b[1;33m\u001b[0m\u001b[1;33m\u001b[0m\u001b[1;33m\u001b[0m\u001b[0m\n\u001b[1;32m---> 12\u001b[1;33m \u001b[0msed\u001b[0m\u001b[1;33m(\u001b[0m\u001b[1;34m'm'\u001b[0m\u001b[1;33m,\u001b[0m\u001b[1;34m'zhao'\u001b[0m\u001b[1;33m,\u001b[0m\u001b[1;34m'a.txt'\u001b[0m\u001b[1;33m,\u001b[0m\u001b[1;34m'g.txt'\u001b[0m\u001b[1;33m)\u001b[0m\u001b[1;33m\u001b[0m\u001b[1;33m\u001b[0m\u001b[0m\n\u001b[0m",
      "\u001b[1;32m<ipython-input-60-c745fd95f732>\u001b[0m in \u001b[0;36msed\u001b[1;34m(typstr, restr, file1, file2)\u001b[0m\n\u001b[0;32m      4\u001b[0m     \u001b[0mfout\u001b[0m\u001b[1;33m=\u001b[0m\u001b[0mopen\u001b[0m\u001b[1;33m(\u001b[0m\u001b[0mfile2\u001b[0m\u001b[1;33m,\u001b[0m\u001b[1;34m'w'\u001b[0m\u001b[1;33m)\u001b[0m\u001b[1;33m\u001b[0m\u001b[1;33m\u001b[0m\u001b[0m\n\u001b[0;32m      5\u001b[0m     \u001b[1;32mfor\u001b[0m \u001b[0mline\u001b[0m \u001b[1;32min\u001b[0m \u001b[0mfin\u001b[0m\u001b[1;33m:\u001b[0m\u001b[1;33m\u001b[0m\u001b[1;33m\u001b[0m\u001b[0m\n\u001b[1;32m----> 6\u001b[1;33m         \u001b[0mline\u001b[0m\u001b[1;33m=\u001b[0m\u001b[0mline\u001b[0m\u001b[1;33m%\u001b[0m\u001b[0mrestr\u001b[0m\u001b[1;33m\u001b[0m\u001b[1;33m\u001b[0m\u001b[0m\n\u001b[0m\u001b[0;32m      7\u001b[0m         \u001b[0mfout\u001b[0m\u001b[1;33m.\u001b[0m\u001b[0mwrite\u001b[0m\u001b[1;33m(\u001b[0m\u001b[0mline\u001b[0m\u001b[1;33m)\u001b[0m\u001b[1;33m\u001b[0m\u001b[1;33m\u001b[0m\u001b[0m\n\u001b[0;32m      8\u001b[0m     \u001b[0mfin\u001b[0m\u001b[1;33m.\u001b[0m\u001b[0mclose\u001b[0m\u001b[1;33m(\u001b[0m\u001b[1;33m)\u001b[0m\u001b[1;33m\u001b[0m\u001b[1;33m\u001b[0m\u001b[0m\n",
      "\u001b[1;31mTypeError\u001b[0m: not all arguments converted during string formatting"
     ]
    }
   ],
   "source": [
    "def sed(typstr,restr,file1,file2):\n",
    "#     try:\n",
    "    fin=open(file1,'r')\n",
    "    fout=open(file2,'w')\n",
    "    for line in fin:\n",
    "        line=line%restr\n",
    "        fout.write(line)\n",
    "    fin.close()\n",
    "    fout.close()\n",
    "#     except:\n",
    "#         print('Something went wrong')\n",
    "sed('m','zhao','a.txt','g.txt')"
   ]
  },
  {
   "cell_type": "code",
   "execution_count": 62,
   "metadata": {},
   "outputs": [],
   "source": [
    "def sed(typstr,restr,file1,file2):\n",
    "    try:\n",
    "        fin=open(file1,'r')\n",
    "        fout=open(file2,'w')\n",
    "        for line in fin:\n",
    "            line=line.replace(typstr,restr) #用restr替换typstr\n",
    "            fout.write(line)\n",
    "        fin.close()\n",
    "        fout.close()\n",
    "    except:\n",
    "        print('Something went wrong')\n",
    "sed('m','zhao','a.txt','g.txt')"
   ]
  },
  {
   "cell_type": "code",
   "execution_count": 54,
   "metadata": {},
   "outputs": [
    {
     "name": "stdout",
     "output_type": "stream",
     "text": [
      "<_io.TextIOWrapper name='a.txt' mode='r' encoding='cp936'>\n"
     ]
    }
   ],
   "source": [
    "fin=open('a.txt','r')\n",
    "print(fin)\n",
    "fin.close()"
   ]
  },
  {
   "cell_type": "markdown",
   "metadata": {},
   "source": [
    "数据库"
   ]
  },
  {
   "cell_type": "code",
   "execution_count": 66,
   "metadata": {},
   "outputs": [
    {
     "name": "stdout",
     "output_type": "stream",
     "text": [
      "b'Photo of John Cleese.'\n"
     ]
    }
   ],
   "source": [
    "import dbm #导入dbm模块\n",
    "db=dbm.open('captions.db','c')#第一个参数是数据库名，第二个是打开方式，'c'意味着数据库应当被创建，如果不存在的话\n",
    "db['cleese.png']='Photo of John Cleese.'\n",
    "type(db['cleese.png'])\n",
    "print(db['cleese.png'])"
   ]
  },
  {
   "cell_type": "code",
   "execution_count": 67,
   "metadata": {},
   "outputs": [
    {
     "name": "stdout",
     "output_type": "stream",
     "text": [
      "b'Photo of John Cleese doing a silly walk.'\n"
     ]
    }
   ],
   "source": [
    "db['cleese.png']='Photo of John Cleese doing a silly walk.'\n",
    "print(db['cleese.png'])"
   ]
  },
  {
   "cell_type": "code",
   "execution_count": 68,
   "metadata": {},
   "outputs": [
    {
     "name": "stdout",
     "output_type": "stream",
     "text": [
      "b'cleese.png'\n"
     ]
    }
   ],
   "source": [
    "for key in db: #很多字典用法比如key和items对数据库对象也适用\n",
    "    print(key)"
   ]
  },
  {
   "cell_type": "code",
   "execution_count": 69,
   "metadata": {},
   "outputs": [],
   "source": [
    "db.close()"
   ]
  },
  {
   "cell_type": "code",
   "execution_count": 70,
   "metadata": {},
   "outputs": [
    {
     "data": {
      "text/plain": [
       "b'\\x80\\x03]q\\x00(K\\x01K\\x02K\\x03e.'"
      ]
     },
     "execution_count": 70,
     "metadata": {},
     "output_type": "execute_result"
    }
   ],
   "source": [
    "#封存\n",
    "#dbm的限制之一是键和值都必须是字符串，尝试其他类型会报错，pickle可以帮忙\n",
    "import pickle\n",
    "t=[1,2,3]\n",
    "pickle.dumps(t)"
   ]
  },
  {
   "cell_type": "code",
   "execution_count": 71,
   "metadata": {},
   "outputs": [
    {
     "name": "stdout",
     "output_type": "stream",
     "text": [
      "[1, 2, 3]\n"
     ]
    }
   ],
   "source": [
    "t1=[1,2,3]\n",
    "s=pickle.dumps(t1)#pickle.dumps接收一个对象做参数，并返回它的字符串形式\n",
    "t2=pickle.loads(s)#pickle.loads,(loading string,即加载字符串)重新构造对象\n",
    "print(t2)"
   ]
  },
  {
   "cell_type": "code",
   "execution_count": 72,
   "metadata": {},
   "outputs": [
    {
     "data": {
      "text/plain": [
       "True"
      ]
     },
     "execution_count": 72,
     "metadata": {},
     "output_type": "execute_result"
    }
   ],
   "source": [
    "t1==t2"
   ]
  },
  {
   "cell_type": "code",
   "execution_count": 73,
   "metadata": {},
   "outputs": [
    {
     "data": {
      "text/plain": [
       "False"
      ]
     },
     "execution_count": 73,
     "metadata": {},
     "output_type": "execute_result"
    }
   ],
   "source": [
    "t1 is t2"
   ]
  },
  {
   "cell_type": "code",
   "execution_count": 5,
   "metadata": {},
   "outputs": [
    {
     "data": {
      "text/plain": [
       "{'aa': ['aa'],\n",
       " 'aah': ['aah', 'aha'],\n",
       " 'aadeh': ['aahed', 'ahead'],\n",
       " 'aaghin': ['aahing'],\n",
       " 'aahs': ['aahs'],\n",
       " 'aal': ['aal', 'ala'],\n",
       " 'aaiil': ['aalii'],\n",
       " 'aaiils': ['aaliis'],\n",
       " 'aals': ['aals', 'alas'],\n",
       " 'aaadkrrv': ['aardvark'],\n",
       " 'aaadkrrsv': ['aardvarks'],\n",
       " 'aadflorw': ['aardwolf'],\n",
       " 'aadelorsvw': ['aardwolves'],\n",
       " 'aas': ['aas'],\n",
       " 'aaeglosv': ['aasvogel'],\n",
       " 'aaeglossv': ['aasvogels'],\n",
       " 'aab': ['aba', 'baa'],\n",
       " 'aaabc': ['abaca'],\n",
       " 'aaabcs': ['abacas', 'casaba'],\n",
       " 'aabci': ['abaci'],\n",
       " 'aabck': ['aback'],\n",
       " 'aabcsu': ['abacus'],\n",
       " 'aabcessu': ['abacuses'],\n",
       " 'aabft': ['abaft'],\n",
       " 'aaabk': ['abaka'],\n",
       " 'aaabks': ['abakas'],\n",
       " 'aabelno': ['abalone'],\n",
       " 'aabelnos': ['abalones'],\n",
       " 'aabmp': ['abamp'],\n",
       " 'aabeempr': ['abampere'],\n",
       " 'aabeemprs': ['abamperes'],\n",
       " 'aabmps': ['abamps'],\n",
       " 'aabdnno': ['abandon'],\n",
       " 'aabddenno': ['abandoned'],\n",
       " 'aabdginnno': ['abandoning'],\n",
       " 'aabdemnnnot': ['abandonment'],\n",
       " 'aabdemnnnost': ['abandonments'],\n",
       " 'aabdnnos': ['abandons'],\n",
       " 'aabs': ['abas', 'baas'],\n",
       " 'aabes': ['abase'],\n",
       " 'aabdes': ['abased'],\n",
       " 'aabdelsy': ['abasedly'],\n",
       " 'aabeemnst': ['abasement', 'entamebas'],\n",
       " 'aabeemnsst': ['abasements'],\n",
       " 'aabers': ['abaser'],\n",
       " 'aaberss': ['abasers'],\n",
       " 'aabess': ['abases'],\n",
       " 'aabhs': ['abash'],\n",
       " 'aabdehs': ['abashed'],\n",
       " 'aabehss': ['abashes'],\n",
       " 'aabghins': ['abashing'],\n",
       " 'aabgins': ['abasing', 'bisnaga'],\n",
       " 'aaabbelt': ['abatable'],\n",
       " 'aabet': ['abate'],\n",
       " 'aabdet': ['abated'],\n",
       " 'aabeemntt': ['abatement'],\n",
       " 'aabeemnstt': ['abatements'],\n",
       " 'aabert': ['abater'],\n",
       " 'aaberst': ['abaters', 'abreast'],\n",
       " 'aabest': ['abates'],\n",
       " 'aabgint': ['abating'],\n",
       " 'aabist': ['abatis'],\n",
       " 'aabeisst': ['abatises'],\n",
       " 'aabort': ['abator', 'rabato'],\n",
       " 'aaborst': ['abators', 'rabatos'],\n",
       " 'aabistt': ['abattis'],\n",
       " 'aabeisstt': ['abattises'],\n",
       " 'aabiortt': ['abattoir'],\n",
       " 'aabiorstt': ['abattoirs'],\n",
       " 'aaabilx': ['abaxial'],\n",
       " 'aabeilx': ['abaxile'],\n",
       " 'aabbceis': ['abbacies'],\n",
       " 'aabbcy': ['abbacy'],\n",
       " 'aaabbilt': ['abbatial'],\n",
       " 'abbe': ['abbe', 'babe'],\n",
       " 'abbes': ['abbes', 'babes'],\n",
       " 'abbess': ['abbess'],\n",
       " 'abbeesss': ['abbesses'],\n",
       " 'abbey': ['abbey'],\n",
       " 'abbesy': ['abbeys'],\n",
       " 'abbot': ['abbot'],\n",
       " 'abbceiost': ['abbotcies'],\n",
       " 'abbcoty': ['abbotcy'],\n",
       " 'abbost': ['abbots'],\n",
       " 'aabbeeirtv': ['abbreviate'],\n",
       " 'aabbdeeirtv': ['abbreviated'],\n",
       " 'aabbeeirstv': ['abbreviates'],\n",
       " 'aabbegiinrtv': ['abbreviating'],\n",
       " 'aabbeiinortv': ['abbreviation'],\n",
       " 'aabbeiinorstv': ['abbreviations'],\n",
       " 'aabcdeit': ['abdicate'],\n",
       " 'aabcddeit': ['abdicated'],\n",
       " 'aabcdeist': ['abdicates'],\n",
       " 'aabcdgiint': ['abdicating'],\n",
       " 'aabcdiinot': ['abdication'],\n",
       " 'aabcdiinost': ['abdications'],\n",
       " 'abdemno': ['abdomen'],\n",
       " 'abdemnos': ['abdomens'],\n",
       " 'aabdimno': ['abdomina'],\n",
       " 'aabdilmno': ['abdominal'],\n",
       " 'aabdillmnoy': ['abdominally'],\n",
       " 'abcdeu': ['abduce'],\n",
       " 'abcddeu': ['abduced'],\n",
       " 'abcdensu': ['abducens'],\n",
       " 'abcdentu': ['abducent'],\n",
       " 'abcdeenstu': ['abducentes'],\n",
       " 'abcdesu': ['abduces'],\n",
       " 'abcdginu': ['abducing'],\n",
       " 'abcdtu': ['abduct'],\n",
       " 'abcddetu': ['abducted'],\n",
       " 'abcdgintu': ['abducting'],\n",
       " 'abcdortu': ['abductor'],\n",
       " 'abcdeorstu': ['abductores'],\n",
       " 'abcdorstu': ['abductors'],\n",
       " 'abcdstu': ['abducts'],\n",
       " 'aabem': ['abeam', 'ameba'],\n",
       " 'abde': ['abed', 'bade', 'bead'],\n",
       " 'abeel': ['abele'],\n",
       " 'abeels': ['abeles'],\n",
       " 'abeklmos': ['abelmosk', 'smokable'],\n",
       " 'abeklmoss': ['abelmosks'],\n",
       " 'aabenrrt': ['aberrant'],\n",
       " 'aabenrrst': ['aberrants'],\n",
       " 'aabeinorrt': ['aberration'],\n",
       " 'aabeinorrst': ['aberrations'],\n",
       " 'abet': ['abet', 'bate', 'beat', 'beta'],\n",
       " 'abeemntt': ['abetment'],\n",
       " 'abeemnstt': ['abetments'],\n",
       " 'abest': ['abets', 'baste', 'bates', 'beast', 'beats', 'betas', 'tabes'],\n",
       " 'aabeltt': ['abettal'],\n",
       " 'aabelstt': ['abettals', 'statable', 'tastable'],\n",
       " 'abdeett': ['abetted'],\n",
       " 'abeertt': ['abetter', 'beretta'],\n",
       " 'abeerstt': ['abetters', 'berettas'],\n",
       " 'abegintt': ['abetting'],\n",
       " 'abeortt': ['abettor', 'taboret'],\n",
       " 'abeorstt': ['abettors', 'taborets'],\n",
       " 'aabceeny': ['abeyance'],\n",
       " 'aabceensy': ['abeyances'],\n",
       " 'aabceeinsy': ['abeyancies'],\n",
       " 'aabcenyy': ['abeyancy'],\n",
       " 'aabenty': ['abeyant'],\n",
       " 'aaabdfr': ['abfarad'],\n",
       " 'aaabdfrs': ['abfarads'],\n",
       " 'abeehinrs': ['abhenries'],\n",
       " 'abehnry': ['abhenry'],\n",
       " 'abehnrsy': ['abhenrys'],\n",
       " 'abhor': ['abhor'],\n",
       " 'abdehorr': ['abhorred', 'harbored'],\n",
       " 'abceehnorr': ['abhorrence'],\n",
       " 'abceehnorrs': ['abhorrences'],\n",
       " 'abehnorrt': ['abhorrent'],\n",
       " 'abehorrr': ['abhorrer', 'harborer'],\n",
       " 'abehorrrs': ['abhorrers', 'harborers'],\n",
       " 'abghinorr': ['abhorring', 'harboring'],\n",
       " 'abhors': ['abhors'],\n",
       " 'aabcdein': ['abidance'],\n",
       " 'aabcdeins': ['abidances'],\n",
       " 'abdei': ['abide', 'abied'],\n",
       " 'abddei': ['abided', 'baddie'],\n",
       " 'abdeir': ['abider'],\n",
       " 'abdeirs': ['abiders', 'braised', 'darbies', 'seabird'],\n",
       " 'abdeis': ['abides', 'biased'],\n",
       " 'abdgiin': ['abiding'],\n",
       " 'abeis': ['abies'],\n",
       " 'aabgiil': ['abigail'],\n",
       " 'aabgiils': ['abigails'],\n",
       " 'abeiiilst': ['abilities'],\n",
       " 'abiilty': ['ability'],\n",
       " 'abeioss': ['abioses'],\n",
       " 'abiioss': ['abiosis'],\n",
       " 'abciiot': ['abiotic'],\n",
       " 'abcejt': ['abject'],\n",
       " 'abcejlty': ['abjectly'],\n",
       " 'abceejnsst': ['abjectness'],\n",
       " 'abceeejnssst': ['abjectnesses'],\n",
       " 'aabijnortu': ['abjuration'],\n",
       " 'aabijnorstu': ['abjurations'],\n",
       " 'abejru': ['abjure'],\n",
       " 'abdejru': ['abjured'],\n",
       " 'abejrru': ['abjurer'],\n",
       " 'abejrrsu': ['abjurers'],\n",
       " 'abejrsu': ['abjures'],\n",
       " 'abgijnru': ['abjuring'],\n",
       " 'aabelt': ['ablate'],\n",
       " 'aabdelt': ['ablated', 'datable'],\n",
       " 'aabelst': ['ablates'],\n",
       " 'aabgilnt': ['ablating', 'bangtail'],\n",
       " 'aabilnot': ['ablation'],\n",
       " 'aabilnost': ['ablations'],\n",
       " 'aabeiltv': ['ablative'],\n",
       " 'aabeilstv': ['ablatives'],\n",
       " 'aabltu': ['ablaut'],\n",
       " 'aablstu': ['ablauts'],\n",
       " 'aabelz': ['ablaze'],\n",
       " 'abel': ['able', 'bale', 'blae'],\n",
       " 'aabeeglt': ['ablegate'],\n",
       " 'aabeeglst': ['ablegates'],\n",
       " 'abelr': ['abler', 'baler', 'blare', 'blear'],\n",
       " 'abels': ['ables', 'bales', 'blase', 'sable'],\n",
       " 'abelst': ['ablest', 'bleats', 'stable', 'tables'],\n",
       " 'abgilns': ['ablings'],\n",
       " 'abilns': ['ablins', 'blains'],\n",
       " 'ablmoo': ['abloom'],\n",
       " 'abelntu': ['abluent', 'tunable'],\n",
       " 'abelnstu': ['abluents', 'unstable'],\n",
       " 'abhlsu': ['ablush'],\n",
       " 'abdeltu': ['abluted'],\n",
       " 'abilnotu': ['ablution', 'abutilon'],\n",
       " 'abilnostu': ['ablutions', 'abutilons'],\n",
       " 'ably': ['ably'],\n",
       " 'abhmo': ['abmho', 'abohm'],\n",
       " 'abhmos': ['abmhos', 'abohms'],\n",
       " 'aabeegnt': ['abnegate'],\n",
       " 'aabdeegnt': ['abnegated'],\n",
       " 'aabeegnst': ['abnegates'],\n",
       " 'aabegginnt': ['abnegating'],\n",
       " 'aabeginnot': ['abnegation'],\n",
       " 'aabeginnost': ['abnegations'],\n",
       " 'aablmnor': ['abnormal'],\n",
       " 'aabeiilmnorst': ['abnormalities'],\n",
       " 'aabilmnorty': ['abnormality'],\n",
       " 'aabllmnory': ['abnormally'],\n",
       " 'aablmnors': ['abnormals'],\n",
       " 'abo': ['abo', 'boa'],\n",
       " 'aabdor': ['aboard', 'abroad'],\n",
       " 'abdeo': ['abode', 'adobe'],\n",
       " 'abddeo': ['aboded'],\n",
       " 'abdeos': ['abodes', 'adobes'],\n",
       " 'abdgino': ['aboding'],\n",
       " 'aabdeiou': ['aboideau'],\n",
       " 'aabdeiosu': ['aboideaus'],\n",
       " 'aabdeioux': ['aboideaux'],\n",
       " 'abilo': ['aboil'],\n",
       " 'aabeiotu': ['aboiteau'],\n",
       " 'aabeiostu': ['aboiteaus'],\n",
       " 'aabeiotux': ['aboiteaux'],\n",
       " 'abhilos': ['abolish'],\n",
       " 'abdehilos': ['abolished'],\n",
       " 'abehiloss': ['abolishes'],\n",
       " 'abghiilnos': ['abolishing'],\n",
       " 'abiilnoot': ['abolition'],\n",
       " 'abiilnoost': ['abolitions'],\n",
       " 'aabllo': ['abolla'],\n",
       " 'aabello': ['abollae'],\n",
       " 'aabmo': ['aboma'],\n",
       " 'aabmos': ['abomas'],\n",
       " 'aaabmos': ['abomasa'],\n",
       " 'aaablmos': ['abomasal'],\n",
       " 'aabimos': ['abomasi'],\n",
       " 'aabmmosu': ['abomasum'],\n",
       " 'aabmossu': ['abomasus'],\n",
       " 'aabbeilmno': ['abominable'],\n",
       " 'aabeimnot': ['abominate'],\n",
       " 'aabdeimnot': ['abominated'],\n",
       " 'aabeimnost': ['abominates'],\n",
       " 'aabgiimnnot': ['abominating'],\n",
       " 'aabiimnnoot': ['abomination'],\n",
       " 'aabiimnnoost': ['abominations'],\n",
       " 'abnoo': ['aboon'],\n",
       " 'aablor': ['aboral'],\n",
       " 'aabllory': ['aborally'],\n",
       " 'aabgiilnor': ['aboriginal'],\n",
       " 'abegiinor': ['aborigine'],\n",
       " 'abegiinors': ['aborigines'],\n",
       " 'abginnor': ['aborning'],\n",
       " 'abort': ['abort', 'boart', 'tabor'],\n",
       " 'abdeort': ['aborted', 'borated', 'tabored'],\n",
       " 'abeorrt': ['aborter', 'taborer'],\n",
       " 'abeorrst': ['aborters', 'taborers'],\n",
       " 'abginort': ['aborting', 'taboring'],\n",
       " 'abinoort': ['abortion'],\n",
       " 'abinoorst': ['abortions'],\n",
       " 'abeiortv': ['abortive'],\n",
       " 'aborst': ['aborts', 'boarts', 'tabors'],\n",
       " 'abos': ['abos', 'boas'],\n",
       " 'abghotu': ['abought'],\n",
       " 'aabilou': ['aboulia'],\n",
       " 'aabilosu': ['aboulias'],\n",
       " 'abcilou': ['aboulic'],\n",
       " 'abdnou': ['abound'],\n",
       " 'abddenou': ['abounded'],\n",
       " 'abdginnou': ['abounding'],\n",
       " 'abdnosu': ['abounds', 'bausond'],\n",
       " 'abotu': ['about'],\n",
       " 'abeov': ['above'],\n",
       " 'aabbdeoorv': ['aboveboard'],\n",
       " 'abeosv': ['aboves'],\n",
       " 'aaaaabbcdrr': ['abracadabra'],\n",
       " 'aaabdnrt': ['abradant'],\n",
       " 'aaabdnrst': ['abradants'],\n",
       " 'aabder': ['abrade'],\n",
       " 'aabdder': ['abraded'],\n",
       " 'aabderr': ['abrader'],\n",
       " 'aabderrs': ['abraders'],\n",
       " 'aabders': ['abrades'],\n",
       " 'aabdginr': ['abrading'],\n",
       " 'aabinors': ['abrasion'],\n",
       " 'aabinorss': ['abrasions'],\n",
       " 'aabeirsv': ['abrasive'],\n",
       " 'aabeilrsvy': ['abrasively'],\n",
       " 'aabeeinrsssv': ['abrasiveness'],\n",
       " 'aabeeeinrssssv': ['abrasivenesses'],\n",
       " 'aabeirssv': ['abrasives'],\n",
       " 'aabcert': ['abreact', 'bearcat', 'cabaret'],\n",
       " 'aabcdeert': ['abreacted', 'acerbated'],\n",
       " 'aabceginrt': ['abreacting', 'acerbating'],\n",
       " 'aabcerst': ['abreacts', 'bearcats', 'cabarets', 'cabresta'],\n",
       " 'abir': ['abri'],\n",
       " 'abdegir': ['abridge', 'brigade'],\n",
       " 'abddegir': ['abridged', 'brigaded'],\n",
       " 'abdeegimnrt': ['abridgement'],\n",
       " 'abdeegimnrst': ['abridgements'],\n",
       " 'abdegirr': ['abridger'],\n",
       " 'abdegirrs': ['abridgers'],\n",
       " 'abdegirs': ['abridges', 'brigades'],\n",
       " 'abdggiinr': ['abridging', 'brigading'],\n",
       " 'abdegimnrt': ['abridgment'],\n",
       " 'abdegimnrst': ['abridgments'],\n",
       " 'abirs': ['abris', 'sabir'],\n",
       " 'aabchor': ['abroach'],\n",
       " 'aabegort': ['abrogate'],\n",
       " 'aabdegort': ['abrogated'],\n",
       " 'aabegorst': ['abrogates'],\n",
       " 'aabgginort': ['abrogating'],\n",
       " 'abprtu': ['abrupt'],\n",
       " 'abeprrtu': ['abrupter'],\n",
       " 'abeprsttu': ['abruptest'],\n",
       " 'ablprtuy': ['abruptly'],\n",
       " 'abcesss': ['abscess'],\n",
       " 'abcdeesss': ['abscessed'],\n",
       " 'abceessss': ['abscesses'],\n",
       " 'abceginsss': ['abscessing'],\n",
       " 'abceiss': ['abscise', 'scabies', 'sebasic'],\n",
       " 'abcdeiss': ['abscised'],\n",
       " 'abceisss': ['abscises'],\n",
       " 'abciinss': ['abscisin'],\n",
       " 'abcgiinss': ['abscising'],\n",
       " 'abciinsss': ['abscisins'],\n",
       " 'aabcisss': ['abscissa'],\n",
       " 'aabceisss': ['abscissae'],\n",
       " 'aabcissss': ['abscissas'],\n",
       " 'abcdnos': ['abscond'],\n",
       " 'abcddenos': ['absconded'],\n",
       " 'abcdginnos': ['absconding'],\n",
       " 'abcdnoss': ['absconds'],\n",
       " 'abceens': ['absence'],\n",
       " 'abceenss': ['absences'],\n",
       " 'abenst': ['absent'],\n",
       " 'abdeenst': ['absented'],\n",
       " 'abeeenst': ['absentee'],\n",
       " 'abeeensst': ['absentees'],\n",
       " 'abeenrst': ['absenter'],\n",
       " 'abeenrsst': ['absenters'],\n",
       " 'abeginnst': ['absenting'],\n",
       " 'abelnsty': ['absently'],\n",
       " 'abddeeimnnst': ['absentminded'],\n",
       " 'abddeeilmnnsty': ['absentmindedly'],\n",
       " 'abddeeeimnnnssst': ['absentmindedness'],\n",
       " 'abddeeeeimnnnsssst': ['absentmindednesses'],\n",
       " 'abensst': ['absents'],\n",
       " 'abhinst': ['absinth'],\n",
       " 'abehinst': ['absinthe'],\n",
       " 'abehinsst': ['absinthes'],\n",
       " 'abhinsst': ['absinths'],\n",
       " 'abelostu': ['absolute'],\n",
       " 'abellostuy': ['absolutely'],\n",
       " 'abelorstu': ['absoluter'],\n",
       " 'abelosstu': ['absolutes'],\n",
       " 'abelossttu': ['absolutest'],\n",
       " 'abilnoostu': ['absolution'],\n",
       " 'abilnoosstu': ['absolutions'],\n",
       " 'abelosv': ['absolve'],\n",
       " 'abdelosv': ['absolved'],\n",
       " 'abelorsv': ['absolver'],\n",
       " 'abelorssv': ['absolvers'],\n",
       " 'abelossv': ['absolves'],\n",
       " 'abgilnosv': ['absolving'],\n",
       " 'aabnnost': ['absonant'],\n",
       " 'abbors': ['absorb'],\n",
       " 'abbdeors': ['absorbed'],\n",
       " 'abbceeinorss': ['absorbencies'],\n",
       " 'abbcenorsy': ['absorbency'],\n",
       " 'abbenorst': ['absorbent'],\n",
       " 'abbeorrs': ['absorber', 'reabsorb'],\n",
       " 'abbeorrss': ['absorbers', 'reabsorbs'],\n",
       " 'abbginors': ['absorbing'],\n",
       " 'abbgilnorsy': ['absorbingly'],\n",
       " 'abborss': ['absorbs'],\n",
       " 'abinooprst': ['absorption', 'probations'],\n",
       " 'abinooprsst': ['absorptions'],\n",
       " 'abeioprstv': ['absorptive'],\n",
       " 'aabinst': ['abstain'],\n",
       " 'aabdeinst': ['abstained'],\n",
       " 'aabeinrst': ['abstainer'],\n",
       " 'aabeinrsst': ['abstainers'],\n",
       " 'aabgiinnst': ['abstaining'],\n",
       " 'aabinsst': ['abstains'],\n",
       " 'abeimosstu': ['abstemious'],\n",
       " 'abeilmosstuy': ['abstemiously'],\n",
       " 'abeinnostt': ['abstention'],\n",
       " 'abeinnosstt': ['abstentions'],\n",
       " 'abeegrst': ['absterge'],\n",
       " 'abdeegrst': ['absterged'],\n",
       " 'abeegrsst': ['absterges'],\n",
       " 'abegginrst': ['absterging'],\n",
       " 'abceeinnst': ['abstinence'],\n",
       " 'abceeinnsst': ['abstinences'],\n",
       " 'aabcrstt': ['abstract'],\n",
       " 'aabcderstt': ['abstracted'],\n",
       " 'aabcerrstt': ['abstracter', 'reabstract'],\n",
       " 'aabcerssttt': ['abstractest'],\n",
       " 'aabcginrstt': ['abstracting'],\n",
       " 'aabcinorstt': ['abstraction'],\n",
       " 'aabcinorsstt': ['abstractions'],\n",
       " 'aabclrstty': ['abstractly'],\n",
       " 'aabcenrssstt': ['abstractness'],\n",
       " 'aabceenrsssstt': ['abstractnesses'],\n",
       " 'aabcrsstt': ['abstracts'],\n",
       " 'abcirstt': ['abstrict'],\n",
       " 'abcdeirstt': ['abstricted'],\n",
       " 'abcgiinrstt': ['abstricting'],\n",
       " 'abcirsstt': ['abstricts'],\n",
       " 'abersstu': ['abstruse'],\n",
       " 'abelrsstuy': ['abstrusely'],\n",
       " 'abeenrsssstu': ['abstruseness'],\n",
       " 'abeeenrssssstu': ['abstrusenesses'],\n",
       " 'aberrsstu': ['abstruser'],\n",
       " 'abersssttu': ['abstrusest'],\n",
       " 'abdrsu': ['absurd'],\n",
       " 'abderrsu': ['absurder'],\n",
       " 'abdersstu': ['absurdest'],\n",
       " 'abdeiirsstu': ['absurdities'],\n",
       " 'abdirstuy': ['absurdity'],\n",
       " 'abdlrsuy': ['absurdly'],\n",
       " 'abdrssu': ['absurds'],\n",
       " 'abbbelu': ['abubble'],\n",
       " 'aabilu': ['abulia'],\n",
       " 'aabilsu': ['abulias'],\n",
       " 'abcilu': ['abulic'],\n",
       " 'aabcdennu': ['abundance'],\n",
       " 'aabcdennsu': ['abundances'],\n",
       " 'aabdnntu': ['abundant'],\n",
       " 'aabdlnntuy': ['abundantly'],\n",
       " 'aabbelsu': ['abusable'],\n",
       " 'abesu': ['abuse', 'beaus'],\n",
       " 'abdesu': ['abused', 'daubes'],\n",
       " 'abersu': ['abuser', 'bursae'],\n",
       " 'aberssu': ['abusers', 'rubasse', 'surbase'],\n",
       " 'abessu': ['abuses'],\n",
       " 'abginsu': ['abusing'],\n",
       " 'abeisuv': ['abusive'],\n",
       " 'abeilsuvy': ['abusively'],\n",
       " 'abeeinsssuv': ['abusiveness'],\n",
       " 'abeeeinssssuv': ['abusivenesses'],\n",
       " 'abtu': ['abut', 'tabu', 'tuba'],\n",
       " 'abemnttu': ['abutment'],\n",
       " 'abemnsttu': ['abutments'],\n",
       " 'abstu': ['abuts', 'tabus', 'tsuba', 'tubas'],\n",
       " 'aablttu': ['abuttal'],\n",
       " 'aablsttu': ['abuttals'],\n",
       " 'abdettu': ['abutted'],\n",
       " 'aberttu': ['abutter'],\n",
       " 'abersttu': ['abutters'],\n",
       " 'abginttu': ['abutting'],\n",
       " 'abuzz': ['abuzz'],\n",
       " 'ablotv': ['abvolt'],\n",
       " 'ablostv': ['abvolts'],\n",
       " 'aabttw': ['abwatt'],\n",
       " 'aabsttw': ['abwatts'],\n",
       " 'aby': ['aby', 'bay'],\n",
       " 'abey': ['abye'],\n",
       " 'abdey': ['abyed', 'bayed', 'beady'],\n",
       " 'abesy': ['abyes'],\n",
       " 'abginy': ['abying', 'baying'],\n",
       " 'absy': ['abys', 'bays'],\n",
       " 'abmsy': ['abysm'],\n",
       " 'aablmsy': ['abysmal'],\n",
       " 'aabllmsyy': ['abysmally'],\n",
       " 'abmssy': ['abysms'],\n",
       " 'abssy': ['abyss', 'bassy'],\n",
       " 'aablssy': ['abyssal'],\n",
       " 'abesssy': ['abysses'],\n",
       " 'aaacci': ['acacia'],\n",
       " 'aaaccis': ['acacias'],\n",
       " 'aacdeem': ['academe'],\n",
       " 'aacdeems': ['academes'],\n",
       " 'aaacdeim': ['academia'],\n",
       " 'aaacdeims': ['academias'],\n",
       " 'aaccdeim': ['academic'],\n",
       " 'aaaccdeillmy': ['academically'],\n",
       " 'aaccdeims': ['academics'],\n",
       " 'aacdeeims': ['academies'],\n",
       " 'aacdemy': ['academy'],\n",
       " 'aacjou': ['acajou'],\n",
       " 'aacjosu': ['acajous'],\n",
       " 'aacehlp': ['acaleph'],\n",
       " 'aaaceehlp': ['acalephae'],\n",
       " 'aaceehlp': ['acalephe'],\n",
       " 'aaceehlps': ['acalephes'],\n",
       " 'aacehlps': ['acalephs'],\n",
       " 'aachint': ['acanthi'],\n",
       " 'aachnstu': ['acanthus'],\n",
       " 'aacehnsstu': ['acanthuses'],\n",
       " 'aacir': ['acari'],\n",
       " 'aacdir': ['acarid', 'cardia'],\n",
       " 'aaacdinr': ['acaridan', 'arcadian'],\n",
       " 'aaacdinrs': ['acaridans', 'arcadians'],\n",
       " 'aacdirs': ['acarids', 'ascarid', 'cardias'],\n",
       " 'aaceinr': ['acarine', 'carinae'],\n",
       " 'aaceinrs': ['acarines', 'canaries', 'cesarian'],\n",
       " 'aacdior': ['acaroid'],\n",
       " 'aacoprsu': ['acarpous'],\n",
       " 'aacrsu': ['acarus'],\n",
       " 'aaacdlu': ['acaudal'],\n",
       " 'aaacdetu': ['acaudate'],\n",
       " 'aaceilnu': ['acauline'],\n",
       " 'aacelosu': ['acaulose'],\n",
       " 'aaclosuu': ['acaulous'],\n",
       " 'accdee': ['accede'],\n",
       " 'accddee': ['acceded'],\n",
       " 'accdeer': ['acceder'],\n",
       " 'accdeers': ['acceders'],\n",
       " 'accdees': ['accedes'],\n",
       " 'accdegin': ['acceding'],\n",
       " 'aacceeelrt': ['accelerate'],\n",
       " 'aaccdeeelrt': ['accelerated'],\n",
       " 'aacceeelrst': ['accelerates'],\n",
       " 'aacceegilnrt': ['accelerating'],\n",
       " 'aacceeilnort': ['acceleration'],\n",
       " 'aacceeilnorst': ['accelerations'],\n",
       " 'aacceelorrt': ['accelerator'],\n",
       " 'aacceelorrst': ['accelerators'],\n",
       " 'accent': ['accent'],\n",
       " 'accdeent': ['accented'],\n",
       " 'acceginnt': ['accenting'],\n",
       " 'accenort': ['accentor'],\n",
       " 'accenorst': ['accentors'],\n",
       " 'accenst': ['accents'],\n",
       " 'aaccelntu': ['accentual'],\n",
       " 'aacceenttu': ['accentuate'],\n",
       " 'aaccdeenttu': ['accentuated'],\n",
       " 'aacceensttu': ['accentuates'],\n",
       " 'aacceginnttu': ['accentuating'],\n",
       " 'aacceinnottu': ['accentuation'],\n",
       " 'aacceinnosttu': ['accentuations'],\n",
       " 'accept': ['accept'],\n",
       " 'aabcceeiiilpstt': ['acceptabilities'],\n",
       " 'aabcceiilptty': ['acceptability'],\n",
       " 'aabcceelpt': ['acceptable'],\n",
       " 'aaccceenpt': ['acceptance'],\n",
       " 'aaccceenpst': ['acceptances'],\n",
       " 'accdeept': ['accepted'],\n",
       " 'acceeept': ['acceptee'],\n",
       " 'acceeepst': ['acceptees'],\n",
       " 'acceeprt': ['accepter', 'reaccept'],\n",
       " 'acceeprst': ['accepters', 'reaccepts'],\n",
       " 'acceginpt': ['accepting'],\n",
       " 'acceoprt': ['acceptor'],\n",
       " 'acceoprst': ['acceptors'],\n",
       " 'accepst': ['accepts'],\n",
       " 'access': ['access'],\n",
       " 'accdeess': ['accessed'],\n",
       " 'acceesss': ['accesses'],\n",
       " 'abcceeiiiilssst': ['accessibilities'],\n",
       " 'abcceiiilssty': ['accessibility'],\n",
       " 'abcceeilss': ['accessible'],\n",
       " 'acceginss': ['accessing'],\n",
       " 'acceinoss': ['accession'],\n",
       " 'acceinosss': ['accessions'],\n",
       " 'acceeiorsss': ['accessories'],\n",
       " 'acceorssy': ['accessory'],\n",
       " 'accdeint': ['accident'],\n",
       " 'aaccdeilnt': ['accidental'],\n",
       " 'aaccdeillnty': ['accidentally'],\n",
       " 'aaccdeilnst': ['accidentals'],\n",
       " 'accdeinst': ['accidents'],\n",
       " 'accdeii': ['accidie'],\n",
       " 'accdeiis': ['accidies'],\n",
       " 'aaccilm': ['acclaim'],\n",
       " 'aaccdeilm': ['acclaimed'],\n",
       " 'aaccgiilmn': ['acclaiming'],\n",
       " 'aaccilms': ['acclaims'],\n",
       " 'aaaccilmnot': ['acclamation'],\n",
       " 'aaaccilmnost': ['acclamations'],\n",
       " 'aacceilmt': ['acclimate'],\n",
       " 'aaccdeilmt': ['acclimated'],\n",
       " 'aacceilmst': ['acclimates'],\n",
       " 'aaccgiilmnt': ['acclimating'],\n",
       " 'aacciilmnot': ['acclimation'],\n",
       " 'aacciilmnost': ['acclimations'],\n",
       " 'aaacciiilmnottz': ['acclimatization'],\n",
       " 'aaacciiilmnosttz': ['acclimatizations'],\n",
       " 'aacceiilmtz': ['acclimatize'],\n",
       " 'aacceiilmstz': ['acclimatizes'],\n",
       " 'aaccdelo': ['accolade'],\n",
       " 'aaccdelos': ['accolades'],\n",
       " 'aaccdemmoot': ['accommodate'],\n",
       " 'aaccddemmoot': ['accommodated'],\n",
       " 'aaccdemmoost': ['accommodates'],\n",
       " 'aaccdgimmnoot': ['accommodating'],\n",
       " 'aaccdimmnooot': ['accommodation'],\n",
       " 'aaccdimmnooost': ['accommodations'],\n",
       " 'aaccdeimnop': ['accompanied'],\n",
       " 'aacceimnops': ['accompanies'],\n",
       " 'aacceimmnnopt': ['accompaniment'],\n",
       " 'aacceimmnnopst': ['accompaniments'],\n",
       " 'aaccimnopst': ['accompanist'],\n",
       " 'aaccmnopy': ['accompany'],\n",
       " 'aaccgimnnopy': ['accompanying'],\n",
       " 'accceilmop': ['accomplice'],\n",
       " 'accceilmops': ['accomplices'],\n",
       " 'acchilmops': ['accomplish'],\n",
       " 'accdehilmops': ['accomplished'],\n",
       " 'accehilmoprs': ['accomplisher'],\n",
       " 'accehilmoprss': ['accomplishers'],\n",
       " 'accehilmopss': ['accomplishes'],\n",
       " 'accghiilmnops': ['accomplishing'],\n",
       " 'accehilmmnopst': ['accomplishment'],\n",
       " 'accehilmmnopsst': ['accomplishments'],\n",
       " 'accdor': ['accord'],\n",
       " 'aacccdenor': ['accordance'],\n",
       " 'aaccdnort': ['accordant'],\n",
       " 'accddeor': ['accorded'],\n",
       " 'accdeorr': ['accorder'],\n",
       " 'accdeorrs': ['accorders'],\n",
       " 'accdginor': ['according'],\n",
       " 'accdgilnory': ['accordingly'],\n",
       " 'accdinoor': ['accordion'],\n",
       " 'accdinoors': ['accordions'],\n",
       " 'accdors': ['accords'],\n",
       " 'accost': ['accost', 'coacts'],\n",
       " 'accdeost': ['accosted'],\n",
       " 'accginost': ['accosting'],\n",
       " 'accosst': ['accosts'],\n",
       " 'accnotu': ['account'],\n",
       " 'aabcceiiilnosttu': ['accountabilities'],\n",
       " 'aabcciilnottuy': ['accountability'],\n",
       " 'aabccelnotu': ['accountable'],\n",
       " 'aaccceinnostu': ['accountancies'],\n",
       " 'aacccnnotuy': ['accountancy'],\n",
       " 'aaccnnottu': ['accountant'],\n",
       " 'aaccnnosttu': ['accountants'],\n",
       " 'accdenotu': ['accounted'],\n",
       " 'accginnotu': ['accounting'],\n",
       " 'accginnostu': ['accountings'],\n",
       " 'accnostu': ['accounts'],\n",
       " 'acceortu': ['accouter', 'accoutre'],\n",
       " 'accdeeortu': ['accoutered'],\n",
       " 'acceginortu': ['accoutering'],\n",
       " 'acceorstu': ['accouters', 'accoutres'],\n",
       " 'accdeortu': ['accoutred'],\n",
       " 'acceemnorttu': ['accoutrement'],\n",
       " 'acceemnorsttu': ['accoutrements'],\n",
       " 'accginortu': ['accoutring'],\n",
       " 'accdeirt': ['accredit'],\n",
       " 'accddeeirt': ['accredited'],\n",
       " 'accdegiinrt': ['accrediting'],\n",
       " 'accdeirst': ['accredits'],\n",
       " 'acceert': ['accrete'],\n",
       " 'accdeert': ['accreted'],\n",
       " 'acceerst': ['accretes'],\n",
       " 'acceginrt': ['accreting'],\n",
       " 'aacclru': ['accrual', 'caracul'],\n",
       " 'aacclrsu': ['accruals', 'caraculs', 'saccular'],\n",
       " 'acceru': ['accrue'],\n",
       " 'accderu': ['accrued'],\n",
       " 'accersu': ['accrues', 'accuser'],\n",
       " 'accginru': ['accruing'],\n",
       " 'aaccelmtuu': ['accumulate'],\n",
       " 'aaccdelmtuu': ['accumulated'],\n",
       " 'aaccelmstuu': ['accumulates'],\n",
       " 'aaccgilmntuu': ['accumulating'],\n",
       " 'aaccilmnotuu': ['accumulation'],\n",
       " 'aaccilmnostuu': ['accumulations'],\n",
       " 'aacclmortuu': ['accumulator'],\n",
       " 'aacclmorstuu': ['accumulators'],\n",
       " 'aaccceirsu': ['accuracies'],\n",
       " 'aacccruy': ['accuracy'],\n",
       " 'aaccertu': ['accurate'],\n",
       " 'aaccelrtuy': ['accurately'],\n",
       " 'aacceenrsstu': ['accurateness'],\n",
       " 'aacceeenrssstu': ['accuratenesses'],\n",
       " 'accdersu': ['accursed'],\n",
       " 'accrstu': ['accurst'],\n",
       " 'aacclsu': ['accusal'],\n",
       " 'aacclssu': ['accusals'],\n",
       " 'aaccnstu': ['accusant'],\n",
       " 'aaccnsstu': ['accusants'],\n",
       " 'aaccinostu': ['accusation'],\n",
       " 'aaccinosstu': ['accusations'],\n",
       " 'accesu': ['accuse'],\n",
       " 'accdesu': ['accused'],\n",
       " 'accerssu': ['accusers'],\n",
       " 'accessu': ['accuses'],\n",
       " 'accginsu': ['accusing'],\n",
       " 'accmostu': ['accustom'],\n",
       " 'accdemostu': ['accustomed'],\n",
       " 'accgimnostu': ['accustoming'],\n",
       " 'accmosstu': ['accustoms'],\n",
       " 'ace': ['ace'],\n",
       " 'acde': ['aced', 'cade', 'dace'],\n",
       " 'aacdei': ['acedia'],\n",
       " 'aacdeis': ['acedias'],\n",
       " 'aaacdelm': ['aceldama'],\n",
       " 'aaacdelms': ['aceldamas'],\n",
       " 'acceinrt': ['acentric'],\n",
       " 'aaceiqu': ['acequia'],\n",
       " 'aaceiqsu': ['acequias'],\n",
       " 'aaceert': ['acerate'],\n",
       " 'aacdeert': ['acerated'],\n",
       " 'abcer': ['acerb', 'brace', 'caber'],\n",
       " 'aabceert': ['acerbate'],\n",
       " 'aabceerst': ['acerbates'],\n",
       " 'abceerr': ['acerber', 'cerebra'],\n",
       " 'abceerst': ['acerbest'],\n",
       " 'abcceir': ['acerbic', 'breccia'],\n",
       " 'abceeiirst': ['acerbities'],\n",
       " 'abceirty': ['acerbity'],\n",
       " 'aacelor': ['acerola'],\n",
       " 'aacelors': ['acerolas'],\n",
       " 'aceeors': ['acerose'],\n",
       " 'aceorsu': ['acerous', 'carouse'],\n",
       " 'acers': ['acers',\n",
       "  'acres',\n",
       "  'cares',\n",
       "  'carse',\n",
       "  'escar',\n",
       "  'races',\n",
       "  'scare',\n",
       "  'serac'],\n",
       " 'aaceertv': ['acervate'],\n",
       " 'aceilruv': ['acervuli'],\n",
       " 'aces': ['aces', 'case'],\n",
       " 'acceenst': ['acescent'],\n",
       " 'acceensst': ['acescents'],\n",
       " 'aacet': ['aceta'],\n",
       " 'aacelt': ['acetal'],\n",
       " 'aacelst': ['acetals', 'lactase'],\n",
       " 'aacdeimt': ['acetamid'],\n",
       " 'aacdeimst': ['acetamids'],\n",
       " 'aaceett': ['acetate'],\n",
       " 'aacdeett': ['acetated'],\n",
       " 'aaceestt': ['acetates'],\n",
       " 'acceit': ['acetic'],\n",
       " 'acdeefiit': ['acetified'],\n",
       " 'aceefiist': ['acetifies'],\n",
       " 'acefity': ['acetify'],\n",
       " 'acefgiinty': ['acetifying'],\n",
       " 'aceenot': ['acetone'],\n",
       " 'aceenost': ['acetones', 'notecase'],\n",
       " 'acceinot': ['acetonic'],\n",
       " 'aceeost': ['acetose', 'coatees'],\n",
       " 'aceostu': ['acetous'],\n",
       " 'acelotxy': ['acetoxyl'],\n",
       " 'acelostxy': ['acetoxyls'],\n",
       " 'acemtu': ['acetum'],\n",
       " 'acelty': ['acetyl'],\n",
       " 'aceeelnty': ['acetylene'],\n",
       " 'aceeelnsty': ['acetylenes'],\n",
       " 'acceilty': ['acetylic'],\n",
       " 'acelsty': ['acetyls'],\n",
       " 'aceh': ['ache', 'each'],\n",
       " 'acdeh': ['ached'],\n",
       " 'aceehn': ['achene'],\n",
       " 'aceehns': ['achenes', 'enchase'],\n",
       " 'aacehiln': ['achenial'],\n",
       " 'acehs': ['aches', 'chase'],\n",
       " 'acehir': ['achier', 'cahier'],\n",
       " 'acehist': ['achiest', 'aitches'],\n",
       " 'aabceehilv': ['achievable'],\n",
       " 'aceehiv': ['achieve'],\n",
       " 'acdeehiv': ['achieved'],\n",
       " 'aceeehimntv': ['achievement'],\n",
       " 'aceeehimnstv': ['achievements'],\n",
       " 'aceehirv': ['achiever', 'chivaree'],\n",
       " 'aceehirsv': ['achievers', 'chivarees'],\n",
       " 'aceehisv': ['achieves'],\n",
       " 'aceghiinv': ['achieving'],\n",
       " 'acehinss': ['achiness'],\n",
       " 'aceehinsss': ['achinesses'],\n",
       " 'acghin': ['aching'],\n",
       " 'acghilny': ['achingly'],\n",
       " 'acehiot': ['achiote'],\n",
       " 'acehiost': ['achiotes'],\n",
       " 'achoo': ['achoo'],\n",
       " 'aachmort': ['achromat', 'trachoma'],\n",
       " 'aachmorst': ['achromats', 'trachomas'],\n",
       " 'acchimor': ['achromic'],\n",
       " 'achy': ['achy'],\n",
       " 'aaccilu': ['acicula'],\n",
       " 'aacceilu': ['aciculae'],\n",
       " 'aaccilru': ['acicular'],\n",
       " 'aaccilsu': ['aciculas'],\n",
       " 'acdi': ['acid', 'cadi', 'caid'],\n",
       " 'aacddehi': ['acidhead'],\n",
       " 'aacddehis': ['acidheads'],\n",
       " 'accdii': ['acidic'],\n",
       " 'acddefiii': ['acidified'],\n",
       " 'acdefiiis': ['acidifies'],\n",
       " 'acdfiiy': ['acidify'],\n",
       " 'acdfgiiiny': ['acidifying'],\n",
       " 'acdeiiist': ['acidities'],\n",
       " 'acdiity': ['acidity'],\n",
       " 'acdily': ['acidly'],\n",
       " 'acdeinss': ['acidness'],\n",
       " 'acdeeinsss': ['acidnesses'],\n",
       " 'acdeioss': ['acidoses'],\n",
       " 'acdiioss': ['acidosis'],\n",
       " 'accdiiot': ['acidotic'],\n",
       " 'acdis': ['acids', 'asdic', 'cadis', 'caids'],\n",
       " 'acdiy': ['acidy'],\n",
       " 'aaceeirt': ['acierate'],\n",
       " 'aacdeeirt': ['acierated', 'eradicate'],\n",
       " 'aaceeirst': ['acierates'],\n",
       " 'aacegiinrt': ['acierating'],\n",
       " 'acfimor': ['aciform'],\n",
       " 'aacinr': ['acinar', 'arnica', 'carina', 'crania'],\n",
       " 'acgin': ['acing'],\n",
       " 'aciin': ['acini'],\n",
       " 'acciin': ['acinic'],\n",
       " 'aceinos': ['acinose'],\n",
       " 'acinosu': ['acinous'],\n",
       " 'acinsu': ['acinus'],\n",
       " 'acdeegklnow': ['acknowledge'],\n",
       " 'acddeegklnow': ['acknowledged'],\n",
       " 'acdeeegklmnnotw': ['acknowledgement'],\n",
       " 'acdeeegklmnnostw': ['acknowledgements'],\n",
       " 'acdeegklnosw': ['acknowledges'],\n",
       " 'acdeggiklnnow': ['acknowledging'],\n",
       " 'acdeegklmnnotw': ['acknowledgment'],\n",
       " 'acdeegklmnnostw': ['acknowledgments'],\n",
       " 'acciiln': ['aclinic'],\n",
       " 'aaccimt': ['acmatic'],\n",
       " 'acem': ['acme', 'came', 'mace'],\n",
       " 'acems': ['acmes', 'cames', 'maces'],\n",
       " 'accim': ['acmic'],\n",
       " 'acen': ['acne', 'cane'],\n",
       " 'acden': ['acned', 'caned', 'dance'],\n",
       " 'acens': ['acnes', 'canes', 'scena'],\n",
       " 'acdeno': ['acnode', 'canoed', 'deacon'],\n",
       " 'acdenos': ['acnodes', 'deacons'],\n",
       " 'accko': ['acock'],\n",
       " 'acdlo': ['acold'],\n",
       " 'aceloty': ['acolyte'],\n",
       " 'acelosty': ['acolytes'],\n",
       " 'aceinot': ['aconite'],\n",
       " 'aceinost': ['aconites', 'canoeist', 'sonicate'],\n",
       " 'acciinot': ['aconitic', 'cationic'],\n",
       " 'acimnotu': ['aconitum'],\n",
       " 'acimnostu': ['aconitums'],\n",
       " 'acnor': ['acorn', 'narco', 'racon'],\n",
       " 'acnors': ['acorns', 'narcos', 'racons'],\n",
       " 'acciostu': ['acoustic'],\n",
       " 'aaccilostu': ['acoustical'],\n",
       " 'aaccillostuy': ['acoustically'],\n",
       " 'acciosstu': ['acoustics'],\n",
       " 'aacinqtu': ['acquaint'],\n",
       " 'aaacceinnqtu': ['acquaintance'],\n",
       " 'aaacceinnqstu': ['acquaintances'],\n",
       " 'aaaccehiinnpqstu': ['acquaintanceship'],\n",
       " 'aaaccehiinnpqsstu': ['acquaintanceships'],\n",
       " 'aacdeinqtu': ['acquainted'],\n",
       " 'aacgiinnqtu': ['acquainting'],\n",
       " 'aacinqstu': ['acquaints'],\n",
       " 'aceqstu': ['acquest'],\n",
       " 'aceqsstu': ['acquests'],\n",
       " 'acceeiqsu': ['acquiesce'],\n",
       " 'accdeeiqsu': ['acquiesced'],\n",
       " 'accceeeinqsu': ['acquiescence'],\n",
       " 'accceeeinqssu': ['acquiescences'],\n",
       " 'acceeinqstu': ['acquiescent'],\n",
       " 'acceeilnqstuy': ['acquiescently'],\n",
       " 'acceeiqssu': ['acquiesces'],\n",
       " 'accegiinqsu': ['acquiescing'],\n",
       " 'aceiqru': ['acquire'],\n",
       " 'acdeiqru': ['acquired'],\n",
       " 'aceiqrru': ['acquirer'],\n",
       " 'aceiqrrsu': ['acquirers'],\n",
       " 'aceiqrsu': ['acquires'],\n",
       " 'acgiinqru': ['acquiring'],\n",
       " 'aciiinoqstu': ['acquisition'],\n",
       " 'aciiinoqsstu': ['acquisitions'],\n",
       " 'aceiiiqstuv': ['acquisitive'],\n",
       " 'aciqtu': ['acquit'],\n",
       " 'aciqstu': ['acquits'],\n",
       " 'acdeiqttu': ['acquitted'],\n",
       " 'acgiinqttu': ['acquitting'],\n",
       " 'aacinrs': ['acrasin', 'arnicas', 'carinas'],\n",
       " 'aacinrss': ['acrasins'],\n",
       " 'acer': ['acre', 'care', 'race'],\n",
       " 'aaceegr': ['acreage'],\n",
       " 'aaceegrs': ['acreages', 'gearcase'],\n",
       " 'acder': ['acred', 'arced', 'cadre', 'cared', 'cedar', 'raced'],\n",
       " 'acdir': ['acrid', 'caird', 'daric'],\n",
       " 'acdeirr': ['acrider', 'carried'],\n",
       " 'acdeirst': ['acridest'],\n",
       " 'acdeiinr': ['acridine'],\n",
       " 'acdeiinrs': ['acridines'],\n",
       " 'acdeiiirst': ['acridities'],\n",
       " 'acdiirty': ['acridity'],\n",
       " 'acdilry': ['acridly'],\n",
       " 'acdeinrss': ['acridness'],\n",
       " 'acdeeinrsss': ['acridnesses'],\n",
       " 'aceiimnors': ['acrimonies'],\n",
       " 'aciimnoorsu': ['acrimonious'],\n",
       " 'acimnory': ['acrimony'],\n",
       " 'aabcort': ['acrobat'],\n",
       " 'aabcciort': ['acrobatic'],\n",
       " 'aabcorst': ['acrobats'],\n",
       " 'acdnoort': ['acrodont'],\n",
       " 'acdnoorst': ['acrodonts'],\n",
       " 'acegnor': ['acrogen'],\n",
       " 'acegnors': ['acrogens'],\n",
       " 'aceilnor': ['acrolein', 'colinear'],\n",
       " 'aceilnors': ['acroleins', 'censorial'],\n",
       " 'achilort': ['acrolith'],\n",
       " 'achilorst': ['acroliths'],\n",
       " 'aacimor': ['acromia'],\n",
       " 'aacilmor': ['acromial'],\n",
       " 'acimnoor': ['acromion'],\n",
       " 'accinor': ['acronic'],\n",
       " 'acmnory': ['acronym'],\n",
       " 'acmnorsy': ['acronyms'],\n",
       " 'acorss': ['across'],\n",
       " 'acciorst': ['acrostic'],\n",
       " 'acciorsst': ['acrostics'],\n",
       " 'acciort': ['acrotic'],\n",
       " 'acimorst': ['acrotism'],\n",
       " 'acimorsst': ['acrotisms', 'ostracism'],\n",
       " 'aacelrty': ['acrylate'],\n",
       " 'aacelrsty': ['acrylates'],\n",
       " 'accilry': ['acrylic'],\n",
       " 'accilrsy': ['acrylics'],\n",
       " 'act': ['act', 'cat'],\n",
       " 'aact': ['acta'],\n",
       " 'aabcelt': ['actable'],\n",
       " 'acdet': ['acted', 'cadet'],\n",
       " 'acint': ['actin', 'antic'],\n",
       " 'aacilnt': ['actinal'],\n",
       " 'acgint': ['acting'],\n",
       " 'acginst': ['actings', 'casting'],\n",
       " 'aaciint': ['actinia'],\n",
       " 'aaceiint': ['actiniae'],\n",
       " 'aaciinnt': ['actinian'],\n",
       " 'aaciinnst': ['actinians'],\n",
       " 'aaciinst': ['actinias'],\n",
       " 'acciint': ['actinic'],\n",
       " 'acdeiint': ['actinide', 'ctenidia', 'indicate'],\n",
       " 'acdeiinst': ['actinides', 'indicates'],\n",
       " 'aciimnst': ['actinism'],\n",
       " 'aciimnsst': ['actinisms'],\n",
       " 'aciimntu': ['actinium'],\n",
       " 'aciimnstu': ['actiniums'],\n",
       " 'acdiinot': ['actinoid', 'diatonic'],\n",
       " 'acdiinost': ['actinoids'],\n",
       " 'acinnot': ['actinon', 'contain'],\n",
       " 'acinnost': ['actinons', 'canonist', 'contains', 'sanction', 'sonantic'],\n",
       " 'acinst': ['actins', 'antics', 'nastic'],\n",
       " 'acinot': ['action', 'atonic', 'cation'],\n",
       " 'acinost': ['actions', 'atonics', 'cations'],\n",
       " 'aaceittv': ['activate', 'cavitate'],\n",
       " 'aacdeittv': ['activated', 'cavitated'],\n",
       " 'aaceisttv': ['activates', 'cavitates'],\n",
       " 'aacgiinttv': ['activating', 'cavitating'],\n",
       " 'aaciinottv': ['activation'],\n",
       " 'aaciinosttv': ['activations'],\n",
       " 'aceitv': ['active'],\n",
       " 'aceiltvy': ['actively'],\n",
       " 'aceistv': ['actives'],\n",
       " 'aciimstv': ['activism'],\n",
       " 'aciimsstv': ['activisms'],\n",
       " 'aciisttv': ['activist'],\n",
       " 'aciissttv': ['activists'],\n",
       " 'aceiiisttv': ['activities'],\n",
       " 'aciittvy': ['activity'],\n",
       " 'acort': ['actor', 'taroc'],\n",
       " 'achiorst': ['actorish', 'chariots', 'haricots'],\n",
       " 'acorst': ['actors', 'castor', 'costar', 'scrota', 'tarocs'],\n",
       " 'acersst': ['actress', 'casters', 'recasts'],\n",
       " 'aceerssst': ['actresses'],\n",
       " 'acst': ['acts', 'cast', 'cats', 'scat'],\n",
       " 'aacltu': ['actual'],\n",
       " 'aaceiilsttu': ['actualities'],\n",
       " 'aacilttuy': ['actuality'],\n",
       " 'aaaciilnottuz': ['actualization'],\n",
       " 'aaaciilnosttuz': ['actualizations'],\n",
       " 'aaceiltuz': ['actualize'],\n",
       " 'aacdeiltuz': ['actualized'],\n",
       " 'aaceilstuz': ['actualizes'],\n",
       " 'aacgiilntuz': ['actualizing'],\n",
       " 'aaclltuy': ['actually'],\n",
       " 'aaacilrtu': ['actuarial'],\n",
       " 'aaceirstu': ['actuaries'],\n",
       " 'aacrtuy': ['actuary'],\n",
       " 'aacettu': ['actuate'],\n",
       " 'aacdettu': ['actuated'],\n",
       " 'aacesttu': ['actuates'],\n",
       " 'aacginttu': ['actuating'],\n",
       " 'aacorttu': ['actuator', 'autocrat'],\n",
       " 'aacorsttu': ['actuators', 'autocrats'],\n",
       " 'aacetu': ['acuate'],\n",
       " 'aceiistu': ['acuities'],\n",
       " 'acituy': ['acuity'],\n",
       " 'aaceeltu': ['aculeate'],\n",
       " 'acemnu': ['acumen'],\n",
       " 'acemnsu': ['acumens'],\n",
       " ...}"
      ]
     },
     "execution_count": 5,
     "metadata": {},
     "output_type": "execute_result"
    }
   ],
   "source": [
    "from anagram_sets import *\n",
    "d"
   ]
  },
  {
   "cell_type": "code",
   "execution_count": 9,
   "metadata": {},
   "outputs": [],
   "source": [
    "import shelve\n",
    "def store_anagrams(d):\n",
    "    for key,val in d.items():\n",
    "        db[key]=val\n",
    "def read_anagrams(word):\n",
    "    shelf=shelve.open('test')\n",
    "    word=signature(word)\n",
    "    if word in shelf:\n",
    "        print(shelf[word])\n",
    "    else:\n",
    "        print(word+'not in shelf.')\n",
    "with shelve.open('test') as db:\n",
    "    store_anagrams(d)\n",
    "    db.close()\n",
    "    "
   ]
  },
  {
   "cell_type": "code",
   "execution_count": 10,
   "metadata": {},
   "outputs": [
    {
     "name": "stdout",
     "output_type": "stream",
     "text": [
      "['abacas', 'casaba']\n"
     ]
    }
   ],
   "source": [
    "read_anagrams('aaabcs')"
   ]
  },
  {
   "cell_type": "code",
   "execution_count": 10,
   "metadata": {},
   "outputs": [],
   "source": [
    "from anagram_sets import *\n",
    "import shelve\n",
    "import sys\n",
    "def store_anagrams(filename,d):\n",
    "    shelf=shelve.open(filename,'c')\n",
    "    for key,val in d.items():\n",
    "        shelf[key]=val\n",
    "    shelf.close()\n",
    "def read_anagrams(filename,word):\n",
    "    shelf=shelve.open(filname)\n",
    "    word=signature(word)\n",
    "    try:\n",
    "        return shelf[word]\n",
    "    except KeyError:\n",
    "        return []\n",
    "d=all_anagrams('words.txt')\n",
    "store_anagrams('anagrams',d)\n"
   ]
  },
  {
   "cell_type": "code",
   "execution_count": 14,
   "metadata": {},
   "outputs": [
    {
     "ename": "TypeError",
     "evalue": "read_anagrams() takes 1 positional argument but 2 were given",
     "output_type": "error",
     "traceback": [
      "\u001b[1;31m---------------------------------------------------------------------------\u001b[0m",
      "\u001b[1;31mTypeError\u001b[0m                                 Traceback (most recent call last)",
      "\u001b[1;32m<ipython-input-14-77e5aa1136fe>\u001b[0m in \u001b[0;36m<module>\u001b[1;34m\u001b[0m\n\u001b[1;32m----> 1\u001b[1;33m \u001b[0mprint\u001b[0m\u001b[1;33m(\u001b[0m\u001b[0mread_anagrams\u001b[0m\u001b[1;33m(\u001b[0m\u001b[1;34m'anagrams'\u001b[0m\u001b[1;33m,\u001b[0m\u001b[1;34m'abators'\u001b[0m\u001b[1;33m)\u001b[0m\u001b[1;33m)\u001b[0m\u001b[1;33m\u001b[0m\u001b[1;33m\u001b[0m\u001b[0m\n\u001b[0m",
      "\u001b[1;31mTypeError\u001b[0m: read_anagrams() takes 1 positional argument but 2 were given"
     ]
    }
   ],
   "source": [
    "print(read_anagrams('anagrams','abators'))"
   ]
  },
  {
   "cell_type": "code",
   "execution_count": 9,
   "metadata": {},
   "outputs": [
    {
     "name": "stdout",
     "output_type": "stream",
     "text": [
      "7\n"
     ]
    }
   ],
   "source": [
    "import wc\n",
    "\n",
    "if __name__=='__main__':\n",
    "    print(wc.linecount('wc.py'))"
   ]
  },
  {
   "cell_type": "code",
   "execution_count": 3,
   "metadata": {},
   "outputs": [
    {
     "data": {
      "text/plain": [
       "7"
      ]
     },
     "execution_count": 3,
     "metadata": {},
     "output_type": "execute_result"
    }
   ],
   "source": [
    "wc.linecount('wc.py')"
   ]
  },
  {
   "cell_type": "code",
   "execution_count": 11,
   "metadata": {},
   "outputs": [
    {
     "name": "stdout",
     "output_type": "stream",
     "text": [
      "1 2\t 3\n",
      " 4\n"
     ]
    }
   ],
   "source": [
    "#调试\n",
    "s='1 2\\t 3\\n 4'\n",
    "print(s)"
   ]
  },
  {
   "cell_type": "code",
   "execution_count": 12,
   "metadata": {},
   "outputs": [
    {
     "name": "stdout",
     "output_type": "stream",
     "text": [
      "'1 2\\t 3\\n 4'\n"
     ]
    }
   ],
   "source": [
    "print(repr(s))#repr，接收任何对象作为参数，并返回对象的字符串表达式"
   ]
  },
  {
   "cell_type": "code",
   "execution_count": 14,
   "metadata": {},
   "outputs": [
    {
     "name": "stdout",
     "output_type": "stream",
     "text": [
      "b'<title>Secret exercise</title>'\n",
      "b''\n",
      "b'<h1>Secret Think Python Exercise</h3>'\n",
      "b''\n",
      "b'<p>'\n",
      "b'If you are reading this, you are probably working on the urllib'\n",
      "b'exercise from Think Python.'\n",
      "b''\n",
      "b'<p>'\n",
      "b'Next, you should read the documentation of the urllib module at'\n",
      "b'http://docs.python.org/lib/module-urllib.html'\n",
      "b''\n",
      "b'<p>'\n",
      "b'Then go to www.uszip.com, which provides information about every zip code'\n",
      "b'in the country.  For example, the URL'\n",
      "b''\n",
      "b'<p>'\n",
      "b'http://www.uszip.com/zip/02492'\n",
      "b''\n",
      "b'<p>'\n",
      "b'provides information about Needham MA, including population, longitude'\n",
      "b'and latitude, etc.'\n",
      "b''\n",
      "b'<p>'\n",
      "b'Write a program that prompts the user for a zip code and prints the'\n",
      "b'name and population of the corresponding town.'\n",
      "b''\n",
      "b'<p>'\n",
      "b'Note: the text you get from uszip.com is in HTML, the language most'\n",
      "b\"web pages are written in.  Even if you don't know HTML, you should be\"\n",
      "b'able to extract the information you are looking for.'\n",
      "b''\n",
      "b'<p>'\n",
      "b'By the way, your program is an example of a \"screen scraper.\"  You can'\n",
      "b'read more about this term at'\n",
      "b''\n",
      "b'<p>'\n",
      "b'http://wikipedia.org/wiki/Screen_scraping'\n",
      "b''\n",
      "b'<p>'\n",
      "b\"Sites that make money from advertising don't like screen scrapers\"\n",
      "b\"because they don't display the ads.  Using a screen scraper violates\"\n",
      "b\"the terms of service for some sites; that's why this is a secret\"\n",
      "b'exercise!'\n",
      "b''\n",
      "b'<script type=\"text/javascript\">'\n",
      "b'var gaJsHost = ((\"https:\" == document.location.protocol) ? \"https://ssl.\" : \"http://www.\");'\n",
      "b'document.write(unescape(\"%3Cscript src=\\'\" + gaJsHost + \"google-analytics.com/ga.js\\' type=\\'text/javascript\\'%3E%3C/script%3E\"));'\n",
      "b'</script>'\n",
      "b'<script type=\"text/javascript\">'\n",
      "b'try {'\n",
      "b'var pageTracker = _gat._getTracker(\"UA-9267613-1\");'\n",
      "b'pageTracker._trackPageview();'\n",
      "b'} catch(err) {}</script>'\n",
      "b''\n",
      "b'</body>'\n"
     ]
    }
   ],
   "source": [
    "import urllib.request\n",
    "conn=urllib.request.urlopen('http://thinkpython.com/secret.html')\n",
    "for line in conn:\n",
    "    print(line.strip())"
   ]
  },
  {
   "cell_type": "code",
   "execution_count": 16,
   "metadata": {},
   "outputs": [
    {
     "ename": "TypeError",
     "evalue": "a bytes-like object is required, not 'str'",
     "output_type": "error",
     "traceback": [
      "\u001b[1;31m---------------------------------------------------------------------------\u001b[0m",
      "\u001b[1;31mTypeError\u001b[0m                                 Traceback (most recent call last)",
      "\u001b[1;32m<ipython-input-16-3fe031517259>\u001b[0m in \u001b[0;36m<module>\u001b[1;34m\u001b[0m\n\u001b[0;32m      5\u001b[0m \u001b[1;32mfor\u001b[0m \u001b[0mline\u001b[0m \u001b[1;32min\u001b[0m \u001b[0mconn\u001b[0m\u001b[1;33m.\u001b[0m\u001b[0mfp\u001b[0m\u001b[1;33m:\u001b[0m\u001b[1;33m\u001b[0m\u001b[1;33m\u001b[0m\u001b[0m\n\u001b[0;32m      6\u001b[0m     \u001b[0mline\u001b[0m\u001b[1;33m=\u001b[0m\u001b[0mline\u001b[0m\u001b[1;33m.\u001b[0m\u001b[0mstrip\u001b[0m\u001b[1;33m(\u001b[0m\u001b[1;33m)\u001b[0m\u001b[1;33m\u001b[0m\u001b[1;33m\u001b[0m\u001b[0m\n\u001b[1;32m----> 7\u001b[1;33m     \u001b[1;32mif\u001b[0m \u001b[1;34m'Population'\u001b[0m \u001b[1;32min\u001b[0m \u001b[0mline\u001b[0m\u001b[1;33m:\u001b[0m\u001b[1;33m\u001b[0m\u001b[1;33m\u001b[0m\u001b[0m\n\u001b[0m\u001b[0;32m      8\u001b[0m         \u001b[0mprint\u001b[0m\u001b[1;33m(\u001b[0m\u001b[0mline\u001b[0m\u001b[1;33m)\u001b[0m\u001b[1;33m\u001b[0m\u001b[1;33m\u001b[0m\u001b[0m\n\u001b[0;32m      9\u001b[0m     \u001b[1;32mif\u001b[0m \u001b[1;34m'Longitude'\u001b[0m \u001b[1;32min\u001b[0m \u001b[0mline\u001b[0m\u001b[1;33m:\u001b[0m\u001b[1;33m\u001b[0m\u001b[1;33m\u001b[0m\u001b[0m\n",
      "\u001b[1;31mTypeError\u001b[0m: a bytes-like object is required, not 'str'"
     ]
    }
   ],
   "source": [
    "#练习\n",
    "zipcode='02492'\n",
    "\n",
    "url = 'http://uszip.com/zip/' + zipcode\n",
    "conn=urllib.request.urlopen(url)\n",
    "for line in conn.fp:\n",
    "    line=line.strip()\n",
    "    if 'Population' in line:\n",
    "        print(line)\n",
    "    if 'Longitude' in line: \n",
    "        print(line)\n",
    "    if 'Latitude' in line: \n",
    "        print(line)\n",
    "conn.close()"
   ]
  },
  {
   "cell_type": "code",
   "execution_count": null,
   "metadata": {},
   "outputs": [],
   "source": []
  }
 ],
 "metadata": {
  "kernelspec": {
   "display_name": "Python 3",
   "language": "python",
   "name": "python3"
  },
  "language_info": {
   "codemirror_mode": {
    "name": "ipython",
    "version": 3
   },
   "file_extension": ".py",
   "mimetype": "text/x-python",
   "name": "python",
   "nbconvert_exporter": "python",
   "pygments_lexer": "ipython3",
   "version": "3.7.2"
  }
 },
 "nbformat": 4,
 "nbformat_minor": 2
}
