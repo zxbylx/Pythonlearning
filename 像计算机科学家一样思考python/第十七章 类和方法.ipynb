{
 "cells": [
  {
   "cell_type": "code",
   "execution_count": 8,
   "metadata": {},
   "outputs": [],
   "source": [
    "#打印对象\n",
    "class Time(object):\n",
    "    '''Represents the time of day.'''\n",
    "    \n",
    "def print_time(time):\n",
    "    print('%.2d:%.2d:%.2d'%(time.hour,time.minute,time.second))"
   ]
  },
  {
   "cell_type": "code",
   "execution_count": 9,
   "metadata": {},
   "outputs": [
    {
     "name": "stdout",
     "output_type": "stream",
     "text": [
      "09:45:00\n"
     ]
    }
   ],
   "source": [
    "start=Time()\n",
    "start.hour=9\n",
    "start.minute=45\n",
    "start.second=0\n",
    "print_time(start)"
   ]
  },
  {
   "cell_type": "code",
   "execution_count": 7,
   "metadata": {},
   "outputs": [],
   "source": [
    "#要函数print_time转换为方法，我们只需要将其定义移动到类定义之内即可。\n",
    "class Time(object):\n",
    "    def print_time(time):\n",
    "        print('%.2d:%.2d:%.2d'%(time.hour,time.minute,time.second))"
   ]
  },
  {
   "cell_type": "code",
   "execution_count": 9,
   "metadata": {},
   "outputs": [
    {
     "name": "stdout",
     "output_type": "stream",
     "text": [
      "09:45:00\n"
     ]
    }
   ],
   "source": [
    "Time.print_time(start)"
   ]
  },
  {
   "cell_type": "code",
   "execution_count": 11,
   "metadata": {},
   "outputs": [
    {
     "ename": "AttributeError",
     "evalue": "'Time' object has no attribute 'print_time'",
     "output_type": "error",
     "traceback": [
      "\u001b[1;31m---------------------------------------------------------------------------\u001b[0m",
      "\u001b[1;31mAttributeError\u001b[0m                            Traceback (most recent call last)",
      "\u001b[1;32m<ipython-input-11-a4400bef56fe>\u001b[0m in \u001b[0;36m<module>\u001b[1;34m\u001b[0m\n\u001b[1;32m----> 1\u001b[1;33m \u001b[0mstart\u001b[0m\u001b[1;33m.\u001b[0m\u001b[0mprint_time\u001b[0m\u001b[1;33m(\u001b[0m\u001b[1;33m)\u001b[0m\u001b[1;33m\u001b[0m\u001b[1;33m\u001b[0m\u001b[0m\n\u001b[0m",
      "\u001b[1;31mAttributeError\u001b[0m: 'Time' object has no attribute 'print_time'"
     ]
    }
   ],
   "source": [
    "start.print_time()#这个报错是由于jupyter notebook缓存问题"
   ]
  },
  {
   "cell_type": "code",
   "execution_count": 12,
   "metadata": {},
   "outputs": [],
   "source": [
    "#方法的第一个形参通常叫做self，所以print_time通常写成下面\n",
    "class Time(object):\n",
    "    def print_time(self):\n",
    "        print('%.2d:%.2d:%.2d'%(time.hour,time.minute,time.second))"
   ]
  },
  {
   "cell_type": "code",
   "execution_count": 4,
   "metadata": {},
   "outputs": [],
   "source": [
    "#练习：将16.4的time_to_int函数转换为方法\n",
    "def int_to_time(seconds):\n",
    "    time=Time()\n",
    "    minutes,time.second=divmod(seconds,60)#divmod函数将第一个参数除以第二个参数并以元组形式返回商和余数\n",
    "    time.hour,time.minute=divmod(minutes,60)\n",
    "    return time\n",
    "class Time(object):\n",
    "    def time_to_int(time):\n",
    "        minutes=time.hour*60+time.minute\n",
    "        seconds=minutes*60+time.second\n",
    "        return seconds\n",
    "    def increment(self,seconds):\n",
    "        seconds+=self.time_to_int()\n",
    "        return int_to_time(seconds)\n",
    "    def print_time(time):\n",
    "        print('%.2d:%.2d:%.2d'%(time.hour,time.minute,time.second))"
   ]
  },
  {
   "cell_type": "code",
   "execution_count": 8,
   "metadata": {},
   "outputs": [
    {
     "data": {
      "text/plain": [
       "35100"
      ]
     },
     "execution_count": 8,
     "metadata": {},
     "output_type": "execute_result"
    }
   ],
   "source": [
    "start=Time()\n",
    "start.hour=9\n",
    "start.minute=45\n",
    "start.second=0\n",
    "start.time_to_int()"
   ]
  },
  {
   "cell_type": "code",
   "execution_count": 9,
   "metadata": {},
   "outputs": [
    {
     "name": "stdout",
     "output_type": "stream",
     "text": [
      "09:45:00\n"
     ]
    }
   ],
   "source": [
    "start.print_time()"
   ]
  },
  {
   "cell_type": "code",
   "execution_count": 10,
   "metadata": {},
   "outputs": [
    {
     "ename": "NameError",
     "evalue": "name 'int_to_time' is not defined",
     "output_type": "error",
     "traceback": [
      "\u001b[1;31m---------------------------------------------------------------------------\u001b[0m",
      "\u001b[1;31mNameError\u001b[0m                                 Traceback (most recent call last)",
      "\u001b[1;32m<ipython-input-10-7cfced1e40fb>\u001b[0m in \u001b[0;36m<module>\u001b[1;34m\u001b[0m\n\u001b[1;32m----> 1\u001b[1;33m \u001b[0mend\u001b[0m\u001b[1;33m=\u001b[0m\u001b[0mstart\u001b[0m\u001b[1;33m.\u001b[0m\u001b[0mincrement\u001b[0m\u001b[1;33m(\u001b[0m\u001b[1;36m1337\u001b[0m\u001b[1;33m)\u001b[0m\u001b[1;33m\u001b[0m\u001b[1;33m\u001b[0m\u001b[0m\n\u001b[0m",
      "\u001b[1;32m<ipython-input-4-a063af6ce86f>\u001b[0m in \u001b[0;36mincrement\u001b[1;34m(self, seconds)\u001b[0m\n\u001b[0;32m      6\u001b[0m     \u001b[1;32mdef\u001b[0m \u001b[0mincrement\u001b[0m\u001b[1;33m(\u001b[0m\u001b[0mself\u001b[0m\u001b[1;33m,\u001b[0m\u001b[0mseconds\u001b[0m\u001b[1;33m)\u001b[0m\u001b[1;33m:\u001b[0m\u001b[1;33m\u001b[0m\u001b[1;33m\u001b[0m\u001b[0m\n\u001b[0;32m      7\u001b[0m         \u001b[0mseconds\u001b[0m\u001b[1;33m+=\u001b[0m\u001b[0mself\u001b[0m\u001b[1;33m.\u001b[0m\u001b[0mtime_to_int\u001b[0m\u001b[1;33m(\u001b[0m\u001b[1;33m)\u001b[0m\u001b[1;33m\u001b[0m\u001b[1;33m\u001b[0m\u001b[0m\n\u001b[1;32m----> 8\u001b[1;33m         \u001b[1;32mreturn\u001b[0m \u001b[0mint_to_time\u001b[0m\u001b[1;33m(\u001b[0m\u001b[0mseconds\u001b[0m\u001b[1;33m)\u001b[0m\u001b[1;33m\u001b[0m\u001b[1;33m\u001b[0m\u001b[0m\n\u001b[0m\u001b[0;32m      9\u001b[0m     \u001b[1;32mdef\u001b[0m \u001b[0mprint_time\u001b[0m\u001b[1;33m(\u001b[0m\u001b[0mtime\u001b[0m\u001b[1;33m)\u001b[0m\u001b[1;33m:\u001b[0m\u001b[1;33m\u001b[0m\u001b[1;33m\u001b[0m\u001b[0m\n\u001b[0;32m     10\u001b[0m         \u001b[0mprint\u001b[0m\u001b[1;33m(\u001b[0m\u001b[1;34m'%.2d:%.2d:%.2d'\u001b[0m\u001b[1;33m%\u001b[0m\u001b[1;33m(\u001b[0m\u001b[0mtime\u001b[0m\u001b[1;33m.\u001b[0m\u001b[0mhour\u001b[0m\u001b[1;33m,\u001b[0m\u001b[0mtime\u001b[0m\u001b[1;33m.\u001b[0m\u001b[0mminute\u001b[0m\u001b[1;33m,\u001b[0m\u001b[0mtime\u001b[0m\u001b[1;33m.\u001b[0m\u001b[0msecond\u001b[0m\u001b[1;33m)\u001b[0m\u001b[1;33m)\u001b[0m\u001b[1;33m\u001b[0m\u001b[1;33m\u001b[0m\u001b[0m\n",
      "\u001b[1;31mNameError\u001b[0m: name 'int_to_time' is not defined"
     ]
    }
   ],
   "source": [
    "end=start.increment(1337)\n"
   ]
  },
  {
   "cell_type": "code",
   "execution_count": 31,
   "metadata": {},
   "outputs": [
    {
     "name": "stdout",
     "output_type": "stream",
     "text": [
      "10:07:17\n"
     ]
    }
   ],
   "source": [
    "end.print_time()"
   ]
  },
  {
   "cell_type": "code",
   "execution_count": 4,
   "metadata": {},
   "outputs": [],
   "source": [
    "class Time(object):\n",
    "    def time_to_int(time):\n",
    "        minutes=time.hour*60+time.minute\n",
    "        seconds=minutes*60+time.second\n",
    "        return seconds\n",
    "    def increment(self,seconds):\n",
    "        seconds+=self.time_to_int()\n",
    "        return int_to_time(seconds)\n",
    "    def print_time(time):\n",
    "        print('%.2d:%.2d:%.2d'%(time.hour,time.minute,time.second))\n",
    "    def is_after(self,other):\n",
    "        return self.time_to_int()>other.time_to_int()"
   ]
  },
  {
   "cell_type": "code",
   "execution_count": 5,
   "metadata": {},
   "outputs": [
    {
     "ename": "NameError",
     "evalue": "name 'end' is not defined",
     "output_type": "error",
     "traceback": [
      "\u001b[1;31m---------------------------------------------------------------------------\u001b[0m",
      "\u001b[1;31mNameError\u001b[0m                                 Traceback (most recent call last)",
      "\u001b[1;32m<ipython-input-5-67495b3c9826>\u001b[0m in \u001b[0;36m<module>\u001b[1;34m\u001b[0m\n\u001b[1;32m----> 1\u001b[1;33m \u001b[0mend\u001b[0m\u001b[1;33m.\u001b[0m\u001b[0mis_after\u001b[0m\u001b[1;33m(\u001b[0m\u001b[0mstart\u001b[0m\u001b[1;33m)\u001b[0m\u001b[1;33m\u001b[0m\u001b[1;33m\u001b[0m\u001b[0m\n\u001b[0m",
      "\u001b[1;31mNameError\u001b[0m: name 'end' is not defined"
     ]
    }
   ],
   "source": [
    "end.is_after(start)"
   ]
  },
  {
   "cell_type": "code",
   "execution_count": 14,
   "metadata": {},
   "outputs": [],
   "source": [
    "#init方法，当对象初始化时被调用\n",
    "class Time(object):\n",
    "    def __init__(self,hour=0,minute=0,second=0):\n",
    "        self.hour=hour\n",
    "        self.minute=minute\n",
    "        self.second=second\n",
    "    def time_to_int(time):\n",
    "        minutes=time.hour*60+time.minute\n",
    "        seconds=minutes*60+time.second\n",
    "        return seconds\n",
    "    def increment(self,seconds):\n",
    "        seconds+=self.time_to_int()\n",
    "        return int_to_time(seconds)\n",
    "    def print_time(time):\n",
    "        print('%.2d:%.2d:%.2d'%(time.hour,time.minute,time.second))\n",
    "    def is_after(self,other):\n",
    "        return self.time_to_int()>other.time_to_int()"
   ]
  },
  {
   "cell_type": "code",
   "execution_count": 15,
   "metadata": {},
   "outputs": [
    {
     "name": "stdout",
     "output_type": "stream",
     "text": [
      "00:00:00\n"
     ]
    }
   ],
   "source": [
    "time=Time()\n",
    "time.print_time()"
   ]
  },
  {
   "cell_type": "code",
   "execution_count": 16,
   "metadata": {},
   "outputs": [
    {
     "name": "stdout",
     "output_type": "stream",
     "text": [
      "09:00:00\n"
     ]
    }
   ],
   "source": [
    "#如果你提供一个实参，它会覆盖hour，如果提供两个会覆盖hour和minute\n",
    "time=Time(9)\n",
    "time.print_time()"
   ]
  },
  {
   "cell_type": "code",
   "execution_count": 17,
   "metadata": {},
   "outputs": [
    {
     "name": "stdout",
     "output_type": "stream",
     "text": [
      "09:45:00\n"
     ]
    }
   ],
   "source": [
    "time=Time(9,45)\n",
    "time.print_time()"
   ]
  },
  {
   "cell_type": "code",
   "execution_count": 20,
   "metadata": {},
   "outputs": [
    {
     "name": "stdout",
     "output_type": "stream",
     "text": [
      "(1,2)\n"
     ]
    }
   ],
   "source": [
    "#练习：为Point类编写一个init方法，接收x和y作为可选形参，并将它们赋值到对应的属性上\n",
    "class Point(object):\n",
    "    def __init__(self,x,y):\n",
    "        self.x=x\n",
    "        self.y=y\n",
    "    def print_point(p):\n",
    "        print('(%g,%g)'%(p.x,p.y))\n",
    "blank=Point(1,2)\n",
    "blank.print_point()\n"
   ]
  },
  {
   "cell_type": "code",
   "execution_count": 21,
   "metadata": {},
   "outputs": [],
   "source": [
    "#__str__方法\n",
    "class Time(object):\n",
    "    def __init__(self,hour=0,minute=0,second=0):\n",
    "        self.hour=hour\n",
    "        self.minute=minute\n",
    "        self.second=second\n",
    "    def time_to_int(time):\n",
    "        minutes=time.hour*60+time.minute\n",
    "        seconds=minutes*60+time.second\n",
    "        return seconds\n",
    "    def increment(self,seconds):\n",
    "        seconds+=self.time_to_int()\n",
    "        return int_to_time(seconds)\n",
    "    def print_time(time):\n",
    "        print('%.2d:%.2d:%.2d'%(time.hour,time.minute,time.second))\n",
    "    def is_after(self,other):\n",
    "        return self.time_to_int()>other.time_to_int()\n",
    "    def __str__(self):\n",
    "        return '%.2d:%.2d:%.2d'%(self.hour,self.minute,self.second)\n"
   ]
  },
  {
   "cell_type": "code",
   "execution_count": 22,
   "metadata": {},
   "outputs": [
    {
     "name": "stdout",
     "output_type": "stream",
     "text": [
      "09:45:00\n"
     ]
    }
   ],
   "source": [
    "time=Time(9,45)\n",
    "print(time)\n",
    "#当编写一个新类是总是先写__init__以便初始化对象，然后写__str__,以便调试"
   ]
  },
  {
   "cell_type": "code",
   "execution_count": 25,
   "metadata": {},
   "outputs": [],
   "source": [
    "class Point(object):\n",
    "    def __init__(self,x,y):\n",
    "        self.x=x\n",
    "        self.y=y\n",
    "    def print_point(p):\n",
    "        print('(%g,%g)'%(p.x,p.y))\n",
    "    def __str__(self):\n",
    "        return '(%g,%g)'%(self.x,self.y)\n"
   ]
  },
  {
   "cell_type": "code",
   "execution_count": 26,
   "metadata": {},
   "outputs": [
    {
     "name": "stdout",
     "output_type": "stream",
     "text": [
      "(1,2)\n"
     ]
    }
   ],
   "source": [
    "blank=Point(1,2)\n",
    "print(blank)"
   ]
  },
  {
   "cell_type": "code",
   "execution_count": 27,
   "metadata": {},
   "outputs": [],
   "source": [
    "#操作符重载\n",
    "#通过定义其他的特殊方法，你可以为用户定义类型的各种操作符制定行为。例如，如果你为Time类定义一个__add__方法，则可在时间对象上使用+操作符\n",
    "class Time(object):\n",
    "    def __init__(self,hour=0,minute=0,second=0):\n",
    "        self.hour=hour\n",
    "        self.minute=minute\n",
    "        self.second=second\n",
    "    def time_to_int(time):\n",
    "        minutes=time.hour*60+time.minute\n",
    "        seconds=minutes*60+time.second\n",
    "        return seconds\n",
    "    def increment(self,seconds):\n",
    "        seconds+=self.time_to_int()\n",
    "        return int_to_time(seconds)\n",
    "    def print_time(time):\n",
    "        print('%.2d:%.2d:%.2d'%(time.hour,time.minute,time.second))\n",
    "    def is_after(self,other):\n",
    "        return self.time_to_int()>other.time_to_int()\n",
    "    def __str__(self):\n",
    "        return '%.2d:%.2d:%.2d'%(self.hour,self.minute,self.second)\n",
    "    def __add__(self,other):\n",
    "        seconds=self.time_to_int()+other.time_to_int()\n",
    "        return int_to_time(seconds)\n",
    "    "
   ]
  },
  {
   "cell_type": "code",
   "execution_count": 28,
   "metadata": {},
   "outputs": [
    {
     "name": "stdout",
     "output_type": "stream",
     "text": [
      "11:20:00\n"
     ]
    }
   ],
   "source": [
    "#当你对时间对象应用+操作符时，python会调用__add__，当你打印结果时，python会调用__str__\n",
    "#修改操作符的行为以便它能够作用于用户定义的类型，这个过程叫做操作符重载\n",
    "start=Time(9,45)\n",
    "duration=Time(1,35)\n",
    "print(start+duration)"
   ]
  },
  {
   "cell_type": "code",
   "execution_count": 37,
   "metadata": {},
   "outputs": [],
   "source": [
    "#练习：为Point类编写一个add函数\n",
    "class Point(object):\n",
    "    def __init__(self,x,y):\n",
    "        self.x=x\n",
    "        self.y=y\n",
    "    def print_point(p):\n",
    "        print('(%g,%g)'%(p.x,p.y))\n",
    "    def __str__(self):\n",
    "        return '(%g,%g)'%(self.x,self.y)\n",
    "    def __add__(self,other):\n",
    "        return (self.x+other.x),(self.y+other.y)"
   ]
  },
  {
   "cell_type": "code",
   "execution_count": 39,
   "metadata": {},
   "outputs": [
    {
     "name": "stdout",
     "output_type": "stream",
     "text": [
      "(3, 5)\n"
     ]
    }
   ],
   "source": [
    "blank=Point(1,2)\n",
    "white=Point(2,3)\n",
    "print(blank+white)"
   ]
  },
  {
   "cell_type": "code",
   "execution_count": 15,
   "metadata": {},
   "outputs": [],
   "source": [
    "#基于类型的分发\n",
    "def int_to_time(seconds):\n",
    "    time=Time()\n",
    "    minutes,time.second=divmod(seconds,60)#divmod函数将第一个参数除以第二个参数并以元组形式返回商和余数\n",
    "    time.hour,time.minute=divmod(minutes,60)\n",
    "    return time\n",
    "class Time(object):\n",
    "    def __init__(self,hour=0,minute=0,second=0):\n",
    "        self.hour=hour\n",
    "        self.minute=minute\n",
    "        self.second=second\n",
    "    def time_to_int(time):\n",
    "        minutes=time.hour*60+time.minute\n",
    "        seconds=minutes*60+time.second\n",
    "        return seconds\n",
    "    \n",
    "    def print_time(time):\n",
    "        print('%.2d:%.2d:%.2d'%(time.hour,time.minute,time.second))\n",
    "    def is_after(self,other):\n",
    "        return self.time_to_int()>other.time_to_int()\n",
    "    def __str__(self):\n",
    "        return '%.2d:%.2d:%.2d'%(self.hour,self.minute,self.second)\n",
    "#     def __add__(self,other):\n",
    "#         seconds=self.time_to_int()+other.time_to_int()\n",
    "#         return int_to_time(seconds)\n",
    "    def __add__(self,other):\n",
    "        if isinstance(other,Time): #isinstance判断第一个参数是否是第二个参数的类型，如果是返回True,否则返回False\n",
    "            return self.add_time(other)\n",
    "        else:\n",
    "            return self.increment(other)\n",
    "    def add_time(self,other):\n",
    "        seconds=self.time_to_int()+other.time_to_int()\n",
    "        return int_to_time(seconds)\n",
    "    def increment(self,seconds):\n",
    "        seconds+=self.time_to_int()\n",
    "        return int_to_time(seconds)\n",
    "#这个操作称为基于类型的分发，因为它基于other的类型将计算分发到不同的方法上        "
   ]
  },
  {
   "cell_type": "code",
   "execution_count": 16,
   "metadata": {},
   "outputs": [
    {
     "name": "stdout",
     "output_type": "stream",
     "text": [
      "11:20:00\n"
     ]
    }
   ],
   "source": [
    "start=Time(9,45)\n",
    "duration=Time(1,35)\n",
    "print(start+duration)"
   ]
  },
  {
   "cell_type": "code",
   "execution_count": 17,
   "metadata": {},
   "outputs": [
    {
     "name": "stdout",
     "output_type": "stream",
     "text": [
      "10:07:17\n"
     ]
    }
   ],
   "source": [
    "print(start+1337)"
   ]
  },
  {
   "cell_type": "code",
   "execution_count": 77,
   "metadata": {},
   "outputs": [],
   "source": [
    "#练习：为Point对象编写一个add方法，可以接受一个对象或者元组\n",
    "class Point(object):\n",
    "    def __init__(self,x,y):\n",
    "        self.x=x\n",
    "        self.y=y\n",
    "    def print_point(p):\n",
    "        print('(%g,%g)'%(p.x,p.y))\n",
    "    def __str__(self):\n",
    "        return '(%g,%g)'%(self.x,self.y)\n",
    "    def increment(self,other):\n",
    "        return (self.x+other[0]),(self.y+other[1])\n",
    "    def __add__(self,other):\n",
    "        if isinstance(other,Point):\n",
    "            return self.add_point(other)\n",
    "        else:\n",
    "            return increment(self,other)#这里写错了，应该写成return self.increment(other)\n",
    "    def add_point(self,other):\n",
    "        return (self.x+other.x),(self.y+other.y)"
   ]
  },
  {
   "cell_type": "code",
   "execution_count": 2,
   "metadata": {},
   "outputs": [
    {
     "name": "stdout",
     "output_type": "stream",
     "text": [
      "(3, 5)\n"
     ]
    }
   ],
   "source": [
    "blank=Point(1,2)\n",
    "white=Point(2,3)\n",
    "print(blank+white)"
   ]
  },
  {
   "cell_type": "code",
   "execution_count": 78,
   "metadata": {},
   "outputs": [
    {
     "ename": "NameError",
     "evalue": "name 'increment' is not defined",
     "output_type": "error",
     "traceback": [
      "\u001b[1;31m---------------------------------------------------------------------------\u001b[0m",
      "\u001b[1;31mNameError\u001b[0m                                 Traceback (most recent call last)",
      "\u001b[1;32m<ipython-input-78-873124d5c067>\u001b[0m in \u001b[0;36m<module>\u001b[1;34m\u001b[0m\n\u001b[1;32m----> 1\u001b[1;33m \u001b[0mprint\u001b[0m\u001b[1;33m(\u001b[0m\u001b[0mblank\u001b[0m\u001b[1;33m+\u001b[0m\u001b[1;33m(\u001b[0m\u001b[1;36m2\u001b[0m\u001b[1;33m,\u001b[0m\u001b[1;36m3\u001b[0m\u001b[1;33m)\u001b[0m\u001b[1;33m)\u001b[0m\u001b[1;33m\u001b[0m\u001b[1;33m\u001b[0m\u001b[0m\n\u001b[0m",
      "\u001b[1;32m<ipython-input-74-241285b4e395>\u001b[0m in \u001b[0;36m__add__\u001b[1;34m(self, other)\u001b[0m\n\u001b[0;32m     14\u001b[0m             \u001b[1;32mreturn\u001b[0m \u001b[0mself\u001b[0m\u001b[1;33m.\u001b[0m\u001b[0madd_point\u001b[0m\u001b[1;33m(\u001b[0m\u001b[0mother\u001b[0m\u001b[1;33m)\u001b[0m\u001b[1;33m\u001b[0m\u001b[1;33m\u001b[0m\u001b[0m\n\u001b[0;32m     15\u001b[0m         \u001b[1;32melse\u001b[0m\u001b[1;33m:\u001b[0m\u001b[1;33m\u001b[0m\u001b[1;33m\u001b[0m\u001b[0m\n\u001b[1;32m---> 16\u001b[1;33m             \u001b[1;32mreturn\u001b[0m \u001b[0mincrement\u001b[0m\u001b[1;33m(\u001b[0m\u001b[0mself\u001b[0m\u001b[1;33m,\u001b[0m\u001b[0mother\u001b[0m\u001b[1;33m)\u001b[0m\u001b[1;33m\u001b[0m\u001b[1;33m\u001b[0m\u001b[0m\n\u001b[0m\u001b[0;32m     17\u001b[0m     \u001b[1;32mdef\u001b[0m \u001b[0madd_point\u001b[0m\u001b[1;33m(\u001b[0m\u001b[0mself\u001b[0m\u001b[1;33m,\u001b[0m\u001b[0mother\u001b[0m\u001b[1;33m)\u001b[0m\u001b[1;33m:\u001b[0m\u001b[1;33m\u001b[0m\u001b[1;33m\u001b[0m\u001b[0m\n\u001b[0;32m     18\u001b[0m         \u001b[1;32mreturn\u001b[0m \u001b[1;33m(\u001b[0m\u001b[0mself\u001b[0m\u001b[1;33m.\u001b[0m\u001b[0mx\u001b[0m\u001b[1;33m+\u001b[0m\u001b[0mother\u001b[0m\u001b[1;33m.\u001b[0m\u001b[0mx\u001b[0m\u001b[1;33m)\u001b[0m\u001b[1;33m,\u001b[0m\u001b[1;33m(\u001b[0m\u001b[0mself\u001b[0m\u001b[1;33m.\u001b[0m\u001b[0my\u001b[0m\u001b[1;33m+\u001b[0m\u001b[0mother\u001b[0m\u001b[1;33m.\u001b[0m\u001b[0my\u001b[0m\u001b[1;33m)\u001b[0m\u001b[1;33m\u001b[0m\u001b[1;33m\u001b[0m\u001b[0m\n",
      "\u001b[1;31mNameError\u001b[0m: name 'increment' is not defined"
     ]
    }
   ],
   "source": [
    "print(blank+(2,3))"
   ]
  },
  {
   "cell_type": "code",
   "execution_count": 1,
   "metadata": {},
   "outputs": [],
   "source": [
    "#练习：为Point对象编写一个add方法，可以接受一个对象或者元组\n",
    "class Point(object):\n",
    "    def __init__(self,x,y):\n",
    "        self.x=x\n",
    "        self.y=y\n",
    "    def print_point(p):\n",
    "        print('(%g,%g)'%(p.x,p.y))\n",
    "    def __str__(self):\n",
    "        return '(%g,%g)'%(self.x,self.y)\n",
    "    def increment(self,other):\n",
    "        return (self.x+other[0]),(self.y+other[1])\n",
    "    def __add__(self,other):\n",
    "        if isinstance(other,Point):\n",
    "            return self.add_point(other)\n",
    "        else:\n",
    "            return self.increment(other)\n",
    "    def add_point(self,other):\n",
    "        return (self.x+other.x),(self.y+other.y)"
   ]
  },
  {
   "cell_type": "code",
   "execution_count": 3,
   "metadata": {},
   "outputs": [
    {
     "name": "stdout",
     "output_type": "stream",
     "text": [
      "(3, 5)\n"
     ]
    }
   ],
   "source": [
    "print(blank+(2,3))"
   ]
  },
  {
   "cell_type": "code",
   "execution_count": 19,
   "metadata": {},
   "outputs": [
    {
     "ename": "TypeError",
     "evalue": "unsupported operand type(s) for +: 'int' and 'Time'",
     "output_type": "error",
     "traceback": [
      "\u001b[1;31m---------------------------------------------------------------------------\u001b[0m",
      "\u001b[1;31mTypeError\u001b[0m                                 Traceback (most recent call last)",
      "\u001b[1;32m<ipython-input-19-30fee4220b2a>\u001b[0m in \u001b[0;36m<module>\u001b[1;34m\u001b[0m\n\u001b[0;32m      4\u001b[0m \u001b[0mt2\u001b[0m\u001b[1;33m=\u001b[0m\u001b[0mTime\u001b[0m\u001b[1;33m(\u001b[0m\u001b[1;36m7\u001b[0m\u001b[1;33m,\u001b[0m\u001b[1;36m71\u001b[0m\u001b[1;33m)\u001b[0m\u001b[1;33m\u001b[0m\u001b[1;33m\u001b[0m\u001b[0m\n\u001b[0;32m      5\u001b[0m \u001b[0mt3\u001b[0m\u001b[1;33m=\u001b[0m\u001b[0mTime\u001b[0m\u001b[1;33m(\u001b[0m\u001b[1;36m7\u001b[0m\u001b[1;33m,\u001b[0m\u001b[1;36m37\u001b[0m\u001b[1;33m)\u001b[0m\u001b[1;33m\u001b[0m\u001b[1;33m\u001b[0m\u001b[0m\n\u001b[1;32m----> 6\u001b[1;33m \u001b[0mtotal\u001b[0m\u001b[1;33m=\u001b[0m\u001b[0msum\u001b[0m\u001b[1;33m(\u001b[0m\u001b[1;33m[\u001b[0m\u001b[0mt1\u001b[0m\u001b[1;33m,\u001b[0m\u001b[0mt2\u001b[0m\u001b[1;33m]\u001b[0m\u001b[1;33m)\u001b[0m\u001b[1;33m\u001b[0m\u001b[1;33m\u001b[0m\u001b[0m\n\u001b[0m\u001b[0;32m      7\u001b[0m \u001b[0mprint\u001b[0m\u001b[1;33m(\u001b[0m\u001b[0mtotal\u001b[0m\u001b[1;33m)\u001b[0m\u001b[1;33m\u001b[0m\u001b[1;33m\u001b[0m\u001b[0m\n",
      "\u001b[1;31mTypeError\u001b[0m: unsupported operand type(s) for +: 'int' and 'Time'"
     ]
    }
   ],
   "source": [
    "#多态：可以处理多个类型的函数称为多态，多态可以促进代码复用\n",
    "#例如用来计算一个序列所有元素的和的内置函数sum，对所有其元素支持加法的序列都可用\n",
    "t1=Time(7,43)\n",
    "t2=Time(7,71)\n",
    "t3=Time(7,37)\n",
    "total=sum([t1,t2])\n",
    "print(total)"
   ]
  },
  {
   "cell_type": "code",
   "execution_count": 22,
   "metadata": {},
   "outputs": [
    {
     "name": "stdout",
     "output_type": "stream",
     "text": [
      "{'x': 3, 'y': 4}\n"
     ]
    }
   ],
   "source": [
    "#调试\n",
    "#访问对象的属性方法__dict__，它是一个映射，将属性名称（字符串形式）映射到属性值\n",
    "p=Point(3,4)\n",
    "print(p.__dict__)"
   ]
  },
  {
   "cell_type": "code",
   "execution_count": 23,
   "metadata": {},
   "outputs": [],
   "source": [
    "#为了方便调试，你可能会发现将这个函数放手边会很有用\n",
    "def print_attributes(obj):\n",
    "    for attr in obj.__dict__:\n",
    "        print(attr,getattr(obj,attr))\n",
    "#print_attributes遍历对象的属性字典，并打印出每个属性的名称和相应的值\n",
    "#内置函数getattr接收一个对象以及一个属性名称（字符串形式），并返回属性的值"
   ]
  },
  {
   "cell_type": "code",
   "execution_count": 24,
   "metadata": {},
   "outputs": [
    {
     "name": "stdout",
     "output_type": "stream",
     "text": [
      "__module__ __main__\n",
      "__init__ <function Time.__init__ at 0x000001CCE8994D90>\n",
      "time_to_int <function Time.time_to_int at 0x000001CCE8A406A8>\n",
      "print_time <function Time.print_time at 0x000001CCE8A40400>\n",
      "is_after <function Time.is_after at 0x000001CCE8A40378>\n",
      "__str__ <function Time.__str__ at 0x000001CCE8A40598>\n",
      "__add__ <function Time.__add__ at 0x000001CCE8A402F0>\n",
      "add_time <function Time.add_time at 0x000001CCE8A40D90>\n",
      "increment <function Time.increment at 0x000001CCE8A40510>\n",
      "__dict__ {'__module__': '__main__', '__init__': <function Time.__init__ at 0x000001CCE8994D90>, 'time_to_int': <function Time.time_to_int at 0x000001CCE8A406A8>, 'print_time': <function Time.print_time at 0x000001CCE8A40400>, 'is_after': <function Time.is_after at 0x000001CCE8A40378>, '__str__': <function Time.__str__ at 0x000001CCE8A40598>, '__add__': <function Time.__add__ at 0x000001CCE8A402F0>, 'add_time': <function Time.add_time at 0x000001CCE8A40D90>, 'increment': <function Time.increment at 0x000001CCE8A40510>, '__dict__': <attribute '__dict__' of 'Time' objects>, '__weakref__': <attribute '__weakref__' of 'Time' objects>, '__doc__': None}\n",
      "__weakref__ <attribute '__weakref__' of 'Time' objects>\n",
      "__doc__ None\n"
     ]
    }
   ],
   "source": [
    "print_attributes(Time)"
   ]
  },
  {
   "cell_type": "code",
   "execution_count": 26,
   "metadata": {},
   "outputs": [
    {
     "name": "stdout",
     "output_type": "stream",
     "text": [
      "09:45:00\n",
      "10:07:17\n",
      "Is end after start?\n",
      "True\n",
      "Using __str__\n",
      "09:45:00 10:07:17\n",
      "11:20:00\n",
      "10:07:17\n",
      "Example of polymorphism\n",
      "23:01:00\n"
     ]
    }
   ],
   "source": [
    "#练习：修改time的属性，用单一整数表示凌晨到现在的秒数，然后修改方法来适应新的实现\n",
    "\n",
    "class Time(object):\n",
    "    \"\"\"Represents the time of day.\n",
    "       \n",
    "    attributes: hour, minute, second\n",
    "    \"\"\"\n",
    "    def __init__(self, hour=0, minute=0, second=0):\n",
    "        self.hour = hour\n",
    "        self.minute = minute\n",
    "        self.second = second\n",
    "\n",
    "    def __str__(self):\n",
    "        return '%.2d:%.2d:%.2d' % (self.hour, self.minute, self.second)\n",
    "\n",
    "    def print_time(self):\n",
    "        print(str(self))\n",
    "\n",
    "    def time_to_int(self):\n",
    "        \"\"\"Computes the number of seconds since midnight.\"\"\"\n",
    "        minutes = self.hour * 60 + self.minute\n",
    "        seconds = minutes * 60 + self.second\n",
    "        return seconds\n",
    "\n",
    "    def is_after(self, other):\n",
    "        \"\"\"Returns True if t1 is after t2; false otherwise.\"\"\"\n",
    "        return self.time_to_int() > other.time_to_int()\n",
    "\n",
    "    def __add__(self, other):\n",
    "        \"\"\"Adds two Time objects or a Time object and a number.\n",
    "\n",
    "        other: Time object or number of seconds\n",
    "        \"\"\"\n",
    "        if isinstance(other, Time):\n",
    "            return self.add_time(other)\n",
    "        else:\n",
    "            return self.increment(other)\n",
    "\n",
    "    def __radd__(self, other):\n",
    "        \"\"\"Adds two Time objects or a Time object and a number.\"\"\"\n",
    "        return self.__add__(other)\n",
    "\n",
    "    def add_time(self, other):\n",
    "        \"\"\"Adds two time objects.\"\"\"\n",
    "        assert self.is_valid() and other.is_valid()\n",
    "        seconds = self.time_to_int() + other.time_to_int()\n",
    "        return int_to_time(seconds)\n",
    "\n",
    "    def increment(self, seconds):\n",
    "        \"\"\"Returns a new Time that is the sum of this time and seconds.\"\"\"\n",
    "        seconds += self.time_to_int()\n",
    "        return int_to_time(seconds)\n",
    "\n",
    "    def is_valid(self):\n",
    "        \"\"\"Checks whether a Time object satisfies the invariants.\"\"\"\n",
    "        if self.hour < 0 or self.minute < 0 or self.second < 0:\n",
    "            return False\n",
    "        if self.minute >= 60 or self.second >= 60:\n",
    "            return False\n",
    "        return True\n",
    "\n",
    "\n",
    "def int_to_time(seconds):\n",
    "    \"\"\"Makes a new Time object.\n",
    "\n",
    "    seconds: int seconds since midnight.\n",
    "    \"\"\"\n",
    "    minutes, second = divmod(seconds, 60)\n",
    "    hour, minute = divmod(minutes, 60)\n",
    "    time = Time(hour, minute, second)\n",
    "    return time\n",
    "\n",
    "\n",
    "def main():\n",
    "    start = Time(9, 45, 00)\n",
    "    start.print_time()\n",
    "\n",
    "    end = start.increment(1337)\n",
    "    end.print_time()\n",
    "\n",
    "    print('Is end after start?',)\n",
    "    print(end.is_after(start))\n",
    "\n",
    "    print('Using __str__')\n",
    "    print(start, end)\n",
    "\n",
    "    start = Time(9, 45)\n",
    "    duration = Time(1, 35)\n",
    "    print(start + duration)\n",
    "    print(start + 1337)\n",
    "#     print 1337 + start\n",
    "\n",
    "    print('Example of polymorphism')\n",
    "    t1 = Time(7, 43)\n",
    "    t2 = Time(7, 41)\n",
    "    t3 = Time(7, 37)\n",
    "    total = sum([t1, t2, t3])\n",
    "    print(total)\n",
    "\n",
    "\n",
    "if __name__ == '__main__':\n",
    "    main()"
   ]
  },
  {
   "cell_type": "code",
   "execution_count": 72,
   "metadata": {},
   "outputs": [
    {
     "ename": "AttributeError",
     "evalue": "'int' object has no attribute 'append'",
     "output_type": "error",
     "traceback": [
      "\u001b[1;31m---------------------------------------------------------------------------\u001b[0m",
      "\u001b[1;31mAttributeError\u001b[0m                            Traceback (most recent call last)",
      "\u001b[1;32m<ipython-input-72-0b6dbb9d431b>\u001b[0m in \u001b[0;36m<module>\u001b[1;34m\u001b[0m\n\u001b[0;32m     17\u001b[0m \u001b[0mkanga\u001b[0m\u001b[1;33m=\u001b[0m\u001b[0mKangaroo\u001b[0m\u001b[1;33m(\u001b[0m\u001b[1;36m1\u001b[0m\u001b[1;33m)\u001b[0m\u001b[1;33m\u001b[0m\u001b[1;33m\u001b[0m\u001b[0m\n\u001b[0;32m     18\u001b[0m \u001b[0mroo\u001b[0m\u001b[1;33m=\u001b[0m\u001b[0mKangaroo\u001b[0m\u001b[1;33m(\u001b[0m\u001b[1;36m2\u001b[0m\u001b[1;33m)\u001b[0m\u001b[1;33m\u001b[0m\u001b[1;33m\u001b[0m\u001b[0m\n\u001b[1;32m---> 19\u001b[1;33m \u001b[0mkanga\u001b[0m\u001b[1;33m.\u001b[0m\u001b[0mput_in_pouch\u001b[0m\u001b[1;33m(\u001b[0m\u001b[0mroo\u001b[0m\u001b[1;33m)\u001b[0m\u001b[1;33m\u001b[0m\u001b[1;33m\u001b[0m\u001b[0m\n\u001b[0m",
      "\u001b[1;32m<ipython-input-72-0b6dbb9d431b>\u001b[0m in \u001b[0;36mput_in_pouch\u001b[1;34m(self, a)\u001b[0m\n\u001b[0;32m      4\u001b[0m         \u001b[0mself\u001b[0m\u001b[1;33m.\u001b[0m\u001b[0mpouch_contents\u001b[0m\u001b[1;33m=\u001b[0m\u001b[0mpouch_contents\u001b[0m\u001b[1;33m\u001b[0m\u001b[1;33m\u001b[0m\u001b[0m\n\u001b[0;32m      5\u001b[0m     \u001b[1;32mdef\u001b[0m \u001b[0mput_in_pouch\u001b[0m\u001b[1;33m(\u001b[0m\u001b[0mself\u001b[0m\u001b[1;33m,\u001b[0m\u001b[0ma\u001b[0m\u001b[1;33m)\u001b[0m\u001b[1;33m:\u001b[0m\u001b[1;33m\u001b[0m\u001b[1;33m\u001b[0m\u001b[0m\n\u001b[1;32m----> 6\u001b[1;33m         \u001b[0mself\u001b[0m\u001b[1;33m.\u001b[0m\u001b[0mpouch_contents\u001b[0m\u001b[1;33m.\u001b[0m\u001b[0mappend\u001b[0m\u001b[1;33m(\u001b[0m\u001b[0ma\u001b[0m\u001b[1;33m)\u001b[0m\u001b[1;33m\u001b[0m\u001b[1;33m\u001b[0m\u001b[0m\n\u001b[0m\u001b[0;32m      7\u001b[0m \u001b[1;31m#     def __str__(self):\u001b[0m\u001b[1;33m\u001b[0m\u001b[1;33m\u001b[0m\u001b[1;33m\u001b[0m\u001b[0m\n\u001b[0;32m      8\u001b[0m \u001b[1;31m#         return '%s'%self.pouch_contents\u001b[0m\u001b[1;33m\u001b[0m\u001b[1;33m\u001b[0m\u001b[1;33m\u001b[0m\u001b[0m\n",
      "\u001b[1;31mAttributeError\u001b[0m: 'int' object has no attribute 'append'"
     ]
    }
   ],
   "source": [
    "#练习：\n",
    "class Kangaroo(object):\n",
    "    def __init__(self,pouch_contents=[]):\n",
    "        self.pouch_contents=pouch_contents\n",
    "    def put_in_pouch(self,a):\n",
    "        self.pouch_contents.append(a)\n",
    "    def __str__(self):\n",
    "        return '%s'%self.pouch_contents\n",
    "    def __str__(self):\n",
    "        \"\"\"return a string representation of this Kangaroo and\n",
    "        the contents of the pouch, with one item per line\"\"\"\n",
    "        t = [ object.__str__(self) + ' with pouch contents:' ]\n",
    "        for obj in self.pouch_contents:\n",
    "            s = '    ' + object.__str__(obj)\n",
    "            t.append(s)\n",
    "        return '\\n'.join(t)\n",
    "kanga=Kangaroo(1)\n",
    "roo=Kangaroo(2)\n",
    "kanga.put_in_pouch(roo)"
   ]
  },
  {
   "cell_type": "code",
   "execution_count": 73,
   "metadata": {},
   "outputs": [
    {
     "name": "stdout",
     "output_type": "stream",
     "text": [
      "<__main__.Kangaroo object at 0x000001CCE8DE5828> with pouch contents:\n",
      "    1\n",
      "    <__main__.Kangaroo object at 0x000001CCE8DE57B8>\n"
     ]
    }
   ],
   "source": [
    "kanga=Kangaroo([1])\n",
    "roo=Kangaroo([2])\n",
    "kanga.put_in_pouch(roo)\n",
    "print(kanga)"
   ]
  },
  {
   "cell_type": "code",
   "execution_count": 67,
   "metadata": {},
   "outputs": [
    {
     "name": "stdout",
     "output_type": "stream",
     "text": [
      "<__main__.Kangaroo object at 0x000001CCE8D7B748> with pouch contents:\n",
      "    <__main__.Kangaroo object at 0x000001CCE8D7BA58>\n",
      "    <__main__.Kangaroo object at 0x000001CCE8B69C88>\n",
      "    <__main__.Kangaroo object at 0x000001CCE8D7B358>\n",
      "    <__main__.Kangaroo object at 0x000001CCE89BAE80>\n",
      "    <__main__.Kangaroo object at 0x000001CCE8D7BC88>\n"
     ]
    }
   ],
   "source": [
    "kanga=Kangaroo()\n",
    "\n",
    "roo=Kangaroo()\n",
    "kanga.put_in_pouch(roo)\n",
    "print(kanga)"
   ]
  },
  {
   "cell_type": "code",
   "execution_count": 68,
   "metadata": {},
   "outputs": [
    {
     "name": "stdout",
     "output_type": "stream",
     "text": [
      "<__main__.Kangaroo object at 0x000001CCE8D7B550> with pouch contents:\n",
      "    <__main__.Kangaroo object at 0x000001CCE8D7BA58>\n",
      "    <__main__.Kangaroo object at 0x000001CCE8B69C88>\n",
      "    <__main__.Kangaroo object at 0x000001CCE8D7B358>\n",
      "    <__main__.Kangaroo object at 0x000001CCE89BAE80>\n",
      "    <__main__.Kangaroo object at 0x000001CCE8D7BC88>\n",
      "    'wallet'\n"
     ]
    }
   ],
   "source": [
    "kanga=Kangaroo()\n",
    "kanga.put_in_pouch('wallet')\n",
    "print(kanga)"
   ]
  },
  {
   "cell_type": "code",
   "execution_count": 74,
   "metadata": {},
   "outputs": [
    {
     "ename": "SyntaxError",
     "evalue": "Missing parentheses in call to 'print'. Did you mean print(kanga)? (<ipython-input-74-193d939383f3>, line 67)",
     "output_type": "error",
     "traceback": [
      "\u001b[1;36m  File \u001b[1;32m\"<ipython-input-74-193d939383f3>\"\u001b[1;36m, line \u001b[1;32m67\u001b[0m\n\u001b[1;33m    print kanga\u001b[0m\n\u001b[1;37m              ^\u001b[0m\n\u001b[1;31mSyntaxError\u001b[0m\u001b[1;31m:\u001b[0m Missing parentheses in call to 'print'. Did you mean print(kanga)?\n"
     ]
    }
   ],
   "source": [
    "\"\"\"\n",
    "\n",
    "This program is part of an exercise in\n",
    "Think Python: An Introduction to Software Design\n",
    "Allen B. Downey\n",
    "\n",
    "This program explains and corrects a bug in BadKangaroo.py.\n",
    "Before reading this, you should try to debug BadKangaroo.\n",
    "\n",
    "\"\"\"\n",
    "\n",
    "class Kangaroo(object):\n",
    "    \"\"\"a Kangaroo is a marsupial\"\"\"\n",
    "    \n",
    "    def __init__(self, contents=[]):\n",
    "        # The problem is the default value for contents.\n",
    "        # Default values get evaluated ONCE, when the function\n",
    "        # is defined; they don't get evaluated again when the\n",
    "        # function is called.\n",
    "\n",
    "        # In this case that means that when __init__ is defined,\n",
    "        # [] gets evaluated and contents gets a reference to\n",
    "        # an empty list.\n",
    "\n",
    "        # After that, every Kangaroo that gets the default\n",
    "        # value get a reference to THE SAME list.  If any\n",
    "        # Kangaroo modifies this shared list, they all see\n",
    "        # the change.\n",
    "\n",
    "        # The next version of __init__ shows an idiomatic way\n",
    "        # to avoid this problem.\n",
    "        self.pouch_contents = contents\n",
    "\n",
    "    def __init__(self, contents=None):\n",
    "        # In this version, the default value is None.  When\n",
    "        # __init__ runs, it checks the value of contents and,\n",
    "        # if necessary, creates a new empty list.  That way,\n",
    "        # every Kangaroo that gets the default value get a\n",
    "        # reference to a different list.\n",
    "\n",
    "        # As a general rule, you should avoid using a mutable\n",
    "        # object as a default value, unless you really know\n",
    "        # what you are doing.\n",
    "        if contents == None:\n",
    "            contents = []\n",
    "        self.pouch_contents = contents\n",
    "\n",
    "    def __str__(self):\n",
    "        \"\"\"return a string representation of this Kangaroo and\n",
    "        the contents of the pouch, with one item per line\"\"\"\n",
    "        t = [ object.__str__(self) + ' with pouch contents:' ]\n",
    "        for obj in self.pouch_contents:\n",
    "            s = '    ' + object.__str__(obj)\n",
    "            t.append(s)\n",
    "        return '\\n'.join(t)\n",
    "\n",
    "    def put_in_pouch(self, item):\n",
    "        \"\"\"add a new item to the pouch contents\"\"\"\n",
    "        self.pouch_contents.append(item)\n",
    "\n",
    "kanga = Kangaroo()\n",
    "roo = Kangaroo()\n",
    "kanga.put_in_pouch('wallet')\n",
    "kanga.put_in_pouch('car keys')\n",
    "kanga.put_in_pouch(roo)\n",
    "\n",
    "print kanga\n",
    "print ''\n",
    "\n",
    "print roo"
   ]
  },
  {
   "cell_type": "code",
   "execution_count": 2,
   "metadata": {},
   "outputs": [
    {
     "data": {
      "text/html": [
       "<div id=\"glowscript\" class=\"glowscript\"></div>"
      ],
      "text/plain": [
       "<IPython.core.display.HTML object>"
      ]
     },
     "metadata": {},
     "output_type": "display_data"
    },
    {
     "data": {
      "application/javascript": [
       "if (typeof Jupyter !== \"undefined\") { window.__context = { glowscript_container: $(\"#glowscript\").removeAttr(\"id\")};}else{ element.textContent = ' ';}"
      ],
      "text/plain": [
       "<IPython.core.display.Javascript object>"
      ]
     },
     "metadata": {},
     "output_type": "display_data"
    },
    {
     "ename": "TypeError",
     "evalue": "center must be a vector",
     "output_type": "error",
     "traceback": [
      "\u001b[1;31m---------------------------------------------------------------------------\u001b[0m",
      "\u001b[1;31mTypeError\u001b[0m                                 Traceback (most recent call last)",
      "\u001b[1;32m<ipython-input-2-ffc4ecf6d76d>\u001b[0m in \u001b[0;36m<module>\u001b[1;34m\u001b[0m\n\u001b[0;32m      2\u001b[0m \u001b[1;32mfrom\u001b[0m \u001b[0mvpython\u001b[0m \u001b[1;32mimport\u001b[0m \u001b[1;33m*\u001b[0m\u001b[1;33m\u001b[0m\u001b[1;33m\u001b[0m\u001b[0m\n\u001b[0;32m      3\u001b[0m \u001b[0mscene\u001b[0m\u001b[1;33m.\u001b[0m\u001b[0mrange\u001b[0m\u001b[1;33m=\u001b[0m\u001b[1;33m(\u001b[0m\u001b[1;36m256\u001b[0m\u001b[1;33m,\u001b[0m\u001b[1;36m256\u001b[0m\u001b[1;33m,\u001b[0m\u001b[1;36m256\u001b[0m\u001b[1;33m)\u001b[0m\u001b[1;33m\u001b[0m\u001b[1;33m\u001b[0m\u001b[0m\n\u001b[1;32m----> 4\u001b[1;33m \u001b[0mscene\u001b[0m\u001b[1;33m.\u001b[0m\u001b[0mcenter\u001b[0m\u001b[1;33m=\u001b[0m\u001b[1;33m(\u001b[0m\u001b[1;36m128\u001b[0m\u001b[1;33m,\u001b[0m\u001b[1;36m128\u001b[0m\u001b[1;33m,\u001b[0m\u001b[1;36m128\u001b[0m\u001b[1;33m)\u001b[0m\u001b[1;33m\u001b[0m\u001b[1;33m\u001b[0m\u001b[0m\n\u001b[0m\u001b[0;32m      5\u001b[0m \u001b[1;33m\u001b[0m\u001b[0m\n\u001b[0;32m      6\u001b[0m \u001b[0mcolor\u001b[0m\u001b[1;33m(\u001b[0m\u001b[1;36m0.1\u001b[0m\u001b[1;33m,\u001b[0m\u001b[1;36m0.1\u001b[0m\u001b[1;33m,\u001b[0m\u001b[1;36m0.9\u001b[0m\u001b[1;33m)\u001b[0m\u001b[1;33m\u001b[0m\u001b[1;33m\u001b[0m\u001b[0m\n",
      "\u001b[1;32mD:\\anaconda\\lib\\site-packages\\vpython\\vpython.py\u001b[0m in \u001b[0;36mcenter\u001b[1;34m(self, value)\u001b[0m\n\u001b[0;32m   2995\u001b[0m                 \u001b[0mself\u001b[0m\u001b[1;33m.\u001b[0m\u001b[0mappendcmd\u001b[0m\u001b[1;33m(\u001b[0m\u001b[1;33m{\u001b[0m\u001b[1;34m\"center\"\u001b[0m\u001b[1;33m:\u001b[0m\u001b[0mvalue\u001b[0m\u001b[1;33m.\u001b[0m\u001b[0mvalue\u001b[0m\u001b[1;33m}\u001b[0m\u001b[1;33m)\u001b[0m\u001b[1;33m\u001b[0m\u001b[1;33m\u001b[0m\u001b[0m\n\u001b[0;32m   2996\u001b[0m         \u001b[1;32melse\u001b[0m\u001b[1;33m:\u001b[0m\u001b[1;33m\u001b[0m\u001b[1;33m\u001b[0m\u001b[0m\n\u001b[1;32m-> 2997\u001b[1;33m             \u001b[1;32mraise\u001b[0m \u001b[0mTypeError\u001b[0m\u001b[1;33m(\u001b[0m\u001b[1;34m'center must be a vector'\u001b[0m\u001b[1;33m)\u001b[0m\u001b[1;33m\u001b[0m\u001b[1;33m\u001b[0m\u001b[0m\n\u001b[0m\u001b[0;32m   2998\u001b[0m \u001b[1;33m\u001b[0m\u001b[0m\n\u001b[0;32m   2999\u001b[0m     \u001b[1;33m@\u001b[0m\u001b[0mproperty\u001b[0m\u001b[1;33m\u001b[0m\u001b[1;33m\u001b[0m\u001b[0m\n",
      "\u001b[1;31mTypeError\u001b[0m: center must be a vector"
     ]
    }
   ],
   "source": [
    "#练习：\n",
    "from vpython import *\n",
    "scene.range=(256,256,256)\n",
    "scene.center=(128,128,128)\n",
    "\n",
    "color(0.1,0.1,0.9)\n",
    "sphere(pos=scene.center,radius=128,color=color)"
   ]
  },
  {
   "cell_type": "code",
   "execution_count": null,
   "metadata": {},
   "outputs": [],
   "source": []
  }
 ],
 "metadata": {
  "kernelspec": {
   "display_name": "Python 3",
   "language": "python",
   "name": "python3"
  },
  "language_info": {
   "codemirror_mode": {
    "name": "ipython",
    "version": 3
   },
   "file_extension": ".py",
   "mimetype": "text/x-python",
   "name": "python",
   "nbconvert_exporter": "python",
   "pygments_lexer": "ipython3",
   "version": "3.7.2"
  }
 },
 "nbformat": 4,
 "nbformat_minor": 2
}
