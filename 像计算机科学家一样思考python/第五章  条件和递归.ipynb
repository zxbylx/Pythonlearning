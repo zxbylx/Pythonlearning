{
 "cells": [
  {
   "cell_type": "code",
   "execution_count": 2,
   "metadata": {},
   "outputs": [
    {
     "name": "stdout",
     "output_type": "stream",
     "text": [
      "2.3333333333333335\n"
     ]
    }
   ],
   "source": [
    "quotient=7/3\n",
    "print(quotient)"
   ]
  },
  {
   "cell_type": "code",
   "execution_count": 8,
   "metadata": {},
   "outputs": [
    {
     "name": "stdout",
     "output_type": "stream",
     "text": [
      "1\n"
     ]
    }
   ],
   "source": [
    "remainder=7%3\n",
    "print(remainder)"
   ]
  },
  {
   "cell_type": "code",
   "execution_count": 2,
   "metadata": {},
   "outputs": [
    {
     "data": {
      "text/plain": [
       "True"
      ]
     },
     "execution_count": 2,
     "metadata": {},
     "output_type": "execute_result"
    }
   ],
   "source": [
    "5==5"
   ]
  },
  {
   "cell_type": "code",
   "execution_count": 5,
   "metadata": {},
   "outputs": [
    {
     "data": {
      "text/plain": [
       "bool"
      ]
     },
     "execution_count": 5,
     "metadata": {},
     "output_type": "execute_result"
    }
   ],
   "source": [
    "type(True)"
   ]
  },
  {
   "cell_type": "code",
   "execution_count": 12,
   "metadata": {},
   "outputs": [
    {
     "name": "stdout",
     "output_type": "stream",
     "text": [
      "3\n",
      "2\n",
      "1\n",
      "Blastoff!\n"
     ]
    }
   ],
   "source": [
    "def countdown(n):\n",
    "    if n<=0:\n",
    "        print('Blastoff!')\n",
    "    else:\n",
    "        print(n)\n",
    "        countdown(n-1)\n",
    "        \n",
    "countdown(3)"
   ]
  },
  {
   "cell_type": "code",
   "execution_count": 10,
   "metadata": {},
   "outputs": [
    {
     "name": "stdout",
     "output_type": "stream",
     "text": [
      "3\n",
      "3\n",
      "3\n",
      "3\n"
     ]
    }
   ],
   "source": [
    "def print_n(s,n):\n",
    "    if n<=0:\n",
    "        return\n",
    "    print(s)\n",
    "    print_n(s,n-1)\n",
    "print_n(3,4)"
   ]
  },
  {
   "cell_type": "code",
   "execution_count": 13,
   "metadata": {},
   "outputs": [
    {
     "name": "stdout",
     "output_type": "stream",
     "text": [
      "hello\n",
      "hello\n",
      "hello\n",
      "hello\n",
      "hello\n",
      "hello\n",
      "hello\n",
      "hello\n",
      "hello\n"
     ]
    }
   ],
   "source": [
    "#写一个函数do_n,接受一个函数对象和一个数字n作为形参，它会调用给定的函数n次。\n",
    "def do_n(n):\n",
    "    if n<=0:\n",
    "        return\n",
    "    print_n('hello',3)\n",
    "    do_n(n-1)\n",
    "do_n(3)\n"
   ]
  },
  {
   "cell_type": "code",
   "execution_count": null,
   "metadata": {},
   "outputs": [],
   "source": []
  },
  {
   "cell_type": "code",
   "execution_count": null,
   "metadata": {},
   "outputs": [],
   "source": []
  },
  {
   "cell_type": "code",
   "execution_count": 1,
   "metadata": {},
   "outputs": [
    {
     "name": "stdout",
     "output_type": "stream",
     "text": [
      "what is your name?\n",
      "hello\n"
     ]
    }
   ],
   "source": [
    "name=input('what is your name?\\n')"
   ]
  },
  {
   "cell_type": "code",
   "execution_count": 7,
   "metadata": {},
   "outputs": [
    {
     "name": "stdout",
     "output_type": "stream",
     "text": [
      "what is your name?\n",
      "helo\n"
     ]
    }
   ],
   "source": [
    "prompt='what is your name?\\n'\n",
    "name=input(prompt)"
   ]
  },
  {
   "cell_type": "code",
   "execution_count": 3,
   "metadata": {},
   "outputs": [
    {
     "name": "stdout",
     "output_type": "stream",
     "text": [
      "-0.4575749056067512\n"
     ]
    }
   ],
   "source": [
    "import math\n",
    "signal_power=9\n",
    "noise_power=10\n",
    "ratio=signal_power/noise_power\n",
    "decibels=10*math.log10(ratio)\n",
    "print(decibels)"
   ]
  },
  {
   "cell_type": "code",
   "execution_count": 12,
   "metadata": {},
   "outputs": [
    {
     "name": "stdout",
     "output_type": "stream",
     "text": [
      "不，那样不行\n"
     ]
    }
   ],
   "source": [
    "#练习5-3,验证费马大定理\n",
    "def check_fermat(a,b,c,n):\n",
    "    if a**n+b**n==c**n and n>2:\n",
    "        print('天哪，费马弄错了！')\n",
    "    else:\n",
    "        print('不，那样不行')\n",
    "check_fermat(3,4,5,2)\n",
    "    "
   ]
  },
  {
   "cell_type": "code",
   "execution_count": 13,
   "metadata": {},
   "outputs": [
    {
     "name": "stdout",
     "output_type": "stream",
     "text": [
      "a:1\n",
      "b:2\n",
      "c:3\n",
      "n:4\n",
      "不，那样不行\n"
     ]
    }
   ],
   "source": [
    "\n",
    "a=int(input('a:'))\n",
    "b=int(input('b:'))\n",
    "c=int(input('c:'))\n",
    "n=int(input('n:'))\n",
    "check_fermat(a,b,c,n)"
   ]
  },
  {
   "cell_type": "code",
   "execution_count": 16,
   "metadata": {},
   "outputs": [
    {
     "name": "stdout",
     "output_type": "stream",
     "text": [
      "请依次输入正整数a、b、c、n来检验费马定理是否正确(输入时请以空格隔开)\n",
      "1 2 3 4\n",
      "不，那样不行\n"
     ]
    }
   ],
   "source": [
    "def input_abcn():\n",
    "    res = input('请依次输入正整数a、b、c、n来检验费马定理是否正确(输入时请以空格隔开)\\n')\n",
    "    a, b, c, n = [int(n) for n in res.strip().split()]\n",
    "    check_fermat(a, b, c, n)\n",
    "input_abcn()"
   ]
  },
  {
   "cell_type": "code",
   "execution_count": 18,
   "metadata": {},
   "outputs": [
    {
     "name": "stdout",
     "output_type": "stream",
     "text": [
      "No\n"
     ]
    }
   ],
   "source": [
    "def is_triangle(a,b,c):\n",
    "    if a>b+c or b>a+c or c>a+b:\n",
    "        print('No')\n",
    "    else:\n",
    "        print('Yes')\n",
    "is_triangle(1,2,4)"
   ]
  },
  {
   "cell_type": "code",
   "execution_count": 19,
   "metadata": {},
   "outputs": [
    {
     "name": "stdout",
     "output_type": "stream",
     "text": [
      "请依次输入正整数a,b,c（输入时以空格隔开）\n",
      "2 3 6\n",
      "No\n"
     ]
    }
   ],
   "source": [
    "def input_abc():\n",
    "    res=input('请依次输入正整数a,b,c（输入时以空格隔开）\\n')\n",
    "    a,b,c=[int(n) for n in res.strip().split()]\n",
    "    is_triangle(a,b,c)\n",
    "input_abc()"
   ]
  },
  {
   "cell_type": "code",
   "execution_count": 22,
   "metadata": {},
   "outputs": [
    {
     "name": "stdout",
     "output_type": "stream",
     "text": [
      "4\n",
      "3\n",
      "2\n",
      "1\n"
     ]
    }
   ],
   "source": [
    "def func():\n",
    "    print('hello')\n",
    "def do_n(func, n):\n",
    "    if n <= 0:\n",
    "        return\n",
    "    print(n)\n",
    "    do_n(func, n-1)\n",
    "do_n(func,4)"
   ]
  },
  {
   "cell_type": "code",
   "execution_count": null,
   "metadata": {},
   "outputs": [],
   "source": []
  }
 ],
 "metadata": {
  "kernelspec": {
   "display_name": "Python 3",
   "language": "python",
   "name": "python3"
  },
  "language_info": {
   "codemirror_mode": {
    "name": "ipython",
    "version": 3
   },
   "file_extension": ".py",
   "mimetype": "text/x-python",
   "name": "python",
   "nbconvert_exporter": "python",
   "pygments_lexer": "ipython3",
   "version": "3.7.2"
  }
 },
 "nbformat": 4,
 "nbformat_minor": 2
}
