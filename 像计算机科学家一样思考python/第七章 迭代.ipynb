{
 "cells": [
  {
   "cell_type": "code",
   "execution_count": 3,
   "metadata": {},
   "outputs": [],
   "source": [
    "def countdown(n):\n",
    "    while n>0:\n",
    "        print(n)\n",
    "        n=n-1\n",
    "    print('Blastoff!')"
   ]
  },
  {
   "cell_type": "code",
   "execution_count": 4,
   "metadata": {},
   "outputs": [
    {
     "name": "stdout",
     "output_type": "stream",
     "text": [
      "10\n",
      "9\n",
      "8\n",
      "7\n",
      "6\n",
      "5\n",
      "4\n",
      "3\n",
      "2\n",
      "1\n",
      "Blastoff!\n"
     ]
    }
   ],
   "source": [
    "countdown(10)"
   ]
  },
  {
   "cell_type": "code",
   "execution_count": 5,
   "metadata": {},
   "outputs": [
    {
     "name": "stdout",
     "output_type": "stream",
     "text": [
      "3\n",
      "10\n",
      "5.0\n",
      "16.0\n",
      "8.0\n",
      "4.0\n",
      "2.0\n"
     ]
    }
   ],
   "source": [
    "def sequence(n):\n",
    "    while n!=1:\n",
    "        print(n)\n",
    "        if n%2==0: #n是偶数\n",
    "            n=n/2\n",
    "        else:\n",
    "            n=n*3+1 #n是奇数\n",
    "sequence(3)"
   ]
  },
  {
   "cell_type": "code",
   "execution_count": 6,
   "metadata": {},
   "outputs": [
    {
     "name": "stdout",
     "output_type": "stream",
     "text": [
      "hello\n",
      "hello\n",
      "hello\n"
     ]
    }
   ],
   "source": [
    "#5.8 print_n函数用循环写出来\n",
    "def print_n(s,n):\n",
    "    while n>0:\n",
    "        print(s)\n",
    "        n=n-1\n",
    "print_n('hello',3)"
   ]
  },
  {
   "cell_type": "code",
   "execution_count": 7,
   "metadata": {},
   "outputs": [
    {
     "name": "stdout",
     "output_type": "stream",
     "text": [
      ">done\n",
      "Done!\n"
     ]
    }
   ],
   "source": [
    "while True:\n",
    "    line=input('>')\n",
    "    if line=='done':\n",
    "        break\n",
    "    print(line)\n",
    "print('Done!')"
   ]
  },
  {
   "cell_type": "code",
   "execution_count": 8,
   "metadata": {},
   "outputs": [
    {
     "name": "stdout",
     "output_type": "stream",
     "text": [
      "2.1666666666666665\n"
     ]
    }
   ],
   "source": [
    "a=4.0\n",
    "x=3.0\n",
    "y=(x+a/x)/2\n",
    "print(y)"
   ]
  },
  {
   "cell_type": "code",
   "execution_count": 9,
   "metadata": {},
   "outputs": [
    {
     "name": "stdout",
     "output_type": "stream",
     "text": [
      "2.0064102564102564\n"
     ]
    }
   ],
   "source": [
    "x=y\n",
    "y=(x+a/x)/2\n",
    "print(y)"
   ]
  },
  {
   "cell_type": "code",
   "execution_count": 10,
   "metadata": {},
   "outputs": [
    {
     "name": "stdout",
     "output_type": "stream",
     "text": [
      "2.1666666666666665\n",
      "2.0064102564102564\n",
      "2.0000102400262145\n",
      "2.0000000000262146\n",
      "2.0\n"
     ]
    }
   ],
   "source": [
    "while True:\n",
    "    print(x)\n",
    "    y=(x+a/x)/2\n",
    "    if y==x: #这时两个值皆为a的平方根\n",
    "        break\n",
    "    x=y"
   ]
  },
  {
   "cell_type": "code",
   "execution_count": 26,
   "metadata": {},
   "outputs": [
    {
     "data": {
      "text/plain": [
       "1.414213562373095"
      ]
     },
     "execution_count": 26,
     "metadata": {},
     "output_type": "execute_result"
    }
   ],
   "source": [
    "#计算平方根\n",
    "def square_root(a):\n",
    "    x=3\n",
    "    epsilon=0.0000001\n",
    "    while True:\n",
    "#         print(x)\n",
    "        y=(x+a/x)/2  #这时一个固定公式\n",
    "#         if abs(y-x)<epsilon: #判断条件，相比于y==x,这样更安全一些，因为很多时候得不到y==x\n",
    "        if y==x:\n",
    "            break\n",
    "        x=y\n",
    "    return x\n",
    "square_root(2)"
   ]
  },
  {
   "cell_type": "code",
   "execution_count": 27,
   "metadata": {},
   "outputs": [
    {
     "name": "stdout",
     "output_type": "stream",
     "text": [
      "1\n",
      "1.0\n",
      "1.0  "
     ]
    }
   ],
   "source": [
    "import math\n",
    "def test_square_root(a):\n",
    "    print(a)\n",
    "    print(square_root(a))\n",
    "    print(math.sqrt(a),end=\"  \")\n",
    "test_square_root(1)"
   ]
  },
  {
   "cell_type": "code",
   "execution_count": 21,
   "metadata": {},
   "outputs": [
    {
     "name": "stdout",
     "output_type": "stream",
     "text": [
      "1  1.01.0  0.0\n",
      "2  1.4142135623730951.4142135623730951  2.220446049250313e-16\n",
      "3  1.73205080756887721.7320508075688772  0.0\n",
      "4  2.02.0  0.0\n",
      "5  2.236067977499792.23606797749979  0.0\n",
      "6  2.4494897427831782.449489742783178  0.0\n",
      "7  2.64575131106459072.6457513110645907  0.0\n",
      "8  2.828427124746192.8284271247461903  4.440892098500626e-16\n",
      "9  33.0  0.0\n"
     ]
    }
   ],
   "source": [
    "import math\n",
    "def test_square_root(a):\n",
    "    while a<10:\n",
    "        print(a,end=\"  \") #end后面默认是换行符，改成空则不换行继续打印\n",
    "        print(square_root(a),end=\"\") \n",
    "        print(math.sqrt(a),end=\"  \")\n",
    "        print(abs(square_root(a)-math.sqrt(a)))\n",
    "        a=a+1\n",
    "test_square_root(1)"
   ]
  },
  {
   "cell_type": "code",
   "execution_count": null,
   "metadata": {},
   "outputs": [
    {
     "name": "stdout",
     "output_type": "stream",
     "text": [
      "1  1.0                 1.0                   0.0                 \n",
      "2  1.414213562373095   1.4142135623730951    2.220446049250313e-16\n",
      "3  1.7320508075688772  1.7320508075688772    0.0                 \n",
      "4  2.0                 2.0                   0.0                 \n",
      "5  2.23606797749979    2.23606797749979      0.0                 \n",
      "6  2.449489742783178   2.449489742783178     0.0                 \n",
      "7  2.6457513110645907  2.6457513110645907    0.0                 \n",
      "8  2.82842712474619    2.8284271247461903    4.440892098500626e-16\n",
      "9  3                   3.0                   0.0                 \n"
     ]
    }
   ],
   "source": [
    "import math\n",
    "def test_square_root(a):\n",
    "    while a<10:\n",
    "        print(a,end=\"  \") #end后面默认是换行符，改成空则不换行继续打印\n",
    "        print('%-20s'%square_root(a),end=\"\") #%-20s 表示左对齐，且占用20个字符位\n",
    "        print('%-20s'%math.sqrt(a),end=\"  \")\n",
    "        print('%-20s'%abs(float(square_root(a))-float(math.sqrt(a))))#求绝对值首先得把两个值都改成统一字符类型，所以都变成float格式\n",
    "        a=a+1\n",
    "test_square_root(1)\n",
    "    \n",
    "    "
   ]
  },
  {
   "cell_type": "code",
   "execution_count": null,
   "metadata": {},
   "outputs": [
    {
     "name": "stdout",
     "output_type": "stream",
     "text": [
      "请输入：1+2\n"
     ]
    }
   ],
   "source": [
    "def eval_loop(a):\n",
    "    while a!='done':\n",
    "        eval(str(a))\n",
    "a=input('请输入：')\n",
    "eval_loop(a)"
   ]
  },
  {
   "cell_type": "code",
   "execution_count": 1,
   "metadata": {},
   "outputs": [
    {
     "name": "stdout",
     "output_type": "stream",
     "text": [
      "请输入：1+2\n"
     ]
    }
   ],
   "source": [
    "def eval_loop():\n",
    "    a=input('请输入：')\n",
    "    while a=='done':\n",
    "        break\n",
    "    eval(a)\n",
    "eval_loop()"
   ]
  },
  {
   "cell_type": "code",
   "execution_count": 2,
   "metadata": {},
   "outputs": [
    {
     "name": "stdout",
     "output_type": "stream",
     "text": [
      "请输入：math.sqrt(5)\n",
      "2.23606797749979\n",
      "请输入：5*4\n",
      "20\n",
      "请输入：done\n"
     ]
    }
   ],
   "source": [
    "import math\n",
    "def eval_loop():\n",
    "    while True:\n",
    "        a=input('请输入：')\n",
    "        if a=='done':\n",
    "            break\n",
    "        print(eval(str(a))) #eval内置函数，接收一个字符串并使用python解释器对它进行求职，但是并不返回值，需要打印\n",
    "eval_loop()"
   ]
  },
  {
   "cell_type": "code",
   "execution_count": 7,
   "metadata": {},
   "outputs": [
    {
     "ename": "SyntaxError",
     "evalue": "invalid syntax (<ipython-input-7-c6198d4f4c13>, line 11)",
     "output_type": "error",
     "traceback": [
      "\u001b[1;36m  File \u001b[1;32m\"<ipython-input-7-c6198d4f4c13>\"\u001b[1;36m, line \u001b[1;32m11\u001b[0m\n\u001b[1;33m    while (factorial(4k)*(1103+26390*k))/(factorial(k)**4*396**(4*k))>=1e-15:\u001b[0m\n\u001b[1;37m                      ^\u001b[0m\n\u001b[1;31mSyntaxError\u001b[0m\u001b[1;31m:\u001b[0m invalid syntax\n"
     ]
    }
   ],
   "source": [
    "def estimate_pi():\n",
    "    def factorial(n):\n",
    "        if n==0:\n",
    "            return 1\n",
    "        else:\n",
    "            recurse=factorial(n-1)\n",
    "            result=n*recurse\n",
    "            return result\n",
    "    a=0\n",
    "    k=0\n",
    "    while (factorial(4k)*(1103+26390*k))/(factorial(k)**4*396**(4*k))>=1e-15:\n",
    "        a+=(factorial(4k)*(1103+26390*k))/factorial(k)**4*396**(4*k)\n",
    "        k=k+1\n",
    "    return a\n",
    "    daoshu=2*math.sqrt(2)/9801*a\n",
    "    pi=1/daoshu\n",
    "    return pi\n",
    "estimate_pi()\n",
    "    "
   ]
  },
  {
   "cell_type": "code",
   "execution_count": 11,
   "metadata": {},
   "outputs": [
    {
     "ename": "SyntaxError",
     "evalue": "invalid syntax (<ipython-input-11-34f8f7a78fcc>, line 2)",
     "output_type": "error",
     "traceback": [
      "\u001b[1;36m  File \u001b[1;32m\"<ipython-input-11-34f8f7a78fcc>\"\u001b[1;36m, line \u001b[1;32m2\u001b[0m\n\u001b[1;33m    jieguo=(factorial(4k)*(1103+26390*k))/(factorial(k)**4*396**(4*k))\u001b[0m\n\u001b[1;37m                       ^\u001b[0m\n\u001b[1;31mSyntaxError\u001b[0m\u001b[1;31m:\u001b[0m invalid syntax\n"
     ]
    }
   ],
   "source": [
    "def qiuzhi(k):\n",
    "    jieguo=(factorial(4k)*(1103+26390*k))/(factorial(k)**4*396**(4*k))\n",
    "    while jieguo<1e-15:\n",
    "        break\n",
    "    jieguo=jieguo+(factorial(4(k+1))*(1103+26390*(k+1)))/(factorial(k+1)**4*396**(4*(k+1)))\n",
    "    return jieguo\n",
    "qiuzhi(0)"
   ]
  },
  {
   "cell_type": "code",
   "execution_count": 13,
   "metadata": {},
   "outputs": [
    {
     "ename": "SyntaxError",
     "evalue": "invalid syntax (<ipython-input-13-c4ff17603e73>, line 2)",
     "output_type": "error",
     "traceback": [
      "\u001b[1;36m  File \u001b[1;32m\"<ipython-input-13-c4ff17603e73>\"\u001b[1;36m, line \u001b[1;32m2\u001b[0m\n\u001b[1;33m    print((factorial(4k)*(1103+26390*k))/(factorial(k)**4*396**(4*k)))\u001b[0m\n\u001b[1;37m                      ^\u001b[0m\n\u001b[1;31mSyntaxError\u001b[0m\u001b[1;31m:\u001b[0m invalid syntax\n"
     ]
    }
   ],
   "source": [
    "def qiuzhi_1(k):\n",
    "    print((factorial(4k)*(1103+26390*k))/(factorial(k)**4*396**(4*k)))\n",
    "qiuzhi_1(1)"
   ]
  },
  {
   "cell_type": "code",
   "execution_count": 15,
   "metadata": {},
   "outputs": [
    {
     "data": {
      "text/plain": [
       "float"
      ]
     },
     "execution_count": 15,
     "metadata": {},
     "output_type": "execute_result"
    }
   ],
   "source": [
    "type((factorial(4)*(1103+26390*1))/(factorial(1)**4*396**(4*1)))"
   ]
  },
  {
   "cell_type": "code",
   "execution_count": 28,
   "metadata": {},
   "outputs": [
    {
     "name": "stdout",
     "output_type": "stream",
     "text": [
      "3.1415927300133055\n"
     ]
    }
   ],
   "source": [
    "import math\n",
    "def factorial(n):\n",
    "    if n==0:\n",
    "        return 1\n",
    "    else:\n",
    "        recurse=factorial(n-1)\n",
    "        result=n*recurse\n",
    "        return result\n",
    "def estimate_pi():\n",
    "    total=0\n",
    "    k=0\n",
    "    factor=2*math.sqrt(2)/9801\n",
    "    while True:\n",
    "        num=factorial(4*k)*(1103+26390*k)\n",
    "        den=factorial(k)**4*396**(4*k)\n",
    "        term=factor*num/den\n",
    "        total+=term\n",
    "        if abs(term)<1e-15:\n",
    "            break\n",
    "        k+=1\n",
    "        return 1/total\n",
    "print(estimate_pi())\n",
    "        "
   ]
  },
  {
   "cell_type": "code",
   "execution_count": null,
   "metadata": {},
   "outputs": [],
   "source": []
  }
 ],
 "metadata": {
  "kernelspec": {
   "display_name": "Python 3",
   "language": "python",
   "name": "python3"
  },
  "language_info": {
   "codemirror_mode": {
    "name": "ipython",
    "version": 3
   },
   "file_extension": ".py",
   "mimetype": "text/x-python",
   "name": "python",
   "nbconvert_exporter": "python",
   "pygments_lexer": "ipython3",
   "version": "3.7.2"
  }
 },
 "nbformat": 4,
 "nbformat_minor": 2
}
