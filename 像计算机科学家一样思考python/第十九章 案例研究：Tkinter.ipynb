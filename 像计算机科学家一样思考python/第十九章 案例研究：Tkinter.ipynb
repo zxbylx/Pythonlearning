{
 "cells": [
  {
   "cell_type": "code",
   "execution_count": 19,
   "metadata": {},
   "outputs": [
    {
     "name": "stdout",
     "output_type": "stream",
     "text": [
      "Called.\n"
     ]
    }
   ],
   "source": [
    "from swampy.Gui import *\n",
    "g=Gui()\n",
    "#标题\n",
    "g.title('Gui')\n",
    "#按钮\n",
    "button=g.bu(text='Press me.')\n",
    "#标签\n",
    "label=g.la(text='Press the button.')\n",
    "def make_label():\n",
    "    g.la(text='Thank you')\n",
    "button2=g.bu(text='No,press me!',command=make_label) #command选项的值时一个喊函数对象，通常被称为回调\n",
    "#画布，画布的坐标原点是中心\n",
    "canvas=g.ca(width=500,height=500)\n",
    "canvas.config(bg='white')#修改画布背景色\n",
    "#圆\n",
    "# item=canvas.circle([0,0],100,fill='red')\n",
    "# item.config(fill='yellow',outline='orange',width=10)\n",
    "#矩形，指定左下角和右上角坐标，指定对角顶点方式叫边界盒\n",
    "canvas.rectangle([[0,0],[200,100]],fill='blue',outline='orange',width=10)\n",
    "#椭圆，在边界盒内画\n",
    "canvas.oval([[0,0],[200,100]],outline='orange',width=10)\n",
    "#接收一坐标序列，并绘制一条折线连接各个点。\n",
    "canvas.line([[0,0],[100,200],[200,100]],width=10)\n",
    "#接收相同形参绘制多边形\n",
    "canvas.polygon([[0,100],[100,200],[200,100]],fill='red',outline='orange',width=10)\n",
    "#单行输入框\n",
    "entry=g.en(text='Default text.')\n",
    "entry.get()\n",
    "#文本框部件\n",
    "text=g.te(width=100,height=5)#width表示字符数，height表示行数\n",
    "text.insert(END,'A line of text.')#在文本框插入字符，END表示文本框部件的最后一个字符\n",
    "text.insert(1.1,'nother') #句点之前是行号，之后是列号，表示在第一行第一个字符后添加nother\n",
    "text.get(0.0,END)\n",
    "# text.delete(1.2,END)#删除除了前两个字符之外的全部文本\n",
    "text.get(1.0,1.4)\n",
    "\n",
    "g.mainloop()"
   ]
  },
  {
   "cell_type": "code",
   "execution_count": 17,
   "metadata": {},
   "outputs": [],
   "source": [
    "#练习：创建一个GUI，包含一个按钮，点击按钮创建另一个按钮，点击新创建按钮，创建一个“写的不错”的标签\n",
    "a=Gui()\n",
    "a.title('Button_demo')\n",
    "def make_button():\n",
    "    a.bu(text='button2',command=make_label)\n",
    "def make_label():\n",
    "    a.la(text='做的不错！')\n",
    "button1=a.bu(text='button1',command=make_button)\n",
    "\n",
    "a.mainloop()"
   ]
  },
  {
   "cell_type": "code",
   "execution_count": 20,
   "metadata": {},
   "outputs": [],
   "source": [
    "#练习：创建一个画布和按钮。当用户按下按钮时，它应在画布上绘制一个圆\n",
    "b=Gui()\n",
    "b.title('19-2')\n",
    "def make_circle():\n",
    "    item=canvas.circle([50,50],100,fill='red')\n",
    "canvas=b.ca(width=500,height=500)\n",
    "canvas.config(bg='white')\n",
    "button=b.bu(text='画圆',command=make_circle)\n",
    "b.mainloop()"
   ]
  },
  {
   "cell_type": "code",
   "execution_count": 24,
   "metadata": {},
   "outputs": [
    {
     "name": "stderr",
     "output_type": "stream",
     "text": [
      "Exception in Tkinter callback\n",
      "Traceback (most recent call last):\n",
      "  File \"D:\\anaconda\\lib\\tkinter\\__init__.py\", line 1705, in __call__\n",
      "    return self.func(*args)\n",
      "  File \"<ipython-input-24-c954f343d37d>\", line 8, in change_color\n",
      "    item.config(fill=entry.get())\n",
      "  File \"D:\\anaconda\\lib\\site-packages\\swampy\\Gui.py\", line 931, in config\n",
      "    self.canvas.itemconfig(self.tag, **options)\n",
      "  File \"D:\\anaconda\\lib\\tkinter\\__init__.py\", line 2578, in itemconfigure\n",
      "    return self._configure(('itemconfigure', tagOrId), cnf, kw)\n",
      "  File \"D:\\anaconda\\lib\\tkinter\\__init__.py\", line 1476, in _configure\n",
      "    self.tk.call(_flatten((self._w, cmd)) + self._options(cnf))\n",
      "_tkinter.TclError: invalid command name \".!guicanvas\"\n"
     ]
    }
   ],
   "source": [
    "#练习，修改19-2解答，添加一个输入框和按钮，按下第二个按钮，读取输入框中的一个颜色名称，并使用哪个颜色填充圆圈\n",
    "b=Gui()\n",
    "b.title('19-2')\n",
    "def make_circle():\n",
    "    global item #忽略应该把函数内的变量改成全局变量\n",
    "    item=canvas.circle([50,50],100,fill='red')\n",
    "def change_color():\n",
    "    item.config(fill=entry.get())\n",
    "canvas=b.ca(width=500,height=500)\n",
    "canvas.config(bg='white')\n",
    "button=b.bu(text='画圆',command=make_circle)\n",
    "entry=b.en()\n",
    "\n",
    "button2=b.bu(text='改变颜色',command=change_color)\n",
    "b.mainloop()"
   ]
  },
  {
   "cell_type": "code",
   "execution_count": 86,
   "metadata": {},
   "outputs": [],
   "source": [
    "b=Gui()\n",
    "b.title('19-3')\n",
    "canvas=b.ca(width=500,height=500,bg='white')\n",
    "circle=None\n",
    "def callback1():\n",
    "    global circle\n",
    "    circle=canvas.circle([0,0],100)\n",
    "def callback2():\n",
    "    if circle==None:\n",
    "        return\n",
    "    color=entry.get()\n",
    "    circle.config(fill=color)\n",
    "\n",
    "button1=b.bu('画圆',command=callback1)\n",
    "button2=b.bu('改变颜色',command=callback2)\n",
    "entry=b.en()\n",
    "b.mainloop()\n",
    "#发现自己在捕捉异常方法还有所欠缺"
   ]
  },
  {
   "cell_type": "code",
   "execution_count": 3,
   "metadata": {},
   "outputs": [],
   "source": [
    "#包装部件\n",
    "from swampy.TurtleWorld import *\n",
    "from swampy.World import Interpreter\n",
    "class SimpleTurtleWorld(TurtleWorld):\n",
    "    '''This class is identical to TurtleWorld,but the code that\n",
    "    lays out the GUI is simplified for explanatory purposes.'''\n",
    "    def run_file(self):\n",
    "        filename=self.en_file.get()\n",
    "        fp=open(filename)\n",
    "        source=fp.read()\n",
    "        self.inter.run_code(source,filename) #self.inter是一个解释器对象，知道怎么接收一段字符串并将其作为python代码执行\n",
    "    def run_text(self):\n",
    "        source=self.te_code.get(1.0,END)\n",
    "        self.inter.run_code(source,'<user-porvided code>')\n",
    "    def setup(self):#setup用来创建和排布部件的函数，在GUI程序汇总排布部件被称为包装\n",
    "        self.row() #row创建一个单行画面矿并将它设成当前画面框\n",
    "        self.canvas=self.ca(width=400,height=400,bg='white')\n",
    "        self.col()#列画面框\n",
    "        self.gr(cols=2)#创建网格，形参是列数，网格中部件从左到右，从上到下的顺序安放\n",
    "        self.bu(text='Print canvas',command=self.canvas.dump)\n",
    "        self.bu(text='Quit',command=self.quit)\n",
    "        self.bu(text='Make Turtle',command=self.make_turtle)\n",
    "        self.bu(text='Clear',command=self.clear)\n",
    "        self.endgr()\n",
    "        #下面是行画面框，包含一个按钮和输入框\n",
    "        self.row([0,1],pady=30)#row的第一个参数是权重列表，决定部件之间额外空白如何分配,pady在y方向上填补这一行，上下各添加30像素空白\n",
    "        self.bu(text='Run file',command=self.run_file)\n",
    "        self.en_file=self.en(text='snowflake.py',width=5)\n",
    "        self.endrow()\n",
    "        \n",
    "        \n",
    "        \n",
    "        self.te_code=self.te(width=25,height=10)\n",
    "        self.te_code.insert(END,'world.clear()\\n')\n",
    "        self.te_code.insert(END,'bob=Turtle(world)\\n')\n",
    "        \n",
    "        self.bu(text='Run code',command=self.run_text)\n",
    "        self.endcol()\n",
    "world = SimpleTurtleWorld()\n",
    "world.inter = Interpreter(world, globals())\n",
    "world.mainloop()    "
   ]
  },
  {
   "cell_type": "code",
   "execution_count": 9,
   "metadata": {},
   "outputs": [
    {
     "name": "stdout",
     "output_type": "stream",
     "text": [
      "green\n",
      "blue\n"
     ]
    }
   ],
   "source": [
    "#菜单与callable\n",
    "from swampy.Gui import *\n",
    "g=Gui()\n",
    "g.la('Select a color:')\n",
    "colors=['red','green','blue']\n",
    "mb=g.mb(text=colors[0])#mb创建菜单按钮\n",
    "#下面循环对每一个颜色创建一个菜单项\n",
    "def set_color(color):\n",
    "    mb.config(text=color)\n",
    "    print(color)\n",
    "for color in colors:\n",
    "    g.mi(mb,text=color,command=Callable(set_color,color)) #callable用于需要传入实参时的回调函数，第一个参数是函数，第二个参数是函数的实参\n",
    "\n",
    "g.mainloop()"
   ]
  },
  {
   "cell_type": "code",
   "execution_count": 12,
   "metadata": {},
   "outputs": [],
   "source": [
    "#绑定\n",
    "\"\"\"This module contains code from\n",
    "Think Python by Allen B. Downey\n",
    "http://thinkpython.com\n",
    "\n",
    "Copyright 2012 Allen B. Downey\n",
    "License: GNU GPLv3 http://www.gnu.org/licenses/gpl.html\n",
    "\n",
    "\"\"\"\n",
    "\n",
    "from swampy.Gui import *\n",
    "\n",
    "class Draggable(Item):\n",
    "    \"\"\"A Canvas Item with bindings for dragging and dropping.\n",
    "\n",
    "    Given an item, Draggable(item) creates bindings and returns\n",
    "    a Draggable object with the same canvas and tag as the original.\n",
    "    \"\"\"\n",
    "    def __init__(self, item):\n",
    "        self.canvas = item.canvas\n",
    "        self.tag = item.tag\n",
    "        self.bind('<ButtonPress-1>', self.select)\n",
    "        self.bind('<B1-Motion>', self.drag)\n",
    "        self.bind('<ButtonRelease-1>', self.drop)\n",
    "\n",
    "    # the following event handlers take an event object as a parameter\n",
    "\n",
    "    def select(self, event):\n",
    "        \"\"\"Selects this item for dragging.\"\"\"\n",
    "        self.dragx = event.x\n",
    "        self.dragy = event.y\n",
    "\n",
    "        self.fill = self.cget('fill')\n",
    "        self.config(fill='orange')\n",
    "        \n",
    "    def drag(self, event):\n",
    "        \"\"\"Move this item using the pixel coordinates in the event object.\"\"\"\n",
    "        # see how far we have moved\n",
    "        dx = event.x - self.dragx\n",
    "        dy = event.y - self.dragy\n",
    "\n",
    "        # save the current drag coordinates\n",
    "        self.dragx = event.x\n",
    "        self.dragy = event.y\n",
    "\n",
    "        # move the item \n",
    "        self.move(dx, dy)\n",
    "\n",
    "    def drop(self, event):\n",
    "        \"\"\"Drops this item.\"\"\"\n",
    "        self.config(fill=self.fill)\n",
    "\n",
    "\n",
    "# create the Gui and the Canvas\n",
    "g = Gui()\n",
    "ca = g.ca(width=500, height=500, bg='white')\n",
    "\n",
    "def make_circle(event):\n",
    "    \"\"\"Makes a circle item at the location of a button press.\"\"\"\n",
    "    pos = ca.canvas_coords([event.x, event.y])\n",
    "    item = ca.circle(pos, 5, fill='red')\n",
    "    item = Draggable(item)\n",
    "\n",
    "ca.bind('<ButtonPress-3>', make_circle)\n",
    "\n",
    "def make_text(event=None):\n",
    "    \"\"\"Pressing Return in the Entry makes a text item.\"\"\"\n",
    "    text = en.get()\n",
    "    item = ca.text([0,0], text)\n",
    "    item = Draggable(item)\n",
    "\n",
    "\n",
    "g.row([0,1])\n",
    "bu = g.bu('Make text item:', make_text)\n",
    "en = g.en()\n",
    "en.bind('<Return>', make_text)\n",
    "\n",
    "g.mainloop()"
   ]
  },
  {
   "cell_type": "code",
   "execution_count": 25,
   "metadata": {},
   "outputs": [
    {
     "ename": "ModuleNotFoundError",
     "evalue": "No module named 'Tkinter'",
     "output_type": "error",
     "traceback": [
      "\u001b[1;31m---------------------------------------------------------------------------\u001b[0m",
      "\u001b[1;31mModuleNotFoundError\u001b[0m                       Traceback (most recent call last)",
      "\u001b[1;32m<ipython-input-25-cd909e326a43>\u001b[0m in \u001b[0;36m<module>\u001b[1;34m\u001b[0m\n\u001b[1;32m----> 1\u001b[1;33m \u001b[1;32mimport\u001b[0m \u001b[0mTkinter\u001b[0m\u001b[1;33m\u001b[0m\u001b[1;33m\u001b[0m\u001b[0m\n\u001b[0m",
      "\u001b[1;31mModuleNotFoundError\u001b[0m: No module named 'Tkinter'"
     ]
    }
   ],
   "source": [
    "import Tkinter"
   ]
  },
  {
   "cell_type": "code",
   "execution_count": null,
   "metadata": {},
   "outputs": [],
   "source": []
  }
 ],
 "metadata": {
  "kernelspec": {
   "display_name": "Python 3",
   "language": "python",
   "name": "python3"
  },
  "language_info": {
   "codemirror_mode": {
    "name": "ipython",
    "version": 3
   },
   "file_extension": ".py",
   "mimetype": "text/x-python",
   "name": "python",
   "nbconvert_exporter": "python",
   "pygments_lexer": "ipython3",
   "version": "3.7.2"
  }
 },
 "nbformat": 4,
 "nbformat_minor": 2
}
