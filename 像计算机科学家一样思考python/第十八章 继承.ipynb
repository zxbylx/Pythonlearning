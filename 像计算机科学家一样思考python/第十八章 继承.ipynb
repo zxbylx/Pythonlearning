{
 "cells": [
  {
   "cell_type": "code",
   "execution_count": 1,
   "metadata": {},
   "outputs": [],
   "source": [
    "import operator #operator模块输出一系列对应python内部操作符的函数\n",
    "#用类定义扑克牌\n",
    "class Card(object):\n",
    "    '''Represents a standard playing card.'''\n",
    "    def __init__(self,suit=0,rank=2):\n",
    "        self.suit=suit\n",
    "        self.rank=rank\n",
    "    #为了将Card对象打印成人们阅读的形式，需要将整数编码映射成对应的大小和花色\n",
    "    suit_names=['Clubs','Diamonds','Hearts','Spades']\n",
    "    rank_names=[None,'Ace','2','3','4','5','6','7','8','9','10','Jack','Queen','King']\n",
    "    \n",
    "    def __str__(self):\n",
    "        return '%s of %s'%(Card.rank_names[self.rank],Card.suit_names[self.suit])\n",
    "    \n",
    "    #对比卡牌大小,通过__cmp__来重载内置操作符的行为\n",
    "    def __lt__(self, other):\n",
    "        \"\"\"Compares this card to other, first by suit, then rank.\n",
    "        returns: boolean\n",
    "        \"\"\"\n",
    "        t1 = self.suit, self.rank\n",
    "        t2 = other.suit, other.rank\n",
    "        return t1 < t2\n",
    "#     def __cmp__(self,other):\n",
    "#         #检查花色\n",
    "#         if self.suit>other.suit:\n",
    "#             return 1\n",
    "#         if self.suit<other.suit:\n",
    "#             return -1\n",
    "        \n",
    "#         #花色相同，检查大小\n",
    "#         if self.rank>other.rank:\n",
    "#             return 1\n",
    "#         if self.rank<other.rank:\n",
    "#             return -1\n",
    "        \n",
    "#         #大小相同，平局\n",
    "#         return 0\n",
    "    \n",
    "    #可以使用元组和内置函数cmp进行比较，cmp在python3中不可用了，所以用operator代替，但是无法完全实现上述效果\n",
    "#     def __cmp__(self,other):\n",
    "#         t1=self.suit,self.rank\n",
    "#         t2=other.suit,other.rank\n",
    "#         return operator.le(t1,t2)\n"
   ]
  },
  {
   "cell_type": "code",
   "execution_count": 2,
   "metadata": {},
   "outputs": [
    {
     "name": "stdout",
     "output_type": "stream",
     "text": [
      "Jack of Hearts\n"
     ]
    }
   ],
   "source": [
    "queen_of_diamonds=Card(1,12)\n",
    "card1=Card(2,11)\n",
    "print(card1)"
   ]
  },
  {
   "cell_type": "code",
   "execution_count": 3,
   "metadata": {},
   "outputs": [
    {
     "data": {
      "text/plain": [
       "True"
      ]
     },
     "execution_count": 3,
     "metadata": {},
     "output_type": "execute_result"
    }
   ],
   "source": [
    "#对比卡牌\n",
    "queen_of_diamonds.__lt__(card1)"
   ]
  },
  {
   "cell_type": "code",
   "execution_count": 4,
   "metadata": {},
   "outputs": [],
   "source": [
    "#练习：为时间对象编写一个__cmp__方法。\n",
    "class Time(object):\n",
    "    '''Represents the time of day.\n",
    "    attributes:hour,minute,second\n",
    "    '''\n",
    "    def __init__(self,hour=0,minute=0,second=0):\n",
    "        self.hour=hour\n",
    "        self.minute=minute\n",
    "        self.second=second\n",
    "    def __str__(self):\n",
    "        return '%.2d:%.2d:%.2d'%(self.hour,self.minute,self.second)\n",
    "    def time_to_int(time):\n",
    "        minutes=time.hour*60+time.minute\n",
    "        seconds=minutes*60+time.second\n",
    "        return seconds\n",
    "    def __cmp__(self,other):\n",
    "        if self.time_to_int()-other.time_to_int()>0:\n",
    "            return 1\n",
    "        elif self.time_to_int()-other.time_to_int()<0:\n",
    "            return -1\n",
    "        else:\n",
    "            return 0\n"
   ]
  },
  {
   "cell_type": "code",
   "execution_count": 5,
   "metadata": {},
   "outputs": [
    {
     "data": {
      "text/plain": [
       "-1"
      ]
     },
     "execution_count": 5,
     "metadata": {},
     "output_type": "execute_result"
    }
   ],
   "source": [
    "a=Time(1,21)\n",
    "b=Time(2,12)\n",
    "a.__cmp__(b)"
   ]
  },
  {
   "cell_type": "code",
   "execution_count": 6,
   "metadata": {},
   "outputs": [],
   "source": [
    "import random\n",
    "# import sys\n",
    "# sys.setrecursionlimit(1000000)\n",
    "#定义牌组\n",
    "class Deck(object):\n",
    "    def __init__(self):\n",
    "        self.cards=[]\n",
    "        for suit in range(4):\n",
    "            for rank in range(1,14):\n",
    "                card=Card(suit,rank)\n",
    "                self.cards.append(card)\n",
    "    \n",
    "    #打印牌组\n",
    "    def __str__(self):\n",
    "        res=[]\n",
    "        for card in self.cards:\n",
    "            res.append(str(card))\n",
    "        return '\\n'.join(res)\n",
    "    #发牌\n",
    "    def pop_card(self):\n",
    "        return self.cards.pop()\n",
    "    #添加一个卡牌\n",
    "    def add_card(self,card):\n",
    "        self.cards.append(card)\n",
    "    #洗牌，random.shuffle将序列随机打乱顺序\n",
    "    def shuffle(self):\n",
    "        random.shuffle(self.cards)\n",
    "    #练习：编写一个Deck方法sort，使用列表方法sort来对一个Deck中的卡牌进行排序\n",
    "    def sort(self):\n",
    "        self.cards.sort()\n",
    "    #将继承后面代码封装起来成为一个方法move_cards，放到Deck中\n",
    "    def move_cards(self,hand,num):\n",
    "        for i in range(num):\n",
    "            hand.add_card(self.pop_card())\n",
    "    #练习：编写一个Deck方法deal_hand，接受两个形参，手牌的数量和每副手牌的牌数。它会根据形参创建新的Hand对象，按照每副手牌的拍数出牌，并返回一个Hand对象的列表\n",
    "    def deal_hands(self,num_hand,num_card):\n",
    "        hand_list=[]\n",
    "        for i in range(num_hand):\n",
    "            hand_i=Hand()\n",
    "            self.move_cards(hand_i,num_card)\n",
    "            hand_list.append(hand_i)\n",
    "            print(hand_i)\n",
    "        return hand_list\n",
    "            "
   ]
  },
  {
   "cell_type": "code",
   "execution_count": 7,
   "metadata": {},
   "outputs": [
    {
     "name": "stdout",
     "output_type": "stream",
     "text": [
      "Ace of Clubs\n",
      "2 of Clubs\n",
      "3 of Clubs\n",
      "4 of Clubs\n",
      "5 of Clubs\n",
      "6 of Clubs\n",
      "7 of Clubs\n",
      "8 of Clubs\n",
      "9 of Clubs\n",
      "10 of Clubs\n",
      "Jack of Clubs\n",
      "Queen of Clubs\n",
      "King of Clubs\n",
      "Ace of Diamonds\n",
      "2 of Diamonds\n",
      "3 of Diamonds\n",
      "4 of Diamonds\n",
      "5 of Diamonds\n",
      "6 of Diamonds\n",
      "7 of Diamonds\n",
      "8 of Diamonds\n",
      "9 of Diamonds\n",
      "10 of Diamonds\n",
      "Jack of Diamonds\n",
      "Queen of Diamonds\n",
      "King of Diamonds\n",
      "Ace of Hearts\n",
      "2 of Hearts\n",
      "3 of Hearts\n",
      "4 of Hearts\n",
      "5 of Hearts\n",
      "6 of Hearts\n",
      "7 of Hearts\n",
      "8 of Hearts\n",
      "9 of Hearts\n",
      "10 of Hearts\n",
      "Jack of Hearts\n",
      "Queen of Hearts\n",
      "King of Hearts\n",
      "Ace of Spades\n",
      "2 of Spades\n",
      "3 of Spades\n",
      "4 of Spades\n",
      "5 of Spades\n",
      "6 of Spades\n",
      "7 of Spades\n",
      "8 of Spades\n",
      "9 of Spades\n",
      "10 of Spades\n",
      "Jack of Spades\n",
      "Queen of Spades\n",
      "King of Spades\n"
     ]
    }
   ],
   "source": [
    "deck=Deck()\n",
    "print(deck)"
   ]
  },
  {
   "cell_type": "code",
   "execution_count": 8,
   "metadata": {},
   "outputs": [
    {
     "name": "stdout",
     "output_type": "stream",
     "text": [
      "2 of Clubs\n",
      "9 of Hearts\n",
      "Jack of Spades\n",
      "8 of Clubs\n",
      "10 of Diamonds\n",
      "8 of Diamonds\n",
      "7 of Clubs\n",
      "3 of Clubs\n",
      "6 of Spades\n",
      "2 of Diamonds\n",
      "Jack of Hearts\n",
      "Ace of Diamonds\n",
      "Queen of Spades\n",
      "2 of Spades\n",
      "10 of Clubs\n",
      "4 of Spades\n",
      "Jack of Diamonds\n",
      "7 of Hearts\n",
      "5 of Hearts\n",
      "10 of Spades\n",
      "Ace of Hearts\n",
      "6 of Hearts\n",
      "King of Hearts\n",
      "Queen of Clubs\n",
      "6 of Clubs\n",
      "9 of Clubs\n",
      "King of Diamonds\n",
      "Jack of Clubs\n",
      "Ace of Clubs\n",
      "4 of Diamonds\n",
      "9 of Spades\n",
      "3 of Diamonds\n",
      "King of Spades\n",
      "6 of Diamonds\n",
      "King of Clubs\n",
      "8 of Spades\n",
      "5 of Clubs\n",
      "Queen of Hearts\n",
      "3 of Hearts\n",
      "4 of Clubs\n",
      "5 of Diamonds\n",
      "7 of Diamonds\n",
      "10 of Hearts\n",
      "7 of Spades\n",
      "Queen of Diamonds\n",
      "4 of Hearts\n",
      "Ace of Spades\n",
      "2 of Hearts\n",
      "8 of Hearts\n",
      "3 of Spades\n",
      "5 of Spades\n",
      "9 of Diamonds\n"
     ]
    }
   ],
   "source": [
    "deck.shuffle()\n",
    "print(deck)"
   ]
  },
  {
   "cell_type": "code",
   "execution_count": 9,
   "metadata": {},
   "outputs": [
    {
     "name": "stdout",
     "output_type": "stream",
     "text": [
      "Ace of Clubs\n",
      "2 of Clubs\n",
      "3 of Clubs\n",
      "4 of Clubs\n",
      "5 of Clubs\n",
      "6 of Clubs\n",
      "7 of Clubs\n",
      "8 of Clubs\n",
      "9 of Clubs\n",
      "10 of Clubs\n",
      "Jack of Clubs\n",
      "Queen of Clubs\n",
      "King of Clubs\n",
      "Ace of Diamonds\n",
      "2 of Diamonds\n",
      "3 of Diamonds\n",
      "4 of Diamonds\n",
      "5 of Diamonds\n",
      "6 of Diamonds\n",
      "7 of Diamonds\n",
      "8 of Diamonds\n",
      "9 of Diamonds\n",
      "10 of Diamonds\n",
      "Jack of Diamonds\n",
      "Queen of Diamonds\n",
      "King of Diamonds\n",
      "Ace of Hearts\n",
      "2 of Hearts\n",
      "3 of Hearts\n",
      "4 of Hearts\n",
      "5 of Hearts\n",
      "6 of Hearts\n",
      "7 of Hearts\n",
      "8 of Hearts\n",
      "9 of Hearts\n",
      "10 of Hearts\n",
      "Jack of Hearts\n",
      "Queen of Hearts\n",
      "King of Hearts\n",
      "Ace of Spades\n",
      "2 of Spades\n",
      "3 of Spades\n",
      "4 of Spades\n",
      "5 of Spades\n",
      "6 of Spades\n",
      "7 of Spades\n",
      "8 of Spades\n",
      "9 of Spades\n",
      "10 of Spades\n",
      "Jack of Spades\n",
      "Queen of Spades\n",
      "King of Spades\n"
     ]
    }
   ],
   "source": [
    "deck.sort()\n",
    "print(deck)"
   ]
  },
  {
   "cell_type": "code",
   "execution_count": 10,
   "metadata": {},
   "outputs": [],
   "source": [
    "#关键点在于对重载操作符的理解\n",
    "#对sort排序的理解\n",
    "#搜索引擎的选择，GitHub的重要性\n",
    "#python2与python3的区别"
   ]
  },
  {
   "cell_type": "code",
   "execution_count": 11,
   "metadata": {},
   "outputs": [],
   "source": [
    "#继承：是一种能够定义一个新类对现有某个类稍作修改的语言特性\n",
    "class Hand(Deck):\n",
    "    '''Represents a hand of playing cards'''\n",
    "    def __init__(self,label=''):\n",
    "        self.cards=[]\n",
    "        self.label=label\n",
    "#     def move_cards(self,deck,num):\n",
    "#         for i in range(num):\n",
    "#             self.add_card(deck.pop_card())\n",
    "    \n"
   ]
  },
  {
   "cell_type": "code",
   "execution_count": 12,
   "metadata": {},
   "outputs": [
    {
     "name": "stdout",
     "output_type": "stream",
     "text": [
      "[]\n"
     ]
    }
   ],
   "source": [
    "hand=Hand('new hand')\n",
    "print(hand.cards)"
   ]
  },
  {
   "cell_type": "code",
   "execution_count": 13,
   "metadata": {},
   "outputs": [
    {
     "name": "stdout",
     "output_type": "stream",
     "text": [
      "new hand\n"
     ]
    }
   ],
   "source": [
    "print(hand.label)"
   ]
  },
  {
   "cell_type": "code",
   "execution_count": 14,
   "metadata": {},
   "outputs": [
    {
     "name": "stdout",
     "output_type": "stream",
     "text": [
      "King of Spades\n"
     ]
    }
   ],
   "source": [
    "deck=Deck()\n",
    "card=deck.pop_card()\n",
    "hand.add_card(card)\n",
    "print(hand)"
   ]
  },
  {
   "cell_type": "code",
   "execution_count": 15,
   "metadata": {},
   "outputs": [],
   "source": [
    "#将上面代码封装起来成为一个方法move_cards，放到Deck中,测试了一下写到Hand中也是一样的，修改下参数顺序就可以了\n",
    "# deck.move_cards(hand,3)"
   ]
  },
  {
   "cell_type": "code",
   "execution_count": 16,
   "metadata": {},
   "outputs": [
    {
     "name": "stdout",
     "output_type": "stream",
     "text": [
      "Queen of Spades\n",
      "Jack of Spades\n",
      "10 of Spades\n",
      "9 of Spades\n",
      "8 of Spades\n",
      "7 of Spades\n"
     ]
    },
    {
     "data": {
      "text/plain": [
       "[<__main__.Hand at 0x1f2d2228630>,\n",
       " <__main__.Hand at 0x1f2d2228978>,\n",
       " <__main__.Hand at 0x1f2d22287b8>]"
      ]
     },
     "execution_count": 16,
     "metadata": {},
     "output_type": "execute_result"
    }
   ],
   "source": [
    "deck.deal_hands(3,2)"
   ]
  },
  {
   "cell_type": "code",
   "execution_count": 17,
   "metadata": {},
   "outputs": [],
   "source": [
    "#调试\n",
    "#使用下面函数，它接收一个对象和一个方法名（字符串形式），并返回提供这个方法的定义的类\n",
    "def find_defining_class(obj,meth_name):\n",
    "    for ty in type(obj).mro():\n",
    "        if meth_name in ty.__dict__:\n",
    "            return ty"
   ]
  },
  {
   "cell_type": "code",
   "execution_count": 18,
   "metadata": {},
   "outputs": [
    {
     "name": "stdout",
     "output_type": "stream",
     "text": [
      "<class '__main__.Deck'>\n"
     ]
    }
   ],
   "source": [
    "hand=Hand()\n",
    "print(find_defining_class(hand,'shuffle'))\n"
   ]
  },
  {
   "cell_type": "code",
   "execution_count": 19,
   "metadata": {},
   "outputs": [
    {
     "data": {
      "text/plain": [
       "'This module contains code from\\nThink Python by Allen B. Downey\\nhttp://thinkpython.com\\n\\nCopyright 2012 Allen B. Downey\\nLicense: GNU GPLv3 http://www.gnu.org/licenses/gpl.html\\n\\n'"
      ]
     },
     "execution_count": 19,
     "metadata": {},
     "output_type": "execute_result"
    }
   ],
   "source": [
    "#数据封装\n",
    "\"\"\"This module contains code from\n",
    "Think Python by Allen B. Downey\n",
    "http://thinkpython.com\n",
    "\n",
    "Copyright 2012 Allen B. Downey\n",
    "License: GNU GPLv3 http://www.gnu.org/licenses/gpl.html\n",
    "\n",
    "\"\"\"\n",
    "\n",
    "# import sys\n",
    "# import string\n",
    "# import random\n",
    "\n",
    "# # global variables\n",
    "# suffix_map = {}        # map from prefixes to a list of suffixes\n",
    "# prefix = ()            # current tuple of words\n",
    "\n",
    "\n",
    "# def process_file(filename, order=2):\n",
    "#     \"\"\"Reads a file and performs Markov analysis.\n",
    "\n",
    "#     filename: string\n",
    "#     order: integer number of words in the prefix\n",
    "\n",
    "#     Returns: map from prefix to list of possible suffixes.\n",
    "#     \"\"\"\n",
    "#     fp = open(filename)\n",
    "#     skip_gutenberg_header(fp)\n",
    "\n",
    "#     for line in fp:\n",
    "#         for word in line.rstrip().split():\n",
    "#             process_word(word, order)\n",
    "\n",
    "\n",
    "# def skip_gutenberg_header(fp):\n",
    "#     \"\"\"Reads from fp until it finds the line that ends the header.\n",
    "\n",
    "#     fp: open file object\n",
    "#     \"\"\"\n",
    "#     for line in fp:\n",
    "#         if line.startswith('*END*THE SMALL PRINT!'):\n",
    "#             break\n",
    "\n",
    "\n",
    "# def process_word(word, order=2):\n",
    "#     \"\"\"Processes each word.\n",
    "\n",
    "#     word: string\n",
    "#     order: integer\n",
    "\n",
    "#     During the first few iterations, all we do is store up the words; \n",
    "#     after that we start adding entries to the dictionary.\n",
    "#     \"\"\"\n",
    "#     global prefix\n",
    "#     if len(prefix) < order:\n",
    "#         prefix += (word,)\n",
    "#         return\n",
    "\n",
    "#     try:\n",
    "#         suffix_map[prefix].append(word)\n",
    "#     except KeyError:\n",
    "#         # if there is no entry for this prefix, make one\n",
    "#         suffix_map[prefix] = [word]\n",
    "\n",
    "#     prefix = shift(prefix, word)\n",
    "\n",
    "\n",
    "# def random_text(n=100):\n",
    "#     \"\"\"Generates random wordsfrom the analyzed text.\n",
    "\n",
    "#     Starts with a random prefix from the dictionary.\n",
    "\n",
    "#     n: number of words to generate\n",
    "#     \"\"\"\n",
    "#     # choose a random prefix (not weighted by frequency)\n",
    "#     start = random.choice(suffix_map.keys())\n",
    "    \n",
    "#     for i in range(n):\n",
    "#         suffixes = suffix_map.get(start, None)\n",
    "#         if suffixes == None:\n",
    "#             # if the start isn't in map, we got to the end of the\n",
    "#             # original text, so we have to start again.\n",
    "#             random_text(n-i)\n",
    "#             return\n",
    "\n",
    "#         # choose a random suffix\n",
    "#         word = random.choice(suffixes)\n",
    "#         print word,\n",
    "#         start = shift(start, word)\n",
    "\n",
    "\n",
    "# def shift(t, word):\n",
    "#     \"\"\"Forms a new tuple by removing the head and adding word to the tail.\n",
    "\n",
    "#     t: tuple of strings\n",
    "#     word: string\n",
    "\n",
    "#     Returns: tuple of strings\n",
    "#     \"\"\"\n",
    "#     return t[1:] + (word,)\n",
    "\n",
    "\n",
    "# def main(name, filename='', n=100, order=2, *args):\n",
    "#     try:\n",
    "#         n = int(n)\n",
    "#         order = int(order)\n",
    "#     except:\n",
    "#         print 'Usage: randomtext.py filename [# of words] [prefix length]'\n",
    "#     else: \n",
    "#         process_file(filename, order)\n",
    "#         random_text(n)\n",
    "\n",
    "\n",
    "# if __name__ == '__main__':\n",
    "#     main(*sys.argv)"
   ]
  },
  {
   "cell_type": "code",
   "execution_count": 20,
   "metadata": {},
   "outputs": [],
   "source": [
    "#练习：将上面代码按照描述的步骤将全局变量封装为一个叫做Markov的新类的属性\n",
    "import sys\n",
    "import string\n",
    "import random\n",
    "\n",
    "class Markov(object):\n",
    "    def __init__(self):\n",
    "        self.suffix_map={}\n",
    "        self.prefix=()\n",
    "    def process_word(self,word,order=2):\n",
    "        if len(self.prefix)<order:\n",
    "            self.prefix+=(word,)\n",
    "            return\n",
    "        try:\n",
    "            self.suffix_map[self.prefix].append(word)\n",
    "        except KeyError:\n",
    "            #如果这个前缀不存在，创建一项\n",
    "            self.suffix_map[self.prefix]=[word]\n",
    "        self.prefix=shift(self.prefix,word)\n",
    "        \n",
    "    def random_text(self,n=100):\n",
    "        \"\"\"Generates random wordsfrom the analyzed text.\n",
    "\n",
    "        Starts with a random prefix from the dictionary.\n",
    "\n",
    "        n: number of words to generate\n",
    "        \"\"\"\n",
    "        # choose a random prefix (not weighted by frequency)\n",
    "        start = random.choice(self.suffix_map.keys())\n",
    "\n",
    "        for i in range(n):\n",
    "            suffixes = self.suffix_map.get(start, None)\n",
    "            if suffixes == None:\n",
    "                # if the start isn't in map, we got to the end of the\n",
    "                # original text, so we have to start again.\n",
    "                random_text(n-i)\n",
    "                return\n",
    "\n",
    "            # choose a random suffix\n",
    "            word = random.choice(suffixes)\n",
    "            print(word,)\n",
    "            start = shift(start, word)\n",
    "    def skip_gutenberg_header(self,fp):\n",
    "        \"\"\"Reads from fp until it finds the line that ends the header.\n",
    "\n",
    "        fp: open file object\n",
    "        \"\"\"\n",
    "        for line in fp:\n",
    "            if line.startswith('*END*THE SMALL PRINT!'):\n",
    "                break\n",
    "    def process_file(self,filename, order=2):\n",
    "        \"\"\"Reads a file and performs Markov analysis.\n",
    "\n",
    "        filename: string\n",
    "        order: integer number of words in the prefix\n",
    "\n",
    "        Returns: map from prefix to list of possible suffixes.\n",
    "        \"\"\"\n",
    "        fp = open(filename)\n",
    "        self.skip_gutenberg_header(fp)\n",
    "\n",
    "        for line in fp:\n",
    "            for word in line.rstrip().split():\n",
    "                self.process_word(word, order)"
   ]
  },
  {
   "cell_type": "code",
   "execution_count": 36,
   "metadata": {},
   "outputs": [
    {
     "name": "stdout",
     "output_type": "stream",
     "text": [
      "pair 44.53%\n",
      "None 49.85%\n",
      "straight 0.44%\n",
      "twopair 4.74%\n",
      "flush 0.24%\n",
      "fullhouse 0.17%\n",
      "four_of_a_kind 0.03%\n"
     ]
    }
   ],
   "source": [
    "#练习:在下面类中添加方法has_pair,has_twopair等，它们根据手牌是否达到相对应的条件返回True或False，你的代码应当对任意数量的手牌都适用\n",
    "# from Card import *\n",
    "\n",
    "\n",
    "class PokerHand(Hand):\n",
    "    #按照从最大同花顺到对子降序写这个列表，当classify方法识别出一个就直接返回，就可以解决返回最大的组合问题了\n",
    "    all_labels=['straight_flush','four_of_a_kind','fullhouse','flush','straight','twopair','pair']\n",
    "\n",
    "    def suit_hist(self):\n",
    "        \"\"\"Builds a histogram of the suits that appear in the hand.\n",
    "\n",
    "        Stores the result in attribute suits.\n",
    "        \"\"\"\n",
    "        self.suits = {}\n",
    "        for card in self.cards:\n",
    "            self.suits[card.suit] = self.suits.get(card.suit, 0) + 1\n",
    "\n",
    "    def has_flush(self):\n",
    "        \"\"\"Returns True if the hand has a flush, False otherwise.\n",
    "      \n",
    "        Note that this works correctly for hands with more than 5 cards.\n",
    "        \"\"\"\n",
    "        self.suit_hist()\n",
    "        for val in self.suits.values():\n",
    "            if val >= 5:\n",
    "                return True\n",
    "        return False\n",
    "    #练习：添加判断手牌中是否有对子的方法\n",
    "    def rank_hist(self):#需要先将卡牌按照大小计数\n",
    "        self.ranks={}\n",
    "        for card in self.cards:\n",
    "            self.ranks[card.rank]=self.ranks.get(card.rank,0)+1\n",
    "    def has_pair(self):\n",
    "        '''Return True if the hand has a pair,False otherwise'''\n",
    "        self.rank_hist()\n",
    "        for val in self.ranks.values():\n",
    "            if val>=2:\n",
    "                return True\n",
    "        return False\n",
    "    #添加判断手牌中是否有两个对子的方法\n",
    "    def has_twopair(self):\n",
    "        self.rank_hist()\n",
    "        count=0\n",
    "        for val in self.ranks.values():\n",
    "            if val==2:\n",
    "                count+=1\n",
    "            if val==4:\n",
    "                count+=2\n",
    "        if count>=2:\n",
    "            return True\n",
    "        return False\n",
    "    #添加判断手牌中是否有满堂红的方法（针对5张牌）\n",
    "    def has_fullhouse(self):\n",
    "        self.rank_hist()\n",
    "        if len(self.ranks)!=2:\n",
    "            return False\n",
    "        for val in self.ranks.values():\n",
    "            if val==3 or val==2:\n",
    "                return True\n",
    "            return False\n",
    "    #添加判断手牌中是否有四条的方法\n",
    "    def has_four_of_a_kind(self):\n",
    "        self.rank_hist()\n",
    "        for val in self.ranks.values():\n",
    "            if val==4:\n",
    "                return True\n",
    "        return False\n",
    "    #添加判断手牌中是否有顺子的方法\n",
    "    def has_straight(self):\n",
    "        self.rank_hist()\n",
    "        ranks=self.ranks.copy()\n",
    "        ranks[14]=ranks.get(1,0)\n",
    "        \n",
    "        return self.in_a_row(ranks,5)\n",
    "    def in_a_row(self,ranks,n):\n",
    "        count=0\n",
    "        for i in range(1,15):\n",
    "            if ranks.get(i,0):\n",
    "                count+=1\n",
    "                if count==5:\n",
    "                    return True\n",
    "            else:\n",
    "                count=0\n",
    "        return False\n",
    "    \n",
    "    #添加判断手牌中是否有同花顺的方法\n",
    "    def has_straight_flush(self):\n",
    "        self.rank_hist()\n",
    "        self.suit_hist()\n",
    "        if self.has_flush() and self.has_straight():\n",
    "            return True\n",
    "        return False\n",
    "    #练习：编写一个函数classify(分类)，它可以弄清楚一副手牌中出现的最大的组合，并设置label属性\n",
    "    def classify(self):\n",
    "        self.rank_hist()\n",
    "        self.suit_hist()\n",
    "        self.labels=[]\n",
    "        for label in PokerHand.all_labels:\n",
    "            f=getattr(self,'has_'+label)\n",
    "            if f():\n",
    "                self.labels.append(label)\n",
    "                return self.labels[0] #从列表中识别出来的第一个组合就返回，那么就返回的肯定是最大的组合了\n",
    "\n",
    "if __name__ == '__main__':\n",
    "    # make a deck\n",
    "#     deck = Deck()\n",
    "#     deck.shuffle()\n",
    "\n",
    "#     # deal the cards and classify the hands\n",
    "#     for i in range(7):\n",
    "#         hand = PokerHand()\n",
    "#         deck.move_cards(hand, 7)\n",
    "# #         hand.sort()\n",
    "# #         print(hand)\n",
    "# #         print(hand.has_flush())\n",
    "# #         print(hand.has_pair())\n",
    "# #         print(hand.has_twopair())\n",
    "# #         print(hand.has_fullhouse())\n",
    "# #         print(hand.has_four_of_a_kind())\n",
    "# #         print(hand.has_straight())\n",
    "# #         print(hand.has_straight_flush())\n",
    "#         print(hand.classify())\n",
    "#         print('')\n",
    "    t=[]\n",
    "    n=1000\n",
    "    for i in range(n):\n",
    "        \n",
    "        deck=Deck()\n",
    "        deck.shuffle()\n",
    "        \n",
    "        for j in range(10):\n",
    "            hand=PokerHand()\n",
    "            deck.move_cards(hand,5)\n",
    "            t.append(hand.classify())\n",
    "#     return t\n",
    "    times={}\n",
    "    for s in t:\n",
    "        times[s]=times.get(s,0)+1\n",
    "#     return times\n",
    "    for key,val in times.items():\n",
    "        val='%.2f%%'%(float(val/(n*10))*100)\n",
    "        print(key,val)\n",
    "#             print(hand.classify())\n",
    "#             print('')\n",
    "            "
   ]
  },
  {
   "cell_type": "code",
   "execution_count": 22,
   "metadata": {},
   "outputs": [
    {
     "ename": "SyntaxError",
     "evalue": "invalid syntax (<ipython-input-22-ef8949cdc3b1>, line 2)",
     "output_type": "error",
     "traceback": [
      "\u001b[1;36m  File \u001b[1;32m\"<ipython-input-22-ef8949cdc3b1>\"\u001b[1;36m, line \u001b[1;32m2\u001b[0m\n\u001b[1;33m    def classify()\u001b[0m\n\u001b[1;37m                  ^\u001b[0m\n\u001b[1;31mSyntaxError\u001b[0m\u001b[1;31m:\u001b[0m invalid syntax\n"
     ]
    }
   ],
   "source": [
    "#练习：编写一个函数classify(分类)，它可以弄清楚一副手牌中出现的最大的组合，并设置label属性\n",
    "def classify()"
   ]
  },
  {
   "cell_type": "code",
   "execution_count": null,
   "metadata": {},
   "outputs": [],
   "source": []
  }
 ],
 "metadata": {
  "kernelspec": {
   "display_name": "Python 3",
   "language": "python",
   "name": "python3"
  }
 },
 "nbformat": 4,
 "nbformat_minor": 2
}
